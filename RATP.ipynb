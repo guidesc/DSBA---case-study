{
 "cells": [
  {
   "cell_type": "code",
   "execution_count": 1,
   "metadata": {
    "scrolled": true
   },
   "outputs": [
    {
     "name": "stderr",
     "output_type": "stream",
     "text": [
      "b'Skipping line 4313: expected 10 fields, saw 11\\n'\n",
      "b'Skipping line 1089: expected 10 fields, saw 11\\nSkipping line 4918: expected 10 fields, saw 11\\nSkipping line 7193: expected 10 fields, saw 11\\n'\n",
      "b'Skipping line 11823: expected 10 fields, saw 11\\nSkipping line 12791: expected 10 fields, saw 11\\nSkipping line 17202: expected 10 fields, saw 11\\nSkipping line 17564: expected 10 fields, saw 11\\nSkipping line 17567: expected 10 fields, saw 11\\nSkipping line 17835: expected 10 fields, saw 11\\nSkipping line 17848: expected 10 fields, saw 11\\nSkipping line 18418: expected 10 fields, saw 11\\nSkipping line 18430: expected 10 fields, saw 11\\nSkipping line 18509: expected 10 fields, saw 11\\nSkipping line 18599: expected 10 fields, saw 11\\nSkipping line 18880: expected 10 fields, saw 11\\nSkipping line 18920: expected 10 fields, saw 11\\nSkipping line 19707: expected 10 fields, saw 11\\n'\n",
      "b'Skipping line 4081: expected 10 fields, saw 11\\nSkipping line 10409: expected 10 fields, saw 11\\nSkipping line 14147: expected 10 fields, saw 11\\nSkipping line 16851: expected 10 fields, saw 11\\nSkipping line 17961: expected 10 fields, saw 11\\nSkipping line 18574: expected 10 fields, saw 11\\nSkipping line 18658: expected 10 fields, saw 11\\nSkipping line 21004: expected 10 fields, saw 11\\nSkipping line 21895: expected 10 fields, saw 11\\nSkipping line 23069: expected 10 fields, saw 11\\n'\n",
      "b'Skipping line 5159: expected 10 fields, saw 11\\nSkipping line 7458: expected 10 fields, saw 11\\nSkipping line 7672: expected 10 fields, saw 11\\n'\n",
      "b'Skipping line 428: expected 10 fields, saw 11\\n'\n"
     ]
    }
   ],
   "source": [
    "import pandas as pd\n",
    "import seaborn as sns\n",
    "import matplotlib.pyplot as plt\n",
    "import numpy as np\n",
    "\n",
    "# ---- Summary of the twitter accounts -----#\n",
    "# RER_A\n",
    "# RERB\n",
    "# RERC_SNCF --< Infotrafic\n",
    "# RERD_SNCF --< Infotrafic\n",
    "# RERE_SNCF --< Infotrafic\n",
    "# Ligne12_RATP --< from 1 to 14 lines\n",
    "\n",
    "line_list = ['RER_A', 'RER_B', 'RER_C', 'RER_D', 'RER_E','Ligne1_RATP', 'Ligne2_RATP', 'Ligne3_RATP', 'Ligne4_RATP',\n",
    " 'Ligne5_RATP', 'Ligne6_RATP', 'Ligne7_RATP', 'Ligne8_RATP', 'Ligne9_RATP', 'Ligne10_RATP', 'Ligne11_RATP', 'Ligne12_RATP',\n",
    " 'Ligne13_RATP', 'Ligne14_RATP' ]\n",
    "\n",
    "file_path = \"data/\"\n",
    "line_dict = dict()\n",
    "for item in line_list:\n",
    "    line_dict[item] = pd.read_csv(file_path + item +'.csv', sep=';',error_bad_lines=False)\n",
    "    \n"
   ]
  },
  {
   "cell_type": "code",
   "execution_count": 2,
   "metadata": {},
   "outputs": [
    {
     "name": "stdout",
     "output_type": "stream",
     "text": [
      "RER_A (21028, 10)\n",
      "RER_B (15540, 10)\n",
      "RER_C (23086, 10)\n",
      "RER_D (23306, 10)\n",
      "RER_E (8497, 10)\n",
      "Ligne1_RATP (7436, 10)\n",
      "Ligne2_RATP (5518, 10)\n",
      "Ligne3_RATP (5043, 10)\n",
      "Ligne4_RATP (9091, 10)\n",
      "Ligne5_RATP (5998, 10)\n",
      "Ligne6_RATP (6977, 10)\n",
      "Ligne7_RATP (5963, 10)\n",
      "Ligne8_RATP (5903, 10)\n",
      "Ligne9_RATP (5642, 10)\n",
      "Ligne10_RATP (3950, 10)\n",
      "Ligne11_RATP (3812, 10)\n",
      "Ligne12_RATP (6335, 10)\n",
      "Ligne13_RATP (6992, 10)\n",
      "Ligne14_RATP (4927, 10)\n"
     ]
    }
   ],
   "source": [
    "# Check how many items we have\n",
    "for k,v in line_dict.items():\n",
    "    print(k, v.shape)\n",
    "    #print(v.head())"
   ]
  },
  {
   "cell_type": "code",
   "execution_count": 3,
   "metadata": {
    "scrolled": true
   },
   "outputs": [
    {
     "data": {
      "text/html": [
       "<div>\n",
       "<style>\n",
       "    .dataframe thead tr:only-child th {\n",
       "        text-align: right;\n",
       "    }\n",
       "\n",
       "    .dataframe thead th {\n",
       "        text-align: left;\n",
       "    }\n",
       "\n",
       "    .dataframe tbody tr th {\n",
       "        vertical-align: top;\n",
       "    }\n",
       "</style>\n",
       "<table border=\"1\" class=\"dataframe\">\n",
       "  <thead>\n",
       "    <tr style=\"text-align: right;\">\n",
       "      <th></th>\n",
       "      <th>username</th>\n",
       "      <th>date</th>\n",
       "      <th>retweets</th>\n",
       "      <th>favorites</th>\n",
       "      <th>text</th>\n",
       "      <th>geo</th>\n",
       "      <th>mentions</th>\n",
       "      <th>hashtags</th>\n",
       "      <th>id</th>\n",
       "      <th>permalink</th>\n",
       "    </tr>\n",
       "  </thead>\n",
       "  <tbody>\n",
       "    <tr>\n",
       "      <th>0</th>\n",
       "      <td>Ligne11_RATP</td>\n",
       "      <td>2017-10-10 12:19</td>\n",
       "      <td>0</td>\n",
       "      <td>0</td>\n",
       "      <td>Bonjour, la #Ligne11 fonctionne correctement, ...</td>\n",
       "      <td>NaN</td>\n",
       "      <td>NaN</td>\n",
       "      <td>#Ligne11</td>\n",
       "      <td>9.176961e+17</td>\n",
       "      <td>https://twitter.com/Ligne11_RATP/status/917696...</td>\n",
       "    </tr>\n",
       "    <tr>\n",
       "      <th>1</th>\n",
       "      <td>Ligne11_RATP</td>\n",
       "      <td>2017-10-09 14:22</td>\n",
       "      <td>0</td>\n",
       "      <td>1</td>\n",
       "      <td>Demain, le trafic sera normal sur votre #ligne...</td>\n",
       "      <td>NaN</td>\n",
       "      <td>NaN</td>\n",
       "      <td>#ligne11 #RATP #greve10octobre</td>\n",
       "      <td>9.173647e+17</td>\n",
       "      <td>https://twitter.com/Ligne11_RATP/status/917364...</td>\n",
       "    </tr>\n",
       "    <tr>\n",
       "      <th>2</th>\n",
       "      <td>Ligne11_RATP</td>\n",
       "      <td>2017-10-08 12:58</td>\n",
       "      <td>0</td>\n",
       "      <td>1</td>\n",
       "      <td>Retour à un trafic régulier sur l'ensemble de ...</td>\n",
       "      <td>NaN</td>\n",
       "      <td>NaN</td>\n",
       "      <td>#Ligne11 #RATP</td>\n",
       "      <td>9.169811e+17</td>\n",
       "      <td>https://twitter.com/Ligne11_RATP/status/916981...</td>\n",
       "    </tr>\n",
       "    <tr>\n",
       "      <th>3</th>\n",
       "      <td>Ligne11_RATP</td>\n",
       "      <td>2017-10-08 12:51</td>\n",
       "      <td>1</td>\n",
       "      <td>0</td>\n",
       "      <td>12:51, Retour à un trafic régulier sur l'ensem...</td>\n",
       "      <td>NaN</td>\n",
       "      <td>NaN</td>\n",
       "      <td>#Ligne11 #RATP</td>\n",
       "      <td>9.169795e+17</td>\n",
       "      <td>https://twitter.com/Ligne11_RATP/status/916979...</td>\n",
       "    </tr>\n",
       "    <tr>\n",
       "      <th>4</th>\n",
       "      <td>Ligne11_RATP</td>\n",
       "      <td>2017-10-08 12:45</td>\n",
       "      <td>1</td>\n",
       "      <td>0</td>\n",
       "      <td>12:43, le trafic reprend progressivement (coli...</td>\n",
       "      <td>NaN</td>\n",
       "      <td>NaN</td>\n",
       "      <td>#RATP #Ligne11</td>\n",
       "      <td>9.169778e+17</td>\n",
       "      <td>https://twitter.com/Ligne11_RATP/status/916977...</td>\n",
       "    </tr>\n",
       "  </tbody>\n",
       "</table>\n",
       "</div>"
      ],
      "text/plain": [
       "       username              date  retweets  favorites  \\\n",
       "0  Ligne11_RATP  2017-10-10 12:19         0          0   \n",
       "1  Ligne11_RATP  2017-10-09 14:22         0          1   \n",
       "2  Ligne11_RATP  2017-10-08 12:58         0          1   \n",
       "3  Ligne11_RATP  2017-10-08 12:51         1          0   \n",
       "4  Ligne11_RATP  2017-10-08 12:45         1          0   \n",
       "\n",
       "                                                text  geo mentions  \\\n",
       "0  Bonjour, la #Ligne11 fonctionne correctement, ...  NaN      NaN   \n",
       "1  Demain, le trafic sera normal sur votre #ligne...  NaN      NaN   \n",
       "2  Retour à un trafic régulier sur l'ensemble de ...  NaN      NaN   \n",
       "3  12:51, Retour à un trafic régulier sur l'ensem...  NaN      NaN   \n",
       "4  12:43, le trafic reprend progressivement (coli...  NaN      NaN   \n",
       "\n",
       "                         hashtags            id  \\\n",
       "0                        #Ligne11  9.176961e+17   \n",
       "1  #ligne11 #RATP #greve10octobre  9.173647e+17   \n",
       "2                  #Ligne11 #RATP  9.169811e+17   \n",
       "3                  #Ligne11 #RATP  9.169795e+17   \n",
       "4                  #RATP #Ligne11  9.169778e+17   \n",
       "\n",
       "                                           permalink  \n",
       "0  https://twitter.com/Ligne11_RATP/status/917696...  \n",
       "1  https://twitter.com/Ligne11_RATP/status/917364...  \n",
       "2  https://twitter.com/Ligne11_RATP/status/916981...  \n",
       "3  https://twitter.com/Ligne11_RATP/status/916979...  \n",
       "4  https://twitter.com/Ligne11_RATP/status/916977...  "
      ]
     },
     "execution_count": 3,
     "metadata": {},
     "output_type": "execute_result"
    }
   ],
   "source": [
    "line_dict['Ligne11_RATP'].head()"
   ]
  },
  {
   "cell_type": "code",
   "execution_count": 4,
   "metadata": {},
   "outputs": [
    {
     "data": {
      "text/html": [
       "<div>\n",
       "<style>\n",
       "    .dataframe thead tr:only-child th {\n",
       "        text-align: right;\n",
       "    }\n",
       "\n",
       "    .dataframe thead th {\n",
       "        text-align: left;\n",
       "    }\n",
       "\n",
       "    .dataframe tbody tr th {\n",
       "        vertical-align: top;\n",
       "    }\n",
       "</style>\n",
       "<table border=\"1\" class=\"dataframe\">\n",
       "  <thead>\n",
       "    <tr style=\"text-align: right;\">\n",
       "      <th></th>\n",
       "      <th>username</th>\n",
       "      <th>date</th>\n",
       "      <th>retweets</th>\n",
       "      <th>favorites</th>\n",
       "      <th>text</th>\n",
       "      <th>geo</th>\n",
       "      <th>mentions</th>\n",
       "      <th>hashtags</th>\n",
       "      <th>id</th>\n",
       "      <th>permalink</th>\n",
       "    </tr>\n",
       "  </thead>\n",
       "  <tbody>\n",
       "    <tr>\n",
       "      <th>0</th>\n",
       "      <td>RERB</td>\n",
       "      <td>2017-10-12 19:16</td>\n",
       "      <td>0</td>\n",
       "      <td>0</td>\n",
       "      <td>Toutes les missions sont rendues omnibus. Bonn...</td>\n",
       "      <td>NaN</td>\n",
       "      <td>NaN</td>\n",
       "      <td>NaN</td>\n",
       "      <td>9.185259e+17</td>\n",
       "      <td>https://twitter.com/RERB/status/91852587036885...</td>\n",
       "    </tr>\n",
       "    <tr>\n",
       "      <th>1</th>\n",
       "      <td>RERB</td>\n",
       "      <td>2017-10-12 18:51</td>\n",
       "      <td>1</td>\n",
       "      <td>0</td>\n",
       "      <td>Bonsoir, le trafic reprend progressivement mai...</td>\n",
       "      <td>NaN</td>\n",
       "      <td>NaN</td>\n",
       "      <td>NaN</td>\n",
       "      <td>9.185196e+17</td>\n",
       "      <td>https://twitter.com/RERB/status/91851956429560...</td>\n",
       "    </tr>\n",
       "    <tr>\n",
       "      <th>2</th>\n",
       "      <td>RERB</td>\n",
       "      <td>2017-10-12 18:45</td>\n",
       "      <td>1</td>\n",
       "      <td>0</td>\n",
       "      <td>Il est également possible de prendre un train ...</td>\n",
       "      <td>NaN</td>\n",
       "      <td>NaN</td>\n",
       "      <td>NaN</td>\n",
       "      <td>9.185180e+17</td>\n",
       "      <td>https://twitter.com/RERB/status/91851797897883...</td>\n",
       "    </tr>\n",
       "    <tr>\n",
       "      <th>3</th>\n",
       "      <td>RERB</td>\n",
       "      <td>2017-10-12 18:40</td>\n",
       "      <td>0</td>\n",
       "      <td>0</td>\n",
       "      <td>Bonsoir, oui des trains circulent au départ d'...</td>\n",
       "      <td>NaN</td>\n",
       "      <td>NaN</td>\n",
       "      <td>NaN</td>\n",
       "      <td>9.185168e+17</td>\n",
       "      <td>https://twitter.com/RERB/status/91851677975599...</td>\n",
       "    </tr>\n",
       "    <tr>\n",
       "      <th>4</th>\n",
       "      <td>RERB</td>\n",
       "      <td>2017-10-12 18:36</td>\n",
       "      <td>0</td>\n",
       "      <td>1</td>\n",
       "      <td>Bonsoir, l'incident est terminé, le trafic rep...</td>\n",
       "      <td>NaN</td>\n",
       "      <td>NaN</td>\n",
       "      <td>NaN</td>\n",
       "      <td>9.185157e+17</td>\n",
       "      <td>https://twitter.com/RERB/status/91851566784590...</td>\n",
       "    </tr>\n",
       "  </tbody>\n",
       "</table>\n",
       "</div>"
      ],
      "text/plain": [
       "  username              date  retweets  favorites  \\\n",
       "0     RERB  2017-10-12 19:16         0          0   \n",
       "1     RERB  2017-10-12 18:51         1          0   \n",
       "2     RERB  2017-10-12 18:45         1          0   \n",
       "3     RERB  2017-10-12 18:40         0          0   \n",
       "4     RERB  2017-10-12 18:36         0          1   \n",
       "\n",
       "                                                text  geo mentions hashtags  \\\n",
       "0  Toutes les missions sont rendues omnibus. Bonn...  NaN      NaN      NaN   \n",
       "1  Bonsoir, le trafic reprend progressivement mai...  NaN      NaN      NaN   \n",
       "2  Il est également possible de prendre un train ...  NaN      NaN      NaN   \n",
       "3  Bonsoir, oui des trains circulent au départ d'...  NaN      NaN      NaN   \n",
       "4  Bonsoir, l'incident est terminé, le trafic rep...  NaN      NaN      NaN   \n",
       "\n",
       "             id                                          permalink  \n",
       "0  9.185259e+17  https://twitter.com/RERB/status/91852587036885...  \n",
       "1  9.185196e+17  https://twitter.com/RERB/status/91851956429560...  \n",
       "2  9.185180e+17  https://twitter.com/RERB/status/91851797897883...  \n",
       "3  9.185168e+17  https://twitter.com/RERB/status/91851677975599...  \n",
       "4  9.185157e+17  https://twitter.com/RERB/status/91851566784590...  "
      ]
     },
     "execution_count": 4,
     "metadata": {},
     "output_type": "execute_result"
    }
   ],
   "source": [
    "line_dict['RER_B'].head()"
   ]
  },
  {
   "cell_type": "code",
   "execution_count": 24,
   "metadata": {},
   "outputs": [
    {
     "data": {
      "text/plain": [
       "2987     Ce chien a été retrouvé ce matin, vers 7h, sur le quai du #RERA à Nanterre Préfecture ... RT pour diffuser ou MP si vous le reconnaissez! pic.twitter.com/ZVP3enuq7A\n",
       "107                               1 incident électrique au niveau de la caténaire s'est produit à La Défense, bruyant, ms ss danger pour les voyageurs. Trafic perturbé #RERA\n",
       "784          [ #TravauxEteRERA ] Les travaux sont terminés ! Le #RERA circule à nouveau d'un bout à l'autre de la ligne. Merci pour votre patience pic.twitter.com/v3afwgWyNI\n",
       "16061                            Arrêt de travail spontané en raison de l'agression d'un conducteur à Torcy hier soir. Trafic très fortement perturbé sur l'ensemble du #RERA\n",
       "16046                                             Depuis 7h52 fermeture des gares #RERA #RATP sans correspondance. Celles avec correspondances sont ouvertes sauf accès RER A\n",
       "Name: text, dtype: object"
      ]
     },
     "execution_count": 24,
     "metadata": {},
     "output_type": "execute_result"
    }
   ],
   "source": [
    "# sort by retweets --> a dog is missing??? comes up first???\n",
    "line_dict['RER_A'].sort_values(by='retweets',ascending = False)['text'].head()"
   ]
  },
  {
   "cell_type": "code",
   "execution_count": 204,
   "metadata": {
    "collapsed": true
   },
   "outputs": [],
   "source": [
    "# find all station names --> gares\n",
    "df_st = pd.read_csv('data\\gares.csv', delimiter=';')\n",
    "gares = df_st.nomptar.str.split('(')\n",
    "gares = [x[0].rstrip(' ') for x in gares] # la defense has a lagging space"
   ]
  },
  {
   "cell_type": "code",
   "execution_count": 202,
   "metadata": {
    "scrolled": true
   },
   "outputs": [],
   "source": [
    "# change display to 200\n",
    "## Step 1: delete all \n",
    "## Théo, Bonjour, @, Tom, Emma\n",
    "def clean_data(input):\n",
    "    pd.options.display.max_colwidth = 200\n",
    "    to_drop = [\"Bonjour\", \"@\",'Théo', 'Emma','Bjr','Inès',\n",
    "               'Lana','vous','soirée','Oui','estimée', \n",
    "               'Travaux prévus','journée'] # all about conversations \n",
    "    output = input[~input.text.str.contains('|'.join(to_drop))]\n",
    "    return output\n",
    "output = clean_data(line_dict['RER_A'])"
   ]
  },
  {
   "cell_type": "code",
   "execution_count": 203,
   "metadata": {},
   "outputs": [
    {
     "data": {
      "text/plain": [
       "[('incident', 2179),\n",
       " ('ralenti', 1613),\n",
       " ('retour', 1380),\n",
       " ('voyageur', 1297),\n",
       " ('colis', 1284),\n",
       " ('suspect', 1275),\n",
       " ('terminé', 1250),\n",
       " ('régulier', 1219),\n",
       " ('interrompu', 1005),\n",
       " ('poissy', 912),\n",
       " ('panne', 775),\n",
       " ('perturbé', 663),\n",
       " ('rame', 661),\n",
       " ('stationne', 596),\n",
       " ('travaux', 584),\n",
       " ('gare', 567),\n",
       " ('chessy', 546),\n",
       " ('nation', 529),\n",
       " ('train', 502),\n",
       " ('auber', 494)]"
      ]
     },
     "execution_count": 203,
     "metadata": {},
     "output_type": "execute_result"
    }
   ],
   "source": [
    "# top 20 frequent words\n",
    "\n",
    "import nltk\n",
    "def words_freq(output):\n",
    "    moby_tokens = nltk.word_tokenize(output.text.str.lower().str.cat(sep = ' '))\n",
    "    text1 = nltk.Text(moby_tokens)\n",
    "    nltk.FreqDist(text1).most_common(20)\n",
    "    stopwords = nltk.corpus.stopwords.words('french')\n",
    "    stopwords = stopwords + ['rera','ratp','ligne','entre',\n",
    "                             'http','les','vers','dir','trafic']\n",
    "    words_except_stop_dist = nltk.FreqDist(w for w in text1 if w not \n",
    "                                           in stopwords and w.isalpha() )\n",
    "    return words_except_stop_dist\n",
    "words_freq(output).most_common(20)"
   ]
  },
  {
   "cell_type": "code",
   "execution_count": 205,
   "metadata": {},
   "outputs": [],
   "source": [
    "def gare_fq(output):\n",
    "    gare_freq = Counter()\n",
    "    for gare in gares:\n",
    "        gare_freq[gare] = output.text.str.lower().str.contains(gare.lower()).sum()\n",
    "    return gare_freq\n",
    "gare_freq = gare_fq(output)"
   ]
  },
  {
   "cell_type": "code",
   "execution_count": 206,
   "metadata": {
    "scrolled": true
   },
   "outputs": [
    {
     "data": {
      "text/plain": [
       "[('Poissy', 1011),\n",
       " ('Nation', 574),\n",
       " ('Auber', 524),\n",
       " ('Vincennes', 375),\n",
       " ('La Défense', 218),\n",
       " ('Torcy', 213),\n",
       " ('Les Halles', 196),\n",
       " ('Gare de Lyon', 163),\n",
       " ('Cergy-Le-Haut', 156),\n",
       " ('Val de Fontenay', 150),\n",
       " ('Rueil-Malmaison', 138),\n",
       " ('Noisy-le-Grand', 119),\n",
       " ('Châtelet', 115),\n",
       " ('Maisons-Laffitte', 96),\n",
       " ('Europe', 87),\n",
       " ('Sartrouville', 85),\n",
       " (\"Val d'europe\", 82),\n",
       " ('Varenne', 70),\n",
       " ('Saint-Germain-en-Laye', 67),\n",
       " ('Nanterre-Préfecture', 49)]"
      ]
     },
     "execution_count": 206,
     "metadata": {},
     "output_type": "execute_result"
    }
   ],
   "source": [
    "# Top 20\n",
    "gare_freq.most_common(20)"
   ]
  },
  {
   "cell_type": "code",
   "execution_count": 207,
   "metadata": {},
   "outputs": [
    {
     "data": {
      "text/plain": [
       "14334                               04:48, le trafic est interrompu entre Neuville-Universite et Cergy-Le-Haut (incident technique) #RATP #RERA\n",
       "10385                               07:30, le trafic est ralenti de Neuville-Universite vers Cergy-Le-Haut (panne de signalisation) #RATP #RERA\n",
       "2191                  En raison d'une panne de signalisation, le trafic est perturbé entre les gares Cergy-Le-Haut et Nanterre-Prefecture #RERA\n",
       "18598                         12:31, le trafic reprend progressivement entre Maisons-Laffitte et Cergy-Le-Haut (incident technique) #RATP #RERA\n",
       "19054                                 17:01, le trafic est interrompu entre Acheres-Ville et Cergy-Le-Haut (panne de signalisation) #RATP #RERA\n",
       "15974    17:58, le trafic est ralenti entre Cergy-Le-Haut et Nanterre-Prefecture. Retour à la normale à 20:00. (incident technique) #RATP #RERA\n",
       "16295                              10:50, le trafic est ralenti entre La Defense (Grande Arche) et Cergy-Le-Haut (panne électrique) #RATP #RERA\n",
       "13755                 13:42, le trafic est interrompu entre La Defense (Grande Arche) et Cergy-Le-Haut (accident grave de voyageur) #RATP #RERA\n",
       "5401                           19:52, le trafic est interrompu entre Maisons-Laffitte et Cergy-Le-Haut (accident grave de voyageur) #RATP #RERA\n",
       "5707                                   10:16, le trafic est interrompu entre Maisons-Laffitte et Cergy-Le-Haut (panne de caténaire) #RATP #RERA\n",
       "Name: text, dtype: object"
      ]
     },
     "execution_count": 207,
     "metadata": {},
     "output_type": "execute_result"
    }
   ],
   "source": [
    "# sometimes, cergy-le-haut, naterre may be due to their direction --> \n",
    "# result is true, many items are entre XXX et XXX\n",
    "output.text[output.text.str.contains('Cergy-Le-Haut')].sample(10)"
   ]
  },
  {
   "cell_type": "code",
   "execution_count": 208,
   "metadata": {},
   "outputs": [
    {
     "data": {
      "text/plain": [
       "[('incident', 2179),\n",
       " ('ralenti', 1613),\n",
       " ('retour', 1380),\n",
       " ('voyageur', 1297),\n",
       " ('colis', 1284),\n",
       " ('suspect', 1275),\n",
       " ('terminé', 1250),\n",
       " ('régulier', 1219),\n",
       " ('interrompu', 1005),\n",
       " ('poissy', 912),\n",
       " ('panne', 775),\n",
       " ('perturbé', 663),\n",
       " ('rame', 661),\n",
       " ('stationne', 596),\n",
       " ('travaux', 584),\n",
       " ('gare', 567),\n",
       " ('chessy', 546),\n",
       " ('nation', 529),\n",
       " ('train', 502),\n",
       " ('auber', 494)]"
      ]
     },
     "execution_count": 208,
     "metadata": {},
     "output_type": "execute_result"
    }
   ],
   "source": [
    "## Now let's try RER B\n",
    "output_b = clean_data(line_dict['RER_B'])\n",
    "words_freq(output).most_common(20)"
   ]
  },
  {
   "cell_type": "code",
   "execution_count": 209,
   "metadata": {},
   "outputs": [
    {
     "data": {
      "text/plain": [
       "[('Gare du Nord', 632),\n",
       " ('Robinson', 527),\n",
       " ('Palaiseau', 237),\n",
       " ('Les Halles', 235),\n",
       " ('Antony', 155),\n",
       " ('Bourg-la-Reine', 129),\n",
       " ('Mitry-Claye', 124),\n",
       " ('Châtelet', 108),\n",
       " ('Laplace', 106),\n",
       " ('Luxembourg', 96),\n",
       " ('Massy-Palaiseau', 87),\n",
       " ('Aulnay-sous-Bois', 79),\n",
       " ('Parc des Expositions', 60),\n",
       " ('Le Bourget', 58),\n",
       " ('Port Royal', 56),\n",
       " ('Cité', 49),\n",
       " ('Denfert-Rochereau', 34),\n",
       " ('Orsay-Ville', 34),\n",
       " ('La Plaine-Stade de France', 31),\n",
       " ('Sceaux', 30)]"
      ]
     },
     "execution_count": 209,
     "metadata": {},
     "output_type": "execute_result"
    }
   ],
   "source": [
    "gare_fq(output_b).most_common(20)"
   ]
  },
  {
   "cell_type": "code",
   "execution_count": 212,
   "metadata": {},
   "outputs": [
    {
     "name": "stdout",
     "output_type": "stream",
     "text": [
      "The 20 most frequent words are: \n",
      "[('incident', 2179), ('ralenti', 1613), ('retour', 1380), ('voyageur', 1297), ('colis', 1284), ('suspect', 1275), ('terminé', 1250), ('régulier', 1219), ('interrompu', 1005), ('poissy', 912), ('panne', 775), ('perturbé', 663), ('rame', 661), ('stationne', 596), ('travaux', 584), ('gare', 567), ('chessy', 546), ('nation', 529), ('train', 502), ('auber', 494)]\n",
      "\n",
      "\n",
      "The 20 most frequent stations are: \n",
      "[('Poissy', 1011), ('Nation', 574), ('Auber', 524), ('Vincennes', 375), ('La Défense', 218), ('Torcy', 213), ('Les Halles', 196), ('Gare de Lyon', 163), ('Cergy-Le-Haut', 156), ('Val de Fontenay', 150), ('Rueil-Malmaison', 138), ('Noisy-le-Grand', 119), ('Châtelet', 115), ('Maisons-Laffitte', 96), ('Europe', 87), ('Sartrouville', 85), (\"Val d'europe\", 82), ('Varenne', 70), ('Saint-Germain-en-Laye', 67), ('Nanterre-Préfecture', 49)]\n"
     ]
    }
   ],
   "source": [
    "# what if we write a summary function \n",
    "def summary(input):\n",
    "    output = clean_data(input)\n",
    "    print()\n",
    "    print ('The 20 most frequent words are: ')\n",
    "    print(words_freq(output).most_common(20))\n",
    "    print('\\n')\n",
    "    print('The 20 most frequent stations are: ')\n",
    "    print(gare_fq(output).most_common(20))\n",
    "    print('\\n')\n",
    "summary(line_dict['RER_A'])"
   ]
  },
  {
   "cell_type": "code",
   "execution_count": 227,
   "metadata": {},
   "outputs": [
    {
     "name": "stdout",
     "output_type": "stream",
     "text": [
      "RER_A \n",
      "\n",
      "The 20 most frequent words are: \n",
      "[('incident', 2179), ('ralenti', 1613), ('retour', 1380), ('voyageur', 1297), ('colis', 1284), ('suspect', 1275), ('terminé', 1250), ('régulier', 1219), ('interrompu', 1005), ('poissy', 912), ('panne', 775), ('perturbé', 663), ('rame', 661), ('stationne', 596), ('travaux', 584), ('gare', 567), ('chessy', 546), ('nation', 529), ('train', 502), ('auber', 494)]\n",
      "\n",
      "\n",
      "The 20 most frequent stations are: \n",
      "[('Poissy', 1011), ('Nation', 574), ('Auber', 524), ('Vincennes', 375), ('La Défense', 218), ('Torcy', 213), ('Les Halles', 196), ('Gare de Lyon', 163), ('Cergy-Le-Haut', 156), ('Val de Fontenay', 150), ('Rueil-Malmaison', 138), ('Noisy-le-Grand', 119), ('Châtelet', 115), ('Maisons-Laffitte', 96), ('Europe', 87), ('Sartrouville', 85), (\"Val d'europe\", 82), ('Varenne', 70), ('Saint-Germain-en-Laye', 67), ('Nanterre-Préfecture', 49)]\n",
      "RER_B \n",
      "\n",
      "The 20 most frequent words are: \n",
      "[('rerb', 5928), ('incident', 1473), ('gare', 1185), ('perturbé', 1169), ('retour', 1067), ('terminé', 976), ('voyageur', 940), ('régulier', 927), ('nord', 730), ('colis', 729), ('suspect', 727), ('aeroport', 723), ('interrompu', 713), ('cdg', 680), ('panne', 632), ('ralenti', 560), ('train', 496), ('robinson', 489), ('mitry', 484), ('claye', 428)]\n",
      "\n",
      "\n",
      "The 20 most frequent stations are: \n",
      "[('Gare du Nord', 632), ('Robinson', 527), ('Palaiseau', 237), ('Les Halles', 235), ('Antony', 155), ('Bourg-la-Reine', 129), ('Mitry-Claye', 124), ('Châtelet', 108), ('Laplace', 106), ('Luxembourg', 96), ('Massy-Palaiseau', 87), ('Aulnay-sous-Bois', 79), ('Parc des Expositions', 60), ('Le Bourget', 58), ('Port Royal', 56), ('Cité', 49), ('Denfert-Rochereau', 34), ('Orsay-Ville', 34), ('La Plaine-Stade de France', 31), ('Sceaux', 30)]\n",
      "RER_C \n",
      "\n",
      "Something is wrong\n",
      "RER_D \n",
      "\n",
      "The 20 most frequent words are: \n",
      "[('rerd', 8460), ('rer', 4577), ('infotrafic', 2960), ('retour', 1689), ('normale', 1599), ('paris', 1333), ('train', 1042), ('melun', 971), ('gare', 963), ('corbeil', 928), ('incident', 858), ('panne', 856), ('interrompu', 835), ('reprise', 808), ('ralenti', 784), ('sens', 717), ('perturbé', 645), ('villeneuve', 607), ('maj', 582), ('suite', 577)]\n",
      "\n",
      "\n",
      "The 20 most frequent stations are: \n",
      "[('Malesherbes', 499), ('Gare de Lyon', 406), ('Châtelet', 356), ('Villiers', 297), ('Gare du Nord', 144), ('Saint-Georges', 103), ('Les Halles', 88), ('Couronnes', 74), ('Nation', 44), ('Temple', 24), ('Nationale', 23), ('Opéra', 21), ('Blanche', 12), ('Robinson', 9), ('Ternes', 8), ('Volontaires', 5), ('Cité', 4), ('Bercy', 4), ('Saint-Fargeau', 3), ('Les Sablons', 2)]\n",
      "RER_E \n",
      "\n",
      "The 20 most frequent words are: \n",
      "[('rere', 2589), ('infotrafic', 1567), ('e', 912), ('rer', 891), ('haussmann', 609), ('incident', 463), ('tournan', 457), ('maj', 355), ('ralenti', 337), ('train', 324), ('axe', 313), ('interrompu', 292), ('magenta', 284), ('trains', 282), ('chelles', 271), ('retour', 252), ('reprise', 252), ('normale', 246), ('min', 245), ('villiers', 233)]\n",
      "\n",
      "\n",
      "The 20 most frequent stations are: \n",
      "[('Villiers', 458), ('Saint-Lazare', 111), ('Nation', 91), ('Val de Fontenay', 62), ('Nationale', 17), (\"Gare de l'Est\", 12), ('Auber', 8), ('Blanche', 5), ('Torcy', 4), ('Opéra', 3), ('Vincennes', 3), ('Bonne Nouvelle', 2), ('Champigny', 2), ('La Défense', 1), ('Temple', 1), ('Cité', 1), ('Liberté', 1), ('Rome', 1), ('Volontaires', 1), ('Ternes', 1)]\n",
      "Ligne1_RATP \n",
      "\n",
      "The 20 most frequent words are: \n",
      "[('incident', 1463), ('technique', 774), ('retour', 624), ('ralenti', 569), ('terminé', 568), ('interrompu', 559), ('régulier', 550), ('defense', 445), ('vincennes', 400), ('station', 380), ('grande', 368), ('arche', 360), ('chateau', 320), ('voyageur', 283), ('panne', 274), ('rame', 253), ('reprend', 230), ('matériel', 230), ('normal', 229), ('fermée', 229)]\n",
      "\n",
      "\n",
      "The 20 most frequent stations are: \n",
      "[('Vincennes', 388), ('Nation', 221), ('Concorde', 185), ('Gare de Lyon', 127), ('Porte Maillot', 116), ('George V', 88), ('La Défense', 83), ('Bastille', 77), ('Château de Vincennes', 41), ('Louvre-Rivoli', 41), ('Hôtel de Ville', 36), ('Tuileries', 35), ('Châtelet', 30), ('Les Sablons', 25), ('Pont de Neuilly', 25), ('Argentine', 25), ('Opéra', 18), ('Gare du Nord', 16), ('Blanche', 16), ('Palais-Royal', 15)]\n",
      "Ligne2_RATP \n",
      "\n",
      "The 20 most frequent words are: \n",
      "[('incident', 819), ('voyageur', 548), ('retour', 525), ('terminé', 482), ('régulier', 481), ('ralenti', 440), ('interrompu', 284), ('nation', 269), ('quais', 249), ('rame', 231), ('station', 227), ('dauphine', 195), ('malaise', 194), ('porte', 191), ('stationne', 180), ('colis', 174), ('suspect', 173), ('marechal', 160), ('lattre', 160), ('tassigny', 160)]\n",
      "\n",
      "\n",
      "The 20 most frequent stations are: \n",
      "[('Nation', 274), ('Porte Dauphine', 188), ('Jaurès', 111), ('Barbès-Rochechouart', 82), ('Blanche', 54), ('Anvers', 51), ('La Chapelle', 44), ('Pigalle', 38), ('Stalingrad', 37), ('Belleville', 30), ('Colonel Fabien', 28), ('Avron', 27), ('Victor Hugo', 19), ('Gare du Nord', 18), ('Villiers', 16), ('Rome', 15), ('Ternes', 15), ('Couronnes', 13), ('Robinson', 13), ('Châtelet', 9)]\n",
      "Ligne3_RATP \n",
      "\n",
      "Something is wrong\n",
      "Ligne4_RATP \n",
      "\n",
      "The 20 most frequent words are: \n",
      "[('incident', 1597), ('ralenti', 1126), ('retour', 1041), ('régulier', 941), ('voyageur', 927), ('terminé', 920), ('colis', 868), ('suspect', 867), ('interrompu', 759), ('montrouge', 552), ('mairie', 528), ('clignancourt', 464), ('pte', 443), ('technique', 407), ('malaise', 394), ('travaux', 385), ('reprend', 357), ('station', 349), ('rame', 341), ('progressivement', 339)]\n",
      "\n",
      "\n",
      "The 20 most frequent stations are: \n",
      "[('Mairie de Montrouge', 516), ('Vavin', 279), ('Barbès-Rochechouart', 74), ('Gare du Nord', 72), ('Raspail', 46), ('Châtelet', 45), (\"Gare de l'Est\", 43), ('Les Halles', 38), ('Porte de Clignancourt', 35), ('Saint-Michel', 34), ('Odéon', 29), ('Cité', 28), (\"Porte d'Orléans\", 26), ('Cadet', 23), ('Château Rouge', 23), ('Denfert-Rochereau', 22), ('Saint-Placide', 20), ('Simplon', 16), ('Saint-Sulpice', 15), ('Saint-Germain des Prés', 13)]\n",
      "Ligne5_RATP \n",
      "\n",
      "The 20 most frequent words are: \n",
      "[('incident', 1125), ('ralenti', 727), ('retour', 722), ('régulier', 680), ('terminé', 653), ('voyageur', 506), ('place', 346), ('interrompu', 330), ('technique', 259), ('bastille', 249), ('colis', 235), ('suspect', 233), ('gare', 225), ('panne', 214), ('malaise', 213), ('station', 205), ('rame', 181), ('travaux', 155), ('voie', 147), ('stationne', 136)]\n",
      "\n",
      "\n",
      "The 20 most frequent stations are: \n",
      "[(\"Place d'Italie\", 309), ('Bastille', 250), ('Jaurès', 123), ('Gare du Nord', 112), ('République', 52), ('Oberkampf', 34), ('Stalingrad', 32), (\"Gare de l'Est\", 30), ('Campo-Formio', 26), ('Eglise de Pantin', 21), ('Bobigny-Pantin', 18), ('Richard-Lenoir', 16), ('Quai de la Rapée', 14), ('Hoche', 14), ('Opéra', 13), ('Robinson', 13), ('Ourcq', 12), ('Bobigny-Pablo-Picasso', 10), ('Nation', 9), ('Saint-Marcel', 6)]\n",
      "Ligne6_RATP \n",
      "\n",
      "The 20 most frequent words are: \n",
      "[('incident', 1072), ('retour', 759), ('régulier', 698), ('ralenti', 687), ('terminé', 681), ('colis', 483), ('suspect', 482), ('interrompu', 465), ('voyageur', 438), ('panne', 430), ('etoile', 388), ('nation', 320), ('station', 309), ('place', 281), ('rame', 270), ('technique', 237), ('matériel', 230), ('stationne', 211), ('reprend', 203), ('progressivement', 190)]\n",
      "\n",
      "\n",
      "The 20 most frequent stations are: \n",
      "[('Nation', 348), ('La Motte-Picquet-Grenelle', 201), (\"Place d'Italie\", 195), ('Raspail', 177), ('Daumesnil', 141), ('Bercy', 104), ('Dupleix', 66), ('Passy', 63), ('Bir-Hakeim', 52), ('Pasteur', 41), ('Cambronne', 39), ('Trocadéro', 33), ('Quai de la Gare', 31), ('Corvisart', 30), ('Glacière', 23), ('Picpus', 22), ('Nationale', 22), ('Dugommier', 21), ('Kléber', 20), ('Boissière', 18)]\n",
      "Ligne7_RATP \n",
      "\n",
      "The 20 most frequent words are: \n",
      "[('incident', 1013), ('retour', 710), ('régulier', 676), ('terminé', 669), ('ralenti', 592), ('voyageur', 588), ('interrompu', 411), ('colis', 337), ('suspect', 336), ('panne', 329), ('rame', 311), ('stationne', 246), ('malaise', 230), ('matériel', 219), ('mairie', 213), ('place', 184), ('technique', 179), ('reprend', 169), ('station', 166), ('progressivement', 163)]\n",
      "\n",
      "\n",
      "The 20 most frequent stations are: \n",
      "[(\"Mairie d'Ivry\", 211), ('Blanche', 125), ('Pont Neuf', 119), (\"Place d'Italie\", 114), ('Maison Blanche', 114), ('Jaurès', 81), ('Stalingrad', 56), ('Auber', 46), ('Villiers', 39), (\"Gare de l'Est\", 26), ('Châtelet', 21), ('Pont Marie', 20), (\"Porte d'Ivry\", 18), ('Gare du Nord', 18), ('Jussieu', 16), ('Riquet', 16), ('Tolbiac', 16), (\"Porte d'Italie\", 15), ('Pyramides', 14), ('Cadet', 14)]\n",
      "Ligne8_RATP \n",
      "\n",
      "The 20 most frequent words are: \n"
     ]
    },
    {
     "name": "stdout",
     "output_type": "stream",
     "text": [
      "[('incident', 1020), ('retour', 696), ('régulier', 659), ('terminé', 644), ('ralenti', 608), ('voyageur', 521), ('panne', 417), ('interrompu', 350), ('lac', 350), ('pointe', 343), ('rame', 314), ('balard', 306), ('matériel', 263), ('station', 261), ('colis', 247), ('suspect', 247), ('stationne', 242), ('technique', 212), ('malaise', 195), ('concorde', 163)]\n",
      "\n",
      "\n",
      "The 20 most frequent stations are: \n",
      "[('Pointe du Lac', 342), ('Balard', 306), ('Concorde', 163), ('Maisons-Alfort-Les Juilliottes', 110), ('La Motte-Picquet-Grenelle', 89), ('Invalides', 89), ('République', 48), ('Daumesnil', 30), ('Ecole Militaire', 30), ('Bastille', 28), ('Opéra', 24), ('Madeleine', 21), ('Charenton-Ecoles', 21), ('Lourmel', 16), ('Filles du Calvaire', 13), ('Montgallet', 13), ('Liberté', 12), ('Michel Bizot', 11), ('Chemin Vert', 11), ('Porte de Charenton', 11)]\n",
      "Ligne9_RATP \n",
      "\n",
      "The 20 most frequent words are: \n",
      "[('incident', 856), ('retour', 594), ('régulier', 535), ('terminé', 530), ('voyageur', 510), ('ralenti', 503), ('montreuil', 364), ('interrompu', 308), ('panne', 268), ('station', 264), ('rame', 261), ('pont', 260), ('mairie', 256), ('colis', 241), ('suspect', 241), ('sevres', 229), ('stationne', 195), ('pte', 187), ('malaise', 178), ('matériel', 158)]\n",
      "\n",
      "\n",
      "The 20 most frequent stations are: \n",
      "[('Oberkampf', 122), ('Nation', 122), ('Miromesnil', 50), ('Rome', 50), ('Trocadéro', 44), ('République', 37), ('Iéna', 35), ('Voltaire', 29), ('Opéra', 21), ('Pont de Sèvres', 19), ('La Muette', 18), ('Rue des Boulets', 18), ('Mairie de Montreuil', 17), ('Saint-Augustin', 17), ('Buzenval', 16), ('Ranelagh', 16), ('Bonne Nouvelle', 15), ('Charonne', 13), ('Porte de Montreuil', 11), ('Exelmans', 11)]\n",
      "Ligne10_RATP \n",
      "\n",
      "The 20 most frequent words are: \n",
      "[('incident', 392), ('retour', 311), ('régulier', 267), ('terminé', 267), ('ralenti', 224), ('gare', 214), ('austerlitz', 196), ('interrompu', 179), ('panne', 171), ('voyageur', 166), ('suspect', 156), ('colis', 155), ('pt', 145), ('matériel', 136), ('duroc', 118), ('rame', 102), ('match', 88), ('stationne', 82), ('porte', 81), ('bastille', 70)]\n",
      "\n",
      "\n",
      "The 20 most frequent stations are: \n",
      "[('Duroc', 120), (\"Porte d'Auteuil\", 72), ('Bastille', 70), ('Auber', 19), ('La Motte-Picquet-Grenelle', 15), (\"Gare d'Austerlitz\", 13), ('Vaneau', 12), ('Jussieu', 10), ('Opéra', 8), ('Robinson', 7), ('Mabillon', 7), ('Gare du Nord', 6), ('Blanche', 6), ('Passy', 5), ('Nation', 5), ('Boulogne Pont de Saint-Cloud', 5), ('Madeleine', 4), ('Mirabeau', 4), ('La Défense', 3), ('Denfert-Rochereau', 3)]\n",
      "Ligne11_RATP \n",
      "\n",
      "The 20 most frequent words are: \n",
      "[('incident', 378), ('retour', 238), ('régulier', 211), ('terminé', 211), ('lilas', 182), ('interrompu', 170), ('ralenti', 167), ('voyageur', 158), ('mairie', 150), ('technique', 119), ('belleville', 112), ('station', 108), ('chatelet', 96), ('colis', 82), ('suspect', 82), ('panne', 80), ('reprend', 71), ('progressivement', 67), ('rame', 66), ('voie', 59)]\n",
      "\n",
      "\n",
      "The 20 most frequent stations are: \n",
      "[('Belleville', 114), ('République', 46), ('Hôtel de Ville', 25), ('Châtelet', 24), ('Gare du Nord', 17), ('Rambuteau', 17), ('Goncourt', 16), ('Robinson', 12), ('Mairie des Lilas', 10), ('Pyrénées', 10), ('Jourdain', 10), ('Opéra', 9), ('Concorde', 8), ('Nation', 6), ('Les Halles', 5), ('Télégraphe', 5), ('Passy', 4), ('Blanche', 4), ('Europe', 4), ('Porte des Lilas', 4)]\n",
      "Ligne12_RATP \n",
      "\n",
      "The 20 most frequent words are: \n",
      "[('incident', 924), ('ralenti', 654), ('retour', 634), ('voyageur', 616), ('régulier', 602), ('terminé', 598), ('colis', 391), ('suspect', 391), ('interrompu', 379), ('front', 293), ('populaire', 293), ('mairie', 292), ('panne', 288), ('rame', 257), ('voie', 220), ('matériel', 204), ('stationne', 193), ('malaise', 190), ('concorde', 187), ('station', 184)]\n",
      "\n",
      "\n",
      "The 20 most frequent stations are: \n",
      "[('Front Populaire', 292), (\"Mairie d'Issy\", 286), ('Concorde', 187), ('Madeleine', 45), ('Pasteur', 39), ('Nation', 37), ('Nationale', 35), ('Saint-Lazare', 27), ('Cadet', 24), ('La Chapelle', 23), ('Marx-Dormoy', 23), ('Abbesses', 22), ('Pigalle', 21), ('Assemblée Nationale', 19), ('Rue du Bac', 19), ('Porte de la Chapelle', 17), ('Jules Joffrin', 16), ('Vaugirard', 15), ('Convention', 14), ('Opéra', 12)]\n",
      "Ligne13_RATP \n",
      "\n",
      "The 20 most frequent words are: \n",
      "[('incident', 1129), ('ralenti', 842), ('retour', 776), ('régulier', 741), ('terminé', 726), ('voyageur', 609), ('panne', 419), ('interrompu', 399), ('colis', 362), ('suspect', 362), ('montrouge', 330), ('chatillon', 324), ('malaise', 288), ('rame', 259), ('matériel', 232), ('technique', 221), ('station', 216), ('stationne', 199), ('courtilles', 185), ('reprend', 184)]\n",
      "\n",
      "\n",
      "The 20 most frequent stations are: \n",
      "[('La Fourche', 141), ('Saint-Lazare', 132), ('Invalides', 102), ('Villiers', 100), ('Varenne', 67), ('Miromesnil', 48), ('Rome', 48), ('Duroc', 23), ('Garibaldi', 12), ('Brochant', 12), ('Plaisance', 11), ('Châtillon Montrouge', 10), ('Châtelet', 9), ('Opéra', 9), ('Place de Clichy', 9), ('Concorde', 8), ('Nation', 8), ('Porte de Vanves', 7), ('Basilique de Saint-Denis', 7), ('Les Agnettes', 6)]\n",
      "Ligne14_RATP \n",
      "\n",
      "The 20 most frequent words are: \n",
      "[('incident', 661), ('interrompu', 365), ('retour', 343), ('terminé', 316), ('régulier', 300), ('technique', 258), ('panne', 208), ('gare', 199), ('matériel', 188), ('ralenti', 180), ('olympiades', 178), ('madeleine', 176), ('lyon', 170), ('voyageur', 154), ('station', 135), ('reprend', 128), ('mitterrand', 118), ('progressivement', 117), ('chatelet', 116), ('travaux', 102)]\n",
      "\n",
      "\n",
      "The 20 most frequent stations are: \n",
      "[('Saint-Lazare', 236), ('Olympiades', 182), ('Madeleine', 175), ('Gare de Lyon', 172), ('Châtelet', 36), ('Pyramides', 27), ('Bercy', 21), ('Gare du Nord', 16), ('Mairie de Saint-Ouen', 15), ('Opéra', 14), ('Robinson', 11), ('Europe', 10), ('Concorde', 8), ('Nation', 8), ('Blanche', 8), ('Auber', 8), ('La Défense', 6), ('Cour Saint-Emilion', 6), ('Les Halles', 5), ('Passy', 4)]\n"
     ]
    }
   ],
   "source": [
    "# Then get a global view !!!\n",
    "for k, v in line_dict.items():\n",
    "    try:\n",
    "        print(k,'\\n')\n",
    "        summary(v)\n",
    "    except:\n",
    "        print('Something is wrong')\n",
    "        pass"
   ]
  },
  {
   "cell_type": "markdown",
   "metadata": {},
   "source": [
    "From here we can see, we should defeinitely clean data for \n",
    "1. rer c\n",
    "2. all rer except a,b\n",
    "3. Ligne3_RATP --> don't quite understand\n",
    "4. "
   ]
  },
  {
   "cell_type": "code",
   "execution_count": null,
   "metadata": {
    "collapsed": true
   },
   "outputs": [],
   "source": []
  }
 ],
 "metadata": {
  "kernelspec": {
   "display_name": "Python 3",
   "language": "python",
   "name": "python3"
  },
  "language_info": {
   "codemirror_mode": {
    "name": "ipython",
    "version": 3
   },
   "file_extension": ".py",
   "mimetype": "text/x-python",
   "name": "python",
   "nbconvert_exporter": "python",
   "pygments_lexer": "ipython3",
   "version": "3.6.1"
  }
 },
 "nbformat": 4,
 "nbformat_minor": 2
}
