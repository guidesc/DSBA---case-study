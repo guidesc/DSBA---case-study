{
 "cells": [
  {
   "cell_type": "markdown",
   "metadata": {
    "collapsed": true
   },
   "source": [
    "# Import data from web scrawlers\n",
    "\n",
    "Here we first build a web scrawler to scrap all the trafic information from the official twitter accounts of RATP, SNCF "
   ]
  },
  {
   "cell_type": "code",
   "execution_count": 1,
   "metadata": {
    "scrolled": true
   },
   "outputs": [
    {
     "name": "stderr",
     "output_type": "stream",
     "text": [
      "b'Skipping line 4313: expected 10 fields, saw 11\\n'\n",
      "b'Skipping line 1089: expected 10 fields, saw 11\\nSkipping line 4918: expected 10 fields, saw 11\\nSkipping line 7193: expected 10 fields, saw 11\\n'\n",
      "b'Skipping line 11823: expected 10 fields, saw 11\\nSkipping line 12791: expected 10 fields, saw 11\\nSkipping line 17202: expected 10 fields, saw 11\\nSkipping line 17564: expected 10 fields, saw 11\\nSkipping line 17567: expected 10 fields, saw 11\\nSkipping line 17835: expected 10 fields, saw 11\\nSkipping line 17848: expected 10 fields, saw 11\\nSkipping line 18418: expected 10 fields, saw 11\\nSkipping line 18430: expected 10 fields, saw 11\\nSkipping line 18509: expected 10 fields, saw 11\\nSkipping line 18599: expected 10 fields, saw 11\\nSkipping line 18880: expected 10 fields, saw 11\\nSkipping line 18920: expected 10 fields, saw 11\\nSkipping line 19707: expected 10 fields, saw 11\\n'\n",
      "b'Skipping line 4081: expected 10 fields, saw 11\\nSkipping line 10409: expected 10 fields, saw 11\\nSkipping line 14147: expected 10 fields, saw 11\\nSkipping line 16851: expected 10 fields, saw 11\\nSkipping line 17961: expected 10 fields, saw 11\\nSkipping line 18574: expected 10 fields, saw 11\\nSkipping line 18658: expected 10 fields, saw 11\\nSkipping line 21004: expected 10 fields, saw 11\\nSkipping line 21895: expected 10 fields, saw 11\\nSkipping line 23069: expected 10 fields, saw 11\\n'\n",
      "b'Skipping line 5159: expected 10 fields, saw 11\\nSkipping line 7458: expected 10 fields, saw 11\\nSkipping line 7672: expected 10 fields, saw 11\\n'\n",
      "b'Skipping line 428: expected 10 fields, saw 11\\n'\n"
     ]
    }
   ],
   "source": [
    "import pandas as pd\n",
    "import seaborn as sns\n",
    "import matplotlib.pyplot as plt\n",
    "import numpy as np\n",
    "\n",
    "# ---- Summary of the twitter accounts -----#\n",
    "# RER_A\n",
    "# RERB\n",
    "# RERC_SNCF --< Infotrafic\n",
    "# RERD_SNCF --< Infotrafic\n",
    "# RERE_SNCF --< Infotrafic\n",
    "# Ligne12_RATP --< from 1 to 14 lines\n",
    "\n",
    "line_list = ['RER_A', 'RER_B', 'RER_C', 'RER_D', 'RER_E','Ligne1_RATP', 'Ligne2_RATP', 'Ligne3_RATP', 'Ligne4_RATP',\n",
    " 'Ligne5_RATP', 'Ligne6_RATP', 'Ligne7_RATP', 'Ligne8_RATP', 'Ligne9_RATP', 'Ligne10_RATP', 'Ligne11_RATP', 'Ligne12_RATP',\n",
    " 'Ligne13_RATP', 'Ligne14_RATP' ]\n",
    "\n",
    "file_path = \"data/\"\n",
    "line_dict = dict()\n",
    "for item in line_list:\n",
    "    line_dict[item] = pd.read_csv(file_path + item +'.csv', sep=';',error_bad_lines=False) "
   ]
  },
  {
   "cell_type": "markdown",
   "metadata": {},
   "source": [
    "# First, have a look at the data"
   ]
  },
  {
   "cell_type": "code",
   "execution_count": 2,
   "metadata": {},
   "outputs": [
    {
     "data": {
      "text/html": [
       "<div>\n",
       "<style scoped>\n",
       "    .dataframe tbody tr th:only-of-type {\n",
       "        vertical-align: middle;\n",
       "    }\n",
       "\n",
       "    .dataframe tbody tr th {\n",
       "        vertical-align: top;\n",
       "    }\n",
       "\n",
       "    .dataframe thead th {\n",
       "        text-align: right;\n",
       "    }\n",
       "</style>\n",
       "<table border=\"1\" class=\"dataframe\">\n",
       "  <thead>\n",
       "    <tr style=\"text-align: right;\">\n",
       "      <th></th>\n",
       "      <th>username</th>\n",
       "      <th>date</th>\n",
       "      <th>retweets</th>\n",
       "      <th>favorites</th>\n",
       "      <th>text</th>\n",
       "      <th>geo</th>\n",
       "      <th>mentions</th>\n",
       "      <th>hashtags</th>\n",
       "      <th>id</th>\n",
       "      <th>permalink</th>\n",
       "    </tr>\n",
       "  </thead>\n",
       "  <tbody>\n",
       "    <tr>\n",
       "      <th>2987</th>\n",
       "      <td>RER_A</td>\n",
       "      <td>2017-05-24 12:41</td>\n",
       "      <td>1996</td>\n",
       "      <td>416</td>\n",
       "      <td>Ce chien a été retrouvé ce matin, vers 7h, sur...</td>\n",
       "      <td>NaN</td>\n",
       "      <td>NaN</td>\n",
       "      <td>#RERA</td>\n",
       "      <td>8.673298e+17</td>\n",
       "      <td>https://twitter.com/RER_A/status/8673297646919...</td>\n",
       "    </tr>\n",
       "    <tr>\n",
       "      <th>107</th>\n",
       "      <td>RER_A</td>\n",
       "      <td>2017-10-05 17:52</td>\n",
       "      <td>429</td>\n",
       "      <td>145</td>\n",
       "      <td>1 incident électrique au niveau de la caténair...</td>\n",
       "      <td>NaN</td>\n",
       "      <td>NaN</td>\n",
       "      <td>#RERA</td>\n",
       "      <td>9.159679e+17</td>\n",
       "      <td>https://twitter.com/RER_A/status/9159679468995...</td>\n",
       "    </tr>\n",
       "    <tr>\n",
       "      <th>784</th>\n",
       "      <td>RER_A</td>\n",
       "      <td>2017-08-28 12:02</td>\n",
       "      <td>342</td>\n",
       "      <td>409</td>\n",
       "      <td>[ #TravauxEteRERA ] Les travaux sont terminés ...</td>\n",
       "      <td>NaN</td>\n",
       "      <td>NaN</td>\n",
       "      <td>#TravauxEteRERA #RERA</td>\n",
       "      <td>9.021090e+17</td>\n",
       "      <td>https://twitter.com/RER_A/status/9021090016257...</td>\n",
       "    </tr>\n",
       "    <tr>\n",
       "      <th>16061</th>\n",
       "      <td>RER_A</td>\n",
       "      <td>2015-01-29 06:23</td>\n",
       "      <td>306</td>\n",
       "      <td>19</td>\n",
       "      <td>Arrêt de travail spontané en raison de l'agres...</td>\n",
       "      <td>NaN</td>\n",
       "      <td>NaN</td>\n",
       "      <td>#RERA</td>\n",
       "      <td>5.606696e+17</td>\n",
       "      <td>https://twitter.com/RER_A/status/5606696327600...</td>\n",
       "    </tr>\n",
       "    <tr>\n",
       "      <th>16046</th>\n",
       "      <td>RER_A</td>\n",
       "      <td>2015-01-29 08:01</td>\n",
       "      <td>295</td>\n",
       "      <td>26</td>\n",
       "      <td>Depuis 7h52 fermeture des gares #RERA #RATP sa...</td>\n",
       "      <td>NaN</td>\n",
       "      <td>NaN</td>\n",
       "      <td>#RERA #RATP</td>\n",
       "      <td>5.606942e+17</td>\n",
       "      <td>https://twitter.com/RER_A/status/5606941607020...</td>\n",
       "    </tr>\n",
       "  </tbody>\n",
       "</table>\n",
       "</div>"
      ],
      "text/plain": [
       "      username              date  retweets  favorites  \\\n",
       "2987     RER_A  2017-05-24 12:41      1996        416   \n",
       "107      RER_A  2017-10-05 17:52       429        145   \n",
       "784      RER_A  2017-08-28 12:02       342        409   \n",
       "16061    RER_A  2015-01-29 06:23       306         19   \n",
       "16046    RER_A  2015-01-29 08:01       295         26   \n",
       "\n",
       "                                                    text  geo mentions  \\\n",
       "2987   Ce chien a été retrouvé ce matin, vers 7h, sur...  NaN      NaN   \n",
       "107    1 incident électrique au niveau de la caténair...  NaN      NaN   \n",
       "784    [ #TravauxEteRERA ] Les travaux sont terminés ...  NaN      NaN   \n",
       "16061  Arrêt de travail spontané en raison de l'agres...  NaN      NaN   \n",
       "16046  Depuis 7h52 fermeture des gares #RERA #RATP sa...  NaN      NaN   \n",
       "\n",
       "                    hashtags            id  \\\n",
       "2987                   #RERA  8.673298e+17   \n",
       "107                    #RERA  9.159679e+17   \n",
       "784    #TravauxEteRERA #RERA  9.021090e+17   \n",
       "16061                  #RERA  5.606696e+17   \n",
       "16046            #RERA #RATP  5.606942e+17   \n",
       "\n",
       "                                               permalink  \n",
       "2987   https://twitter.com/RER_A/status/8673297646919...  \n",
       "107    https://twitter.com/RER_A/status/9159679468995...  \n",
       "784    https://twitter.com/RER_A/status/9021090016257...  \n",
       "16061  https://twitter.com/RER_A/status/5606696327600...  \n",
       "16046  https://twitter.com/RER_A/status/5606941607020...  "
      ]
     },
     "execution_count": 2,
     "metadata": {},
     "output_type": "execute_result"
    }
   ],
   "source": [
    "line_dict['RER_A'].sort_values(by='retweets',ascending = False).head()"
   ]
  },
  {
   "cell_type": "markdown",
   "metadata": {},
   "source": [
    "# Check how many items in each sub data set "
   ]
  },
  {
   "cell_type": "code",
   "execution_count": 3,
   "metadata": {},
   "outputs": [
    {
     "name": "stdout",
     "output_type": "stream",
     "text": [
      "RER_A (21028, 10)\n",
      "RER_B (15540, 10)\n",
      "RER_C (23086, 10)\n",
      "RER_D (23306, 10)\n",
      "RER_E (8497, 10)\n",
      "Ligne1_RATP (7436, 10)\n",
      "Ligne2_RATP (5518, 10)\n",
      "Ligne3_RATP (5043, 10)\n",
      "Ligne4_RATP (9091, 10)\n",
      "Ligne5_RATP (5998, 10)\n",
      "Ligne6_RATP (6977, 10)\n",
      "Ligne7_RATP (5963, 10)\n",
      "Ligne8_RATP (5903, 10)\n",
      "Ligne9_RATP (5642, 10)\n",
      "Ligne10_RATP (3950, 10)\n",
      "Ligne11_RATP (3812, 10)\n",
      "Ligne12_RATP (6335, 10)\n",
      "Ligne13_RATP (6992, 10)\n",
      "Ligne14_RATP (4927, 10)\n"
     ]
    }
   ],
   "source": [
    "# Check how many items we have\n",
    "for k,v in line_dict.items():\n",
    "    print(k, v.shape)"
   ]
  },
  {
   "cell_type": "markdown",
   "metadata": {},
   "source": [
    "# Have a look at the data in each sub dataset\n",
    "\n",
    "Since RER datasets may have different patterns comparing to metros."
   ]
  },
  {
   "cell_type": "code",
   "execution_count": 4,
   "metadata": {
    "scrolled": true
   },
   "outputs": [
    {
     "data": {
      "text/html": [
       "<div>\n",
       "<style scoped>\n",
       "    .dataframe tbody tr th:only-of-type {\n",
       "        vertical-align: middle;\n",
       "    }\n",
       "\n",
       "    .dataframe tbody tr th {\n",
       "        vertical-align: top;\n",
       "    }\n",
       "\n",
       "    .dataframe thead th {\n",
       "        text-align: right;\n",
       "    }\n",
       "</style>\n",
       "<table border=\"1\" class=\"dataframe\">\n",
       "  <thead>\n",
       "    <tr style=\"text-align: right;\">\n",
       "      <th></th>\n",
       "      <th>username</th>\n",
       "      <th>date</th>\n",
       "      <th>retweets</th>\n",
       "      <th>favorites</th>\n",
       "      <th>text</th>\n",
       "      <th>geo</th>\n",
       "      <th>mentions</th>\n",
       "      <th>hashtags</th>\n",
       "      <th>id</th>\n",
       "      <th>permalink</th>\n",
       "    </tr>\n",
       "  </thead>\n",
       "  <tbody>\n",
       "    <tr>\n",
       "      <th>0</th>\n",
       "      <td>Ligne11_RATP</td>\n",
       "      <td>2017-10-10 12:19</td>\n",
       "      <td>0</td>\n",
       "      <td>0</td>\n",
       "      <td>Bonjour, la #Ligne11 fonctionne correctement, ...</td>\n",
       "      <td>NaN</td>\n",
       "      <td>NaN</td>\n",
       "      <td>#Ligne11</td>\n",
       "      <td>9.176961e+17</td>\n",
       "      <td>https://twitter.com/Ligne11_RATP/status/917696...</td>\n",
       "    </tr>\n",
       "    <tr>\n",
       "      <th>1</th>\n",
       "      <td>Ligne11_RATP</td>\n",
       "      <td>2017-10-09 14:22</td>\n",
       "      <td>0</td>\n",
       "      <td>1</td>\n",
       "      <td>Demain, le trafic sera normal sur votre #ligne...</td>\n",
       "      <td>NaN</td>\n",
       "      <td>NaN</td>\n",
       "      <td>#ligne11 #RATP #greve10octobre</td>\n",
       "      <td>9.173647e+17</td>\n",
       "      <td>https://twitter.com/Ligne11_RATP/status/917364...</td>\n",
       "    </tr>\n",
       "    <tr>\n",
       "      <th>2</th>\n",
       "      <td>Ligne11_RATP</td>\n",
       "      <td>2017-10-08 12:58</td>\n",
       "      <td>0</td>\n",
       "      <td>1</td>\n",
       "      <td>Retour à un trafic régulier sur l'ensemble de ...</td>\n",
       "      <td>NaN</td>\n",
       "      <td>NaN</td>\n",
       "      <td>#Ligne11 #RATP</td>\n",
       "      <td>9.169811e+17</td>\n",
       "      <td>https://twitter.com/Ligne11_RATP/status/916981...</td>\n",
       "    </tr>\n",
       "    <tr>\n",
       "      <th>3</th>\n",
       "      <td>Ligne11_RATP</td>\n",
       "      <td>2017-10-08 12:51</td>\n",
       "      <td>1</td>\n",
       "      <td>0</td>\n",
       "      <td>12:51, Retour à un trafic régulier sur l'ensem...</td>\n",
       "      <td>NaN</td>\n",
       "      <td>NaN</td>\n",
       "      <td>#Ligne11 #RATP</td>\n",
       "      <td>9.169795e+17</td>\n",
       "      <td>https://twitter.com/Ligne11_RATP/status/916979...</td>\n",
       "    </tr>\n",
       "    <tr>\n",
       "      <th>4</th>\n",
       "      <td>Ligne11_RATP</td>\n",
       "      <td>2017-10-08 12:45</td>\n",
       "      <td>1</td>\n",
       "      <td>0</td>\n",
       "      <td>12:43, le trafic reprend progressivement (coli...</td>\n",
       "      <td>NaN</td>\n",
       "      <td>NaN</td>\n",
       "      <td>#RATP #Ligne11</td>\n",
       "      <td>9.169778e+17</td>\n",
       "      <td>https://twitter.com/Ligne11_RATP/status/916977...</td>\n",
       "    </tr>\n",
       "  </tbody>\n",
       "</table>\n",
       "</div>"
      ],
      "text/plain": [
       "       username              date  retweets  favorites  \\\n",
       "0  Ligne11_RATP  2017-10-10 12:19         0          0   \n",
       "1  Ligne11_RATP  2017-10-09 14:22         0          1   \n",
       "2  Ligne11_RATP  2017-10-08 12:58         0          1   \n",
       "3  Ligne11_RATP  2017-10-08 12:51         1          0   \n",
       "4  Ligne11_RATP  2017-10-08 12:45         1          0   \n",
       "\n",
       "                                                text  geo mentions  \\\n",
       "0  Bonjour, la #Ligne11 fonctionne correctement, ...  NaN      NaN   \n",
       "1  Demain, le trafic sera normal sur votre #ligne...  NaN      NaN   \n",
       "2  Retour à un trafic régulier sur l'ensemble de ...  NaN      NaN   \n",
       "3  12:51, Retour à un trafic régulier sur l'ensem...  NaN      NaN   \n",
       "4  12:43, le trafic reprend progressivement (coli...  NaN      NaN   \n",
       "\n",
       "                         hashtags            id  \\\n",
       "0                        #Ligne11  9.176961e+17   \n",
       "1  #ligne11 #RATP #greve10octobre  9.173647e+17   \n",
       "2                  #Ligne11 #RATP  9.169811e+17   \n",
       "3                  #Ligne11 #RATP  9.169795e+17   \n",
       "4                  #RATP #Ligne11  9.169778e+17   \n",
       "\n",
       "                                           permalink  \n",
       "0  https://twitter.com/Ligne11_RATP/status/917696...  \n",
       "1  https://twitter.com/Ligne11_RATP/status/917364...  \n",
       "2  https://twitter.com/Ligne11_RATP/status/916981...  \n",
       "3  https://twitter.com/Ligne11_RATP/status/916979...  \n",
       "4  https://twitter.com/Ligne11_RATP/status/916977...  "
      ]
     },
     "execution_count": 4,
     "metadata": {},
     "output_type": "execute_result"
    }
   ],
   "source": [
    "line_dict['Ligne11_RATP'].head()"
   ]
  },
  {
   "cell_type": "code",
   "execution_count": 5,
   "metadata": {},
   "outputs": [
    {
     "data": {
      "text/html": [
       "<div>\n",
       "<style scoped>\n",
       "    .dataframe tbody tr th:only-of-type {\n",
       "        vertical-align: middle;\n",
       "    }\n",
       "\n",
       "    .dataframe tbody tr th {\n",
       "        vertical-align: top;\n",
       "    }\n",
       "\n",
       "    .dataframe thead th {\n",
       "        text-align: right;\n",
       "    }\n",
       "</style>\n",
       "<table border=\"1\" class=\"dataframe\">\n",
       "  <thead>\n",
       "    <tr style=\"text-align: right;\">\n",
       "      <th></th>\n",
       "      <th>username</th>\n",
       "      <th>date</th>\n",
       "      <th>retweets</th>\n",
       "      <th>favorites</th>\n",
       "      <th>text</th>\n",
       "      <th>geo</th>\n",
       "      <th>mentions</th>\n",
       "      <th>hashtags</th>\n",
       "      <th>id</th>\n",
       "      <th>permalink</th>\n",
       "    </tr>\n",
       "  </thead>\n",
       "  <tbody>\n",
       "    <tr>\n",
       "      <th>0</th>\n",
       "      <td>RERB</td>\n",
       "      <td>2017-10-12 19:16</td>\n",
       "      <td>0</td>\n",
       "      <td>0</td>\n",
       "      <td>Toutes les missions sont rendues omnibus. Bonn...</td>\n",
       "      <td>NaN</td>\n",
       "      <td>NaN</td>\n",
       "      <td>NaN</td>\n",
       "      <td>9.185259e+17</td>\n",
       "      <td>https://twitter.com/RERB/status/91852587036885...</td>\n",
       "    </tr>\n",
       "    <tr>\n",
       "      <th>1</th>\n",
       "      <td>RERB</td>\n",
       "      <td>2017-10-12 18:51</td>\n",
       "      <td>1</td>\n",
       "      <td>0</td>\n",
       "      <td>Bonsoir, le trafic reprend progressivement mai...</td>\n",
       "      <td>NaN</td>\n",
       "      <td>NaN</td>\n",
       "      <td>NaN</td>\n",
       "      <td>9.185196e+17</td>\n",
       "      <td>https://twitter.com/RERB/status/91851956429560...</td>\n",
       "    </tr>\n",
       "    <tr>\n",
       "      <th>2</th>\n",
       "      <td>RERB</td>\n",
       "      <td>2017-10-12 18:45</td>\n",
       "      <td>1</td>\n",
       "      <td>0</td>\n",
       "      <td>Il est également possible de prendre un train ...</td>\n",
       "      <td>NaN</td>\n",
       "      <td>NaN</td>\n",
       "      <td>NaN</td>\n",
       "      <td>9.185180e+17</td>\n",
       "      <td>https://twitter.com/RERB/status/91851797897883...</td>\n",
       "    </tr>\n",
       "    <tr>\n",
       "      <th>3</th>\n",
       "      <td>RERB</td>\n",
       "      <td>2017-10-12 18:40</td>\n",
       "      <td>0</td>\n",
       "      <td>0</td>\n",
       "      <td>Bonsoir, oui des trains circulent au départ d'...</td>\n",
       "      <td>NaN</td>\n",
       "      <td>NaN</td>\n",
       "      <td>NaN</td>\n",
       "      <td>9.185168e+17</td>\n",
       "      <td>https://twitter.com/RERB/status/91851677975599...</td>\n",
       "    </tr>\n",
       "    <tr>\n",
       "      <th>4</th>\n",
       "      <td>RERB</td>\n",
       "      <td>2017-10-12 18:36</td>\n",
       "      <td>0</td>\n",
       "      <td>1</td>\n",
       "      <td>Bonsoir, l'incident est terminé, le trafic rep...</td>\n",
       "      <td>NaN</td>\n",
       "      <td>NaN</td>\n",
       "      <td>NaN</td>\n",
       "      <td>9.185157e+17</td>\n",
       "      <td>https://twitter.com/RERB/status/91851566784590...</td>\n",
       "    </tr>\n",
       "  </tbody>\n",
       "</table>\n",
       "</div>"
      ],
      "text/plain": [
       "  username              date  retweets  favorites  \\\n",
       "0     RERB  2017-10-12 19:16         0          0   \n",
       "1     RERB  2017-10-12 18:51         1          0   \n",
       "2     RERB  2017-10-12 18:45         1          0   \n",
       "3     RERB  2017-10-12 18:40         0          0   \n",
       "4     RERB  2017-10-12 18:36         0          1   \n",
       "\n",
       "                                                text  geo mentions hashtags  \\\n",
       "0  Toutes les missions sont rendues omnibus. Bonn...  NaN      NaN      NaN   \n",
       "1  Bonsoir, le trafic reprend progressivement mai...  NaN      NaN      NaN   \n",
       "2  Il est également possible de prendre un train ...  NaN      NaN      NaN   \n",
       "3  Bonsoir, oui des trains circulent au départ d'...  NaN      NaN      NaN   \n",
       "4  Bonsoir, l'incident est terminé, le trafic rep...  NaN      NaN      NaN   \n",
       "\n",
       "             id                                          permalink  \n",
       "0  9.185259e+17  https://twitter.com/RERB/status/91852587036885...  \n",
       "1  9.185196e+17  https://twitter.com/RERB/status/91851956429560...  \n",
       "2  9.185180e+17  https://twitter.com/RERB/status/91851797897883...  \n",
       "3  9.185168e+17  https://twitter.com/RERB/status/91851677975599...  \n",
       "4  9.185157e+17  https://twitter.com/RERB/status/91851566784590...  "
      ]
     },
     "execution_count": 5,
     "metadata": {},
     "output_type": "execute_result"
    }
   ],
   "source": [
    "line_dict['RER_B'].head()"
   ]
  },
  {
   "cell_type": "markdown",
   "metadata": {},
   "source": [
    "## We find a fun fact by checking data from RER_A: the most popular twitter is about a refound dog???"
   ]
  },
  {
   "cell_type": "code",
   "execution_count": 6,
   "metadata": {},
   "outputs": [
    {
     "data": {
      "text/plain": [
       "2987     Ce chien a été retrouvé ce matin, vers 7h, sur...\n",
       "107      1 incident électrique au niveau de la caténair...\n",
       "784      [ #TravauxEteRERA ] Les travaux sont terminés ...\n",
       "16061    Arrêt de travail spontané en raison de l'agres...\n",
       "16046    Depuis 7h52 fermeture des gares #RERA #RATP sa...\n",
       "Name: text, dtype: object"
      ]
     },
     "execution_count": 6,
     "metadata": {},
     "output_type": "execute_result"
    }
   ],
   "source": [
    "# sort by retweets --> a dog is missing??? comes up first???\n",
    "line_dict['RER_A'].sort_values(by='retweets',ascending = False)['text'].head()"
   ]
  },
  {
   "cell_type": "markdown",
   "metadata": {},
   "source": [
    "# Import different station names from RATP API"
   ]
  },
  {
   "cell_type": "code",
   "execution_count": 7,
   "metadata": {
    "collapsed": true
   },
   "outputs": [],
   "source": [
    "# find all station names --> gares\n",
    "df_st = pd.read_csv('data\\gares.csv', delimiter=';')\n",
    "gares = df_st.nomptar.str.split('(')\n",
    "gares = [x[0].rstrip(' ') for x in gares] # la defense has a lagging space"
   ]
  },
  {
   "cell_type": "markdown",
   "metadata": {},
   "source": [
    "# Data Cleaning:\n",
    "\n",
    "1. Build a data cleaning function.\n",
    "2. Run the function over all datasets."
   ]
  },
  {
   "cell_type": "code",
   "execution_count": 8,
   "metadata": {
    "collapsed": true,
    "scrolled": true
   },
   "outputs": [],
   "source": [
    "# change display to 200\n",
    "## Step 1: delete all \n",
    "## Théo, Bonjour, @, Tom, Emma\n",
    "\n",
    "import re\n",
    "def clean_data(input):\n",
    "    pd.options.display.max_colwidth = 200\n",
    "    input['date'] = pd.to_datetime(input.date)\n",
    "    input = input[input.date >= pd.to_datetime('2014-1-1')]\n",
    "    \n",
    "    # replace pte, chateau \n",
    "    input.text = input.text.str.replace('Pte|pte', 'Porte')\n",
    "    input.text = input.text.str.replace('Chateau|chateau', 'Château')\n",
    "    input.text = input.text.str.replace('électr.', 'électrique')\n",
    "    input.text = input.text.str.replace('tvx.', 'travaux')    \n",
    "    \n",
    "    # in RER C, D, E, they published traffic information \n",
    "    # with a hashtag of \"Infotrafic\"\n",
    "    if re.search('RER[CDE]_SNCF',input.username.iloc[0]):\n",
    "        output = input[input.text.str.contains('Infotrafic', na=False)]\n",
    "    else:\n",
    "        # for all other lines, \n",
    "        # we drop the conservations data (see report for more details)\n",
    "        to_drop = [\"Bonjour\", \"@\",'Théo', 'Emma','Bjr','Inès',\n",
    "                   'Lana','vous','soirée','Oui','estimée', \n",
    "                   'Travaux prévus','journée','bonjour','rerb', \n",
    "                   'rerc','rerd', 'rere','Infotrafic'] # all about conversations \n",
    "        output = input[~input.text.str.contains('|'.join(to_drop), na=False)] \n",
    "    return output"
   ]
  },
  {
   "cell_type": "markdown",
   "metadata": {},
   "source": [
    "## Check how many items left in each sub dataset."
   ]
  },
  {
   "cell_type": "code",
   "execution_count": 9,
   "metadata": {},
   "outputs": [
    {
     "name": "stderr",
     "output_type": "stream",
     "text": [
      "D:\\Users\\ThinkPad\\Anaconda3\\lib\\site-packages\\pandas\\core\\generic.py:3643: SettingWithCopyWarning: \n",
      "A value is trying to be set on a copy of a slice from a DataFrame.\n",
      "Try using .loc[row_indexer,col_indexer] = value instead\n",
      "\n",
      "See the caveats in the documentation: http://pandas.pydata.org/pandas-docs/stable/indexing.html#indexing-view-versus-copy\n",
      "  self[name] = value\n"
     ]
    },
    {
     "name": "stdout",
     "output_type": "stream",
     "text": [
      "RER_A (8214, 10)\n",
      "RER_B (6586, 10)\n",
      "RER_C (2502, 10)\n",
      "RER_D (2967, 10)\n",
      "RER_E (1567, 10)\n",
      "Ligne1_RATP (2965, 10)\n",
      "Ligne2_RATP (2221, 10)\n",
      "Ligne3_RATP (2073, 10)\n",
      "Ligne4_RATP (4314, 10)\n",
      "Ligne5_RATP (2671, 10)\n",
      "Ligne6_RATP (3439, 10)\n",
      "Ligne7_RATP (2851, 10)\n",
      "Ligne8_RATP (3013, 10)\n",
      "Ligne9_RATP (2546, 10)\n",
      "Ligne10_RATP (1345, 10)\n",
      "Ligne11_RATP (1285, 10)\n",
      "Ligne12_RATP (2616, 10)\n",
      "Ligne13_RATP (3104, 10)\n",
      "Ligne14_RATP (1786, 10)\n"
     ]
    }
   ],
   "source": [
    "for k in line_dict.keys():\n",
    "    line_dict[k] = clean_data(line_dict[k])\n",
    "    print(k, line_dict[k].shape)"
   ]
  },
  {
   "cell_type": "code",
   "execution_count": 10,
   "metadata": {},
   "outputs": [
    {
     "data": {
      "text/plain": [
       "599                      09:31, le trafic est perturbé entre Etoile et Boissy/ Marne-la-Vallee (incident voyageur) #RERA\n",
       "13900                       09:21, le trafic est ralenti de Etoile vers St-Germain-en-L. (incident voyageur) #RATP #RERA\n",
       "16962    Notre personnel vient de prendre contact avec les services de police (colis suspect à Gare de Lyon) #RERA #RATP\n",
       "Name: text, dtype: object"
      ]
     },
     "execution_count": 10,
     "metadata": {},
     "output_type": "execute_result"
    }
   ],
   "source": [
    "line_dict['RER_A'].sample(3).text"
   ]
  },
  {
   "cell_type": "markdown",
   "metadata": {},
   "source": [
    "# Using NLP to analyze tweets\n",
    "\n",
    "1. Find the most frequent words\n",
    "2. Find the most frequent gares\n",
    "3. Find the most stations"
   ]
  },
  {
   "cell_type": "code",
   "execution_count": 11,
   "metadata": {
    "collapsed": true
   },
   "outputs": [],
   "source": [
    "# top 20 frequent words\n",
    "import nltk\n",
    "def words_freq(output):\n",
    "    moby_tokens = nltk.word_tokenize(output.text.str.lower().str.cat(sep = ' '))\n",
    "    text1 = nltk.Text(moby_tokens)\n",
    "    nltk.FreqDist(text1).most_common(20)\n",
    "    stopwords = nltk.corpus.stopwords.words('french')\n",
    "    stopwords = stopwords + ['rera','rerb','rerc','rerd','rere',\n",
    "                             'ratp','ligne','entre',\n",
    "                             'http','les','vers','dir','trafic','gare']\n",
    "    words_except_stop_dist = nltk.FreqDist(w for w in text1 if w not \n",
    "                                           in stopwords and w.isalpha() )\n",
    "    return words_except_stop_dist"
   ]
  },
  {
   "cell_type": "code",
   "execution_count": 12,
   "metadata": {
    "collapsed": true
   },
   "outputs": [],
   "source": [
    "from collections import Counter\n",
    "def gare_fq(output):\n",
    "    gare_freq = Counter()\n",
    "    for gare in gares:\n",
    "        gare_freq[gare] = output.text.str.lower().str.contains(gare.lower()).sum()\n",
    "    return gare_freq"
   ]
  },
  {
   "cell_type": "code",
   "execution_count": 13,
   "metadata": {},
   "outputs": [
    {
     "data": {
      "text/plain": [
       "10569        18:02, le trafic est ralenti entre Cergy-Le-Haut et La Defense (Grande Arche) (panne de signalisation) #RATP #RERA\n",
       "8849                 10:28, le trafic est interrompu entre Maisons-Laffitte et Cergy-Le-Haut (acte de malveillance) #RATP #RERA\n",
       "5190                            18:16, le trafic est perturbé de Nation vers Cergy-Le-Haut (panne de signalisation) #RATP #RERA\n",
       "9022         15:18, le trafic reprend progressivement entre Maisons-Laffitte et Cergy-Le-Haut (panne électriqueque) #RATP #RERA\n",
       "11609                             09:35, le trafic est interrompu entre Cergy-Le-Haut et Cergy-S.C. (colis suspect) #RATP #RERA\n",
       "10573              16:41, le trafic est ralenti entre Cergy-Le-Haut et Nanterre-Prefecture (panne de signalisation) #RATP #RERA\n",
       "8088           20:48, le trafic est ralenti entre La Defense (Grande Arche) et Cergy-Le-Haut (voyageur sur la voie) #RATP #RERA\n",
       "13584                   17:16, le trafic est interrompu entre Cergy-Le-Haut et Acheres-Ville (voyageur sur la voie) #RATP #RERA\n",
       "13746    15:07, le trafic est ralenti entre La Defense (Grande Arche) et Cergy-Le-Haut (accident grave de voyageur) #RATP #RERA\n",
       "18574       18:58, le trafic reprend progressivement entre Cergy-Le-Haut et Nanterre-Prefecture (incident voyageur) #RATP #RERA\n",
       "Name: text, dtype: object"
      ]
     },
     "execution_count": 13,
     "metadata": {},
     "output_type": "execute_result"
    }
   ],
   "source": [
    "# sometimes, cergy-le-haut, naterre may be due to their direction --> \n",
    "# result is true, many items are ignored entre XXX et XXX \n",
    "line_dict['RER_A'].text[line_dict['RER_A'].text.str.contains('Cergy-Le-Haut')].sample(10)"
   ]
  },
  {
   "cell_type": "markdown",
   "metadata": {},
   "source": [
    "## Check words_freq function on RER_B"
   ]
  },
  {
   "cell_type": "code",
   "execution_count": 14,
   "metadata": {},
   "outputs": [
    {
     "data": {
      "text/plain": [
       "[('incident', 1417),\n",
       " ('perturbé', 1111),\n",
       " ('retour', 1044),\n",
       " ('terminé', 963),\n",
       " ('régulier', 921),\n",
       " ('voyageur', 861),\n",
       " ('aeroport', 688),\n",
       " ('colis', 678),\n",
       " ('suspect', 676),\n",
       " ('nord', 663),\n",
       " ('interrompu', 651),\n",
       " ('cdg', 631),\n",
       " ('panne', 555),\n",
       " ('ralenti', 476),\n",
       " ('mitry', 451),\n",
       " ('train', 446),\n",
       " ('robinson', 432),\n",
       " ('claye', 401),\n",
       " ('charles', 381),\n",
       " ('gaulle', 373)]"
      ]
     },
     "execution_count": 14,
     "metadata": {},
     "output_type": "execute_result"
    }
   ],
   "source": [
    "## Now let's try RER B\n",
    "output_b = line_dict['RER_B']\n",
    "words_freq(output_b).most_common(20)"
   ]
  },
  {
   "cell_type": "markdown",
   "metadata": {},
   "source": [
    "## Check gare_fq function on RER_B"
   ]
  },
  {
   "cell_type": "code",
   "execution_count": 15,
   "metadata": {},
   "outputs": [
    {
     "data": {
      "text/plain": [
       "[('Gare du Nord', 584),\n",
       " ('Robinson', 464),\n",
       " ('Palaiseau', 225),\n",
       " ('Les Halles', 213),\n",
       " ('Antony', 144),\n",
       " ('Bourg-la-Reine', 112),\n",
       " ('Mitry-Claye', 106),\n",
       " ('Châtelet', 98),\n",
       " ('Laplace', 90),\n",
       " ('Massy-Palaiseau', 84),\n",
       " ('Luxembourg', 83),\n",
       " ('Aulnay-sous-Bois', 65),\n",
       " ('Parc des Expositions', 60),\n",
       " ('Le Bourget', 57),\n",
       " ('Port Royal', 52),\n",
       " ('Cité', 41),\n",
       " ('La Plaine-Stade de France', 31),\n",
       " ('Orsay-Ville', 31),\n",
       " ('Denfert-Rochereau', 30),\n",
       " ('Sceaux', 29)]"
      ]
     },
     "execution_count": 15,
     "metadata": {},
     "output_type": "execute_result"
    }
   ],
   "source": [
    "gare_fq(output_b).most_common(20)"
   ]
  },
  {
   "cell_type": "markdown",
   "metadata": {},
   "source": [
    "## Build incident_freq function"
   ]
  },
  {
   "cell_type": "code",
   "execution_count": 16,
   "metadata": {
    "collapsed": true
   },
   "outputs": [],
   "source": [
    "from collections import Counter\n",
    "def incidient_reason(input):\n",
    "    output = input\n",
    "    incidents = ['malaise voyageur',\"incident d'exploitation\",\"incident technique\",'Incident de signalisation',\n",
    "                \"colis suspect\", \"voyageur malade\", \"incident voyageur\", \n",
    "                \"divers incidents\",'panne de signalisation','panne de matériel',\n",
    "                'panne électrique','panne mécanique','panne de caténaire',\n",
    "                \"panne d'aiguillage\",'panne matériel','panne éléctrique', \n",
    "                'panne sur un train','pannes de signalisation',\"panne d'un train\",\n",
    "                \"panne de train\",'obstacle sur la voie', 'bagage abandonné','incident de passage', \n",
    "                 'accident de personne','feu aux abords','pb signalisation','acte de malveillance',\n",
    "                 'jets de pierre','obstacle sur la voie','bagage oublié',\n",
    "                 'personnes sur les voies','branche tombée','jet de projectile']\n",
    "    incident_freq = Counter()\n",
    "    for incident in incidents:\n",
    "        incident_freq[incident] = output.text.str.lower().str.contains(incident.lower()).sum()\n",
    "    return incident_freq   "
   ]
  },
  {
   "cell_type": "markdown",
   "metadata": {},
   "source": [
    "## Test incident_reason function in RER_C"
   ]
  },
  {
   "cell_type": "code",
   "execution_count": 17,
   "metadata": {},
   "outputs": [
    {
     "data": {
      "text/plain": [
       "[('bagage abandonné', 149),\n",
       " ('bagage oublié', 144),\n",
       " ('personnes sur les voies', 113),\n",
       " (\"panne d'un train\", 103),\n",
       " ('accident de personne', 78),\n",
       " ('malaise voyageur', 25),\n",
       " ('Incident de signalisation', 24),\n",
       " ('acte de malveillance', 24),\n",
       " ('obstacle sur la voie', 15),\n",
       " ('incident technique', 11),\n",
       " ('incident de passage', 9),\n",
       " ('feu aux abords', 8),\n",
       " ('branche tombée', 8),\n",
       " ('panne électrique', 6),\n",
       " ('jets de pierre', 5),\n",
       " ('panne de signalisation', 4),\n",
       " ('colis suspect', 3),\n",
       " ('panne sur un train', 3),\n",
       " ('pb signalisation', 3),\n",
       " ('jet de projectile', 3),\n",
       " ('incident voyageur', 2),\n",
       " (\"panne d'aiguillage\", 2),\n",
       " ('divers incidents', 1),\n",
       " ('panne de train', 1),\n",
       " (\"incident d'exploitation\", 0),\n",
       " ('voyageur malade', 0),\n",
       " ('panne de matériel', 0),\n",
       " ('panne mécanique', 0),\n",
       " ('panne de caténaire', 0),\n",
       " ('panne matériel', 0),\n",
       " ('panne éléctrique', 0),\n",
       " ('pannes de signalisation', 0)]"
      ]
     },
     "execution_count": 17,
     "metadata": {},
     "output_type": "execute_result"
    }
   ],
   "source": [
    "incidient_reason(line_dict['RER_C']).most_common()"
   ]
  },
  {
   "cell_type": "markdown",
   "metadata": {},
   "source": [
    "## Consolidate all functions in one dashboard function"
   ]
  },
  {
   "cell_type": "code",
   "execution_count": 18,
   "metadata": {
    "collapsed": true
   },
   "outputs": [],
   "source": [
    "# what if we write a summary function \n",
    "def summary(input):\n",
    "    output = input\n",
    "    print()\n",
    "    print ('The 20 most frequent words are: ')\n",
    "    print(words_freq(output).most_common(20))\n",
    "    print('\\n')\n",
    "    print('The 20 most frequent stations are: ')\n",
    "    print(gare_fq(output).most_common(20))\n",
    "    print('\\n')\n",
    "    print('The 20 most frequent reasons are: ')\n",
    "    print(incidient_reason(output).most_common(20))\n",
    "#summary(line_dict['RER_A'])"
   ]
  },
  {
   "cell_type": "markdown",
   "metadata": {},
   "source": [
    "# Merge all sub datasets into one "
   ]
  },
  {
   "cell_type": "code",
   "execution_count": 19,
   "metadata": {
    "collapsed": true
   },
   "outputs": [],
   "source": [
    "# concat all dataframe and clean data\n",
    "def consol(data_dic):\n",
    "    result = pd.DataFrame()\n",
    "    for k, v in data_dic.items():\n",
    "        result = pd.concat([result, v])\n",
    "    result = result.sort_values(by='date')\n",
    "    return result\n",
    "df_consol = consol(line_dict)"
   ]
  },
  {
   "cell_type": "markdown",
   "metadata": {},
   "source": [
    "## How many tweets per Ligne/RER"
   ]
  },
  {
   "cell_type": "code",
   "execution_count": 20,
   "metadata": {},
   "outputs": [
    {
     "data": {
      "text/plain": [
       "RER_A           8214\n",
       "RERB            6586\n",
       "Ligne4_RATP     4314\n",
       "Ligne6_RATP     3439\n",
       "Ligne13_RATP    3104\n",
       "Ligne8_RATP     3013\n",
       "RERD_SNCF       2967\n",
       "Ligne1_RATP     2965\n",
       "Ligne7_RATP     2851\n",
       "Ligne5_RATP     2671\n",
       "Ligne12_RATP    2616\n",
       "Ligne9_RATP     2546\n",
       "RERC_SNCF       2502\n",
       "Ligne2_RATP     2221\n",
       "Ligne3_RATP     2073\n",
       "Ligne14_RATP    1786\n",
       "RERE_SNCF       1567\n",
       "Ligne10_RATP    1345\n",
       "Ligne11_RATP    1285\n",
       "Name: username, dtype: int64"
      ]
     },
     "execution_count": 20,
     "metadata": {},
     "output_type": "execute_result"
    }
   ],
   "source": [
    "# overall tweets\n",
    "df_consol.username.value_counts()"
   ]
  },
  {
   "cell_type": "markdown",
   "metadata": {},
   "source": [
    "# Numbers of Tweets per day"
   ]
  },
  {
   "cell_type": "code",
   "execution_count": 21,
   "metadata": {},
   "outputs": [
    {
     "data": {
      "text/plain": [
       "2015-01-29    278\n",
       "2016-12-06    166\n",
       "2015-06-30    161\n",
       "2014-12-31    154\n",
       "2017-06-24    144\n",
       "2016-11-29    142\n",
       "2016-08-14    134\n",
       "2016-05-25    133\n",
       "2016-03-29    129\n",
       "2016-12-07    120\n",
       "Name: date, dtype: int64"
      ]
     },
     "execution_count": 21,
     "metadata": {},
     "output_type": "execute_result"
    }
   ],
   "source": [
    "date_tweets = df_consol.date.apply(lambda x: x.date()).value_counts()\n",
    "date_tweets.iloc[:10]"
   ]
  },
  {
   "cell_type": "markdown",
   "metadata": {},
   "source": [
    "## Plot a chart visualize the data"
   ]
  },
  {
   "cell_type": "code",
   "execution_count": 22,
   "metadata": {},
   "outputs": [
    {
     "data": {
      "text/plain": [
       "<matplotlib.axes._subplots.AxesSubplot at 0xc9712e8>"
      ]
     },
     "execution_count": 22,
     "metadata": {},
     "output_type": "execute_result"
    },
    {
     "data": {
      "image/png": "[encoded data removed]",
      "text/plain": [
       "<matplotlib.figure.Figure at 0xc963978>"
      ]
     },
     "metadata": {},
     "output_type": "display_data"
    }
   ],
   "source": [
    "from matplotlib import pyplot as plt\n",
    "%matplotlib inline\n",
    "date_tweets.plot()"
   ]
  },
  {
   "cell_type": "markdown",
   "metadata": {},
   "source": [
    "## Export date, username, tweets count per date & consolidated data"
   ]
  },
  {
   "cell_type": "code",
   "execution_count": 23,
   "metadata": {},
   "outputs": [],
   "source": [
    "# export date, username, tweets count\n",
    "df_consol['date_new'] =  df_consol.date.apply(lambda x: x.date())\n",
    "df_consol.groupby(['date_new', 'username']).size().to_csv('output/tweets_date.csv')\n",
    "df_consol.to_csv('output/consol.csv')"
   ]
  },
  {
   "cell_type": "markdown",
   "metadata": {},
   "source": [
    "## Consolidate the data by hour"
   ]
  },
  {
   "cell_type": "code",
   "execution_count": 24,
   "metadata": {},
   "outputs": [
    {
     "data": {
      "text/html": [
       "<div>\n",
       "<style scoped>\n",
       "    .dataframe tbody tr th:only-of-type {\n",
       "        vertical-align: middle;\n",
       "    }\n",
       "\n",
       "    .dataframe tbody tr th {\n",
       "        vertical-align: top;\n",
       "    }\n",
       "\n",
       "    .dataframe thead th {\n",
       "        text-align: right;\n",
       "    }\n",
       "</style>\n",
       "<table border=\"1\" class=\"dataframe\">\n",
       "  <thead>\n",
       "    <tr style=\"text-align: right;\">\n",
       "      <th></th>\n",
       "      <th>username</th>\n",
       "      <th>date</th>\n",
       "      <th>retweets</th>\n",
       "      <th>favorites</th>\n",
       "      <th>text</th>\n",
       "      <th>geo</th>\n",
       "      <th>mentions</th>\n",
       "      <th>hashtags</th>\n",
       "      <th>id</th>\n",
       "      <th>permalink</th>\n",
       "      <th>date_new</th>\n",
       "      <th>hour</th>\n",
       "    </tr>\n",
       "  </thead>\n",
       "  <tbody>\n",
       "    <tr>\n",
       "      <th>5167</th>\n",
       "      <td>RERB</td>\n",
       "      <td>2016-08-20 00:15:00</td>\n",
       "      <td>1100</td>\n",
       "      <td>286</td>\n",
       "      <td>Alerte enlèvement 19.08.2016 pic.twitter.com/Glqtxno04Q</td>\n",
       "      <td>NaN</td>\n",
       "      <td>NaN</td>\n",
       "      <td>NaN</td>\n",
       "      <td>7.667604e+17</td>\n",
       "      <td>https://twitter.com/RERB/status/766760426562519040</td>\n",
       "      <td>2016-08-20</td>\n",
       "      <td>0</td>\n",
       "    </tr>\n",
       "    <tr>\n",
       "      <th>630</th>\n",
       "      <td>Ligne11_RATP</td>\n",
       "      <td>2016-04-01 07:54:00</td>\n",
       "      <td>667</td>\n",
       "      <td>410</td>\n",
       "      <td>Ds une volonté de modernisation, la #RATP modifie le nom de la station Télégraphe en #Tweet http://www. ratp.fr/fr/ratp/v_1490 39/metro-rer-la-ratp-renomme-13-stations/ … pic.twitter.com/W3x8Np6pR9</td>\n",
       "      <td>NaN</td>\n",
       "      <td>NaN</td>\n",
       "      <td>#RATP #Tweet</td>\n",
       "      <td>7.157795e+17</td>\n",
       "      <td>https://twitter.com/Ligne11_RATP/status/715779457173364737</td>\n",
       "      <td>2016-04-01</td>\n",
       "      <td>7</td>\n",
       "    </tr>\n",
       "    <tr>\n",
       "      <th>1157</th>\n",
       "      <td>Ligne2_RATP</td>\n",
       "      <td>2016-04-01 07:51:00</td>\n",
       "      <td>470</td>\n",
       "      <td>258</td>\n",
       "      <td>2 ǝuƃıl ǝɹʇoʌ ɹns sɹǝʌuɐ uoıʇɐʇs ɐl ǝp ıpǝɹpuǝʌ ǝɔ uoıʇɐɹnƃnɐuı http://www. ratp.fr/fr/ratp/v_1490 39/metro-rer-la-ratp-renomme-13-stations/ … pic.twitter.com/ekm1oychl4</td>\n",
       "      <td>NaN</td>\n",
       "      <td>NaN</td>\n",
       "      <td>NaN</td>\n",
       "      <td>7.157786e+17</td>\n",
       "      <td>https://twitter.com/Ligne2_RATP/status/715778636557783040</td>\n",
       "      <td>2016-04-01</td>\n",
       "      <td>7</td>\n",
       "    </tr>\n",
       "    <tr>\n",
       "      <th>107</th>\n",
       "      <td>RER_A</td>\n",
       "      <td>2017-10-05 17:52:00</td>\n",
       "      <td>429</td>\n",
       "      <td>145</td>\n",
       "      <td>1 incident électriqueque au niveau de la caténaire s'est produit à La Défense, bruyant, ms ss danger pour les voyageurs. Trafic perturbé #RERA</td>\n",
       "      <td>NaN</td>\n",
       "      <td>NaN</td>\n",
       "      <td>#RERA</td>\n",
       "      <td>9.159679e+17</td>\n",
       "      <td>https://twitter.com/RER_A/status/915967946899562500</td>\n",
       "      <td>2017-10-05</td>\n",
       "      <td>17</td>\n",
       "    </tr>\n",
       "    <tr>\n",
       "      <th>328</th>\n",
       "      <td>Ligne4_RATP</td>\n",
       "      <td>2017-08-01 15:10:00</td>\n",
       "      <td>366</td>\n",
       "      <td>192</td>\n",
       "      <td>La station Château Rouge rouvre aujourd'hui avec une salle d'accueil + spacieuse, un nouvel accès... ! #Ligne4 http:// ow.ly/XQnv30e4FPy pic.twitter.com/DrcL2GM9K7</td>\n",
       "      <td>NaN</td>\n",
       "      <td>NaN</td>\n",
       "      <td>#Ligne4</td>\n",
       "      <td>8.923720e+17</td>\n",
       "      <td>https://twitter.com/Ligne4_RATP/status/892371982330851329</td>\n",
       "      <td>2017-08-01</td>\n",
       "      <td>15</td>\n",
       "    </tr>\n",
       "  </tbody>\n",
       "</table>\n",
       "</div>"
      ],
      "text/plain": [
       "          username                date  retweets  favorites  \\\n",
       "5167          RERB 2016-08-20 00:15:00      1100        286   \n",
       "630   Ligne11_RATP 2016-04-01 07:54:00       667        410   \n",
       "1157   Ligne2_RATP 2016-04-01 07:51:00       470        258   \n",
       "107          RER_A 2017-10-05 17:52:00       429        145   \n",
       "328    Ligne4_RATP 2017-08-01 15:10:00       366        192   \n",
       "\n",
       "                                                                                                                                                                                                       text  \\\n",
       "5167                                                                                                                                                Alerte enlèvement 19.08.2016 pic.twitter.com/Glqtxno04Q   \n",
       "630   Ds une volonté de modernisation, la #RATP modifie le nom de la station Télégraphe en #Tweet http://www. ratp.fr/fr/ratp/v_1490 39/metro-rer-la-ratp-renomme-13-stations/ … pic.twitter.com/W3x8Np6pR9   \n",
       "1157                              2 ǝuƃıl ǝɹʇoʌ ɹns sɹǝʌuɐ uoıʇɐʇs ɐl ǝp ıpǝɹpuǝʌ ǝɔ uoıʇɐɹnƃnɐuı http://www. ratp.fr/fr/ratp/v_1490 39/metro-rer-la-ratp-renomme-13-stations/ … pic.twitter.com/ekm1oychl4   \n",
       "107                                                          1 incident électriqueque au niveau de la caténaire s'est produit à La Défense, bruyant, ms ss danger pour les voyageurs. Trafic perturbé #RERA   \n",
       "328                                     La station Château Rouge rouvre aujourd'hui avec une salle d'accueil + spacieuse, un nouvel accès... ! #Ligne4 http:// ow.ly/XQnv30e4FPy pic.twitter.com/DrcL2GM9K7   \n",
       "\n",
       "      geo mentions      hashtags            id  \\\n",
       "5167  NaN      NaN           NaN  7.667604e+17   \n",
       "630   NaN      NaN  #RATP #Tweet  7.157795e+17   \n",
       "1157  NaN      NaN           NaN  7.157786e+17   \n",
       "107   NaN      NaN         #RERA  9.159679e+17   \n",
       "328   NaN      NaN       #Ligne4  8.923720e+17   \n",
       "\n",
       "                                                       permalink    date_new  \\\n",
       "5167          https://twitter.com/RERB/status/766760426562519040  2016-08-20   \n",
       "630   https://twitter.com/Ligne11_RATP/status/715779457173364737  2016-04-01   \n",
       "1157   https://twitter.com/Ligne2_RATP/status/715778636557783040  2016-04-01   \n",
       "107          https://twitter.com/RER_A/status/915967946899562500  2017-10-05   \n",
       "328    https://twitter.com/Ligne4_RATP/status/892371982330851329  2017-08-01   \n",
       "\n",
       "      hour  \n",
       "5167     0  \n",
       "630      7  \n",
       "1157     7  \n",
       "107     17  \n",
       "328     15  "
      ]
     },
     "execution_count": 24,
     "metadata": {},
     "output_type": "execute_result"
    }
   ],
   "source": [
    "df_consol['hour'] = df_consol.date.apply(lambda x: x.hour)\n",
    "df_consol.groupby(['hour','username']).size().to_csv('output/date_hour.csv')\n",
    "df_consol.sort_values(by='retweets',ascending = False).head()"
   ]
  },
  {
   "cell_type": "markdown",
   "metadata": {},
   "source": [
    "## Export Tweets Number, Incident Reason, and Ligne/RER"
   ]
  },
  {
   "cell_type": "code",
   "execution_count": 25,
   "metadata": {
    "scrolled": true
   },
   "outputs": [
    {
     "name": "stdout",
     "output_type": "stream",
     "text": [
      "RER_A \n",
      "\n",
      "RER_B \n",
      "\n",
      "RER_C \n",
      "\n",
      "RER_D \n",
      "\n",
      "RER_E \n",
      "\n",
      "Ligne1_RATP \n",
      "\n",
      "Ligne2_RATP \n",
      "\n",
      "Ligne3_RATP \n",
      "\n",
      "Ligne4_RATP \n",
      "\n",
      "Ligne5_RATP \n",
      "\n",
      "Ligne6_RATP \n",
      "\n",
      "Ligne7_RATP \n",
      "\n",
      "Ligne8_RATP \n",
      "\n",
      "Ligne9_RATP \n",
      "\n",
      "Ligne10_RATP \n",
      "\n",
      "Ligne11_RATP \n",
      "\n",
      "Ligne12_RATP \n",
      "\n",
      "Ligne13_RATP \n",
      "\n",
      "Ligne14_RATP \n",
      "\n"
     ]
    },
    {
     "data": {
      "text/html": [
       "<div>\n",
       "<style scoped>\n",
       "    .dataframe tbody tr th:only-of-type {\n",
       "        vertical-align: middle;\n",
       "    }\n",
       "\n",
       "    .dataframe tbody tr th {\n",
       "        vertical-align: top;\n",
       "    }\n",
       "\n",
       "    .dataframe thead th {\n",
       "        text-align: right;\n",
       "    }\n",
       "</style>\n",
       "<table border=\"1\" class=\"dataframe\">\n",
       "  <thead>\n",
       "    <tr style=\"text-align: right;\">\n",
       "      <th></th>\n",
       "      <th>0</th>\n",
       "      <th>1</th>\n",
       "      <th>username</th>\n",
       "    </tr>\n",
       "  </thead>\n",
       "  <tbody>\n",
       "    <tr>\n",
       "      <th>0</th>\n",
       "      <td>colis suspect</td>\n",
       "      <td>1171</td>\n",
       "      <td>RER_A</td>\n",
       "    </tr>\n",
       "    <tr>\n",
       "      <th>0</th>\n",
       "      <td>colis suspect</td>\n",
       "      <td>699</td>\n",
       "      <td>Ligne4_RATP</td>\n",
       "    </tr>\n",
       "    <tr>\n",
       "      <th>0</th>\n",
       "      <td>colis suspect</td>\n",
       "      <td>676</td>\n",
       "      <td>RER_B</td>\n",
       "    </tr>\n",
       "    <tr>\n",
       "      <th>0</th>\n",
       "      <td>incident technique</td>\n",
       "      <td>476</td>\n",
       "      <td>Ligne1_RATP</td>\n",
       "    </tr>\n",
       "    <tr>\n",
       "      <th>1</th>\n",
       "      <td>malaise voyageur</td>\n",
       "      <td>471</td>\n",
       "      <td>RER_A</td>\n",
       "    </tr>\n",
       "  </tbody>\n",
       "</table>\n",
       "</div>"
      ],
      "text/plain": [
       "                    0     1     username\n",
       "0       colis suspect  1171        RER_A\n",
       "0       colis suspect   699  Ligne4_RATP\n",
       "0       colis suspect   676        RER_B\n",
       "0  incident technique   476  Ligne1_RATP\n",
       "1    malaise voyageur   471        RER_A"
      ]
     },
     "execution_count": 25,
     "metadata": {},
     "output_type": "execute_result"
    }
   ],
   "source": [
    "df_incident = pd.DataFrame()\n",
    "for k, v in line_dict.items():\n",
    "    print(k,'\\n')\n",
    "    df_inter = pd.DataFrame.from_dict(incidient_reason(v).most_common())\n",
    "    df_inter['username'] = k\n",
    "    df_incident = pd.concat([df_incident, df_inter])\n",
    "df_incident.sort_values(by=1, ascending = False).head()"
   ]
  },
  {
   "cell_type": "markdown",
   "metadata": {},
   "source": [
    "## Then we find out that a few incidents should be classified in a same group"
   ]
  },
  {
   "cell_type": "code",
   "execution_count": 26,
   "metadata": {},
   "outputs": [],
   "source": [
    "df_incident['group'] = df_incident.iloc[:,0]\n",
    "rep = {'bagage oublié':'bagage abandonné', 'colis suspect':'bagage abandonné',\n",
    "       'voyageur malade':'malaise voyageur',\n",
    "       'pb signalisation':'panne de signalisation', 'jets de pierre':'acte de malveillance',\n",
    "       'jets de pierre':'acte de malveillance','jet de projectile':'acte de malveillance'}\n",
    "df_incident.group = df_incident.group.replace(rep)\n",
    "df_incident.loc[df_incident[0].str.contains('bagage', na=False)].head()\n",
    "df_incident.to_csv('output/df_incident.csv')"
   ]
  },
  {
   "cell_type": "code",
   "execution_count": 27,
   "metadata": {},
   "outputs": [
    {
     "data": {
      "text/html": [
       "<div>\n",
       "<style scoped>\n",
       "    .dataframe tbody tr th:only-of-type {\n",
       "        vertical-align: middle;\n",
       "    }\n",
       "\n",
       "    .dataframe tbody tr th {\n",
       "        vertical-align: top;\n",
       "    }\n",
       "\n",
       "    .dataframe thead th {\n",
       "        text-align: right;\n",
       "    }\n",
       "</style>\n",
       "<table border=\"1\" class=\"dataframe\">\n",
       "  <thead>\n",
       "    <tr style=\"text-align: right;\">\n",
       "      <th></th>\n",
       "      <th>0</th>\n",
       "      <th>1</th>\n",
       "      <th>username</th>\n",
       "      <th>group</th>\n",
       "    </tr>\n",
       "  </thead>\n",
       "  <tbody>\n",
       "    <tr>\n",
       "      <th>0</th>\n",
       "      <td>colis suspect</td>\n",
       "      <td>1171</td>\n",
       "      <td>RER_A</td>\n",
       "      <td>bagage abandonné</td>\n",
       "    </tr>\n",
       "    <tr>\n",
       "      <th>1</th>\n",
       "      <td>malaise voyageur</td>\n",
       "      <td>471</td>\n",
       "      <td>RER_A</td>\n",
       "      <td>malaise voyageur</td>\n",
       "    </tr>\n",
       "    <tr>\n",
       "      <th>2</th>\n",
       "      <td>incident technique</td>\n",
       "      <td>381</td>\n",
       "      <td>RER_A</td>\n",
       "      <td>incident technique</td>\n",
       "    </tr>\n",
       "    <tr>\n",
       "      <th>3</th>\n",
       "      <td>incident voyageur</td>\n",
       "      <td>245</td>\n",
       "      <td>RER_A</td>\n",
       "      <td>incident voyageur</td>\n",
       "    </tr>\n",
       "    <tr>\n",
       "      <th>4</th>\n",
       "      <td>panne de matériel</td>\n",
       "      <td>233</td>\n",
       "      <td>RER_A</td>\n",
       "      <td>panne de matériel</td>\n",
       "    </tr>\n",
       "  </tbody>\n",
       "</table>\n",
       "</div>"
      ],
      "text/plain": [
       "                    0     1 username               group\n",
       "0       colis suspect  1171    RER_A    bagage abandonné\n",
       "1    malaise voyageur   471    RER_A    malaise voyageur\n",
       "2  incident technique   381    RER_A  incident technique\n",
       "3   incident voyageur   245    RER_A   incident voyageur\n",
       "4   panne de matériel   233    RER_A   panne de matériel"
      ]
     },
     "execution_count": 27,
     "metadata": {},
     "output_type": "execute_result"
    }
   ],
   "source": [
    "df_incident.head()"
   ]
  },
  {
   "cell_type": "markdown",
   "metadata": {},
   "source": [
    "# Build a table for Machie Learning Algorithm\n",
    "\n",
    "1. Import temperature data.\n",
    "2. Import which arrondissements are passed through by which line."
   ]
  },
  {
   "cell_type": "code",
   "execution_count": 28,
   "metadata": {},
   "outputs": [
    {
     "data": {
      "text/html": [
       "<div>\n",
       "<style scoped>\n",
       "    .dataframe tbody tr th:only-of-type {\n",
       "        vertical-align: middle;\n",
       "    }\n",
       "\n",
       "    .dataframe tbody tr th {\n",
       "        vertical-align: top;\n",
       "    }\n",
       "\n",
       "    .dataframe thead th {\n",
       "        text-align: right;\n",
       "    }\n",
       "</style>\n",
       "<table border=\"1\" class=\"dataframe\">\n",
       "  <thead>\n",
       "    <tr style=\"text-align: right;\">\n",
       "      <th></th>\n",
       "      <th>Date</th>\n",
       "      <th>T_avg</th>\n",
       "      <th>V_avg</th>\n",
       "      <th>W_avg</th>\n",
       "      <th>rain</th>\n",
       "      <th>fog</th>\n",
       "      <th>snow</th>\n",
       "      <th>Thunderstorms</th>\n",
       "    </tr>\n",
       "  </thead>\n",
       "  <tbody>\n",
       "    <tr>\n",
       "      <th>0</th>\n",
       "      <td>2012/1/1</td>\n",
       "      <td>13</td>\n",
       "      <td>10</td>\n",
       "      <td>19</td>\n",
       "      <td>1</td>\n",
       "      <td>0</td>\n",
       "      <td>1</td>\n",
       "      <td>0</td>\n",
       "    </tr>\n",
       "    <tr>\n",
       "      <th>1</th>\n",
       "      <td>2012/1/2</td>\n",
       "      <td>8</td>\n",
       "      <td>9</td>\n",
       "      <td>18</td>\n",
       "      <td>1</td>\n",
       "      <td>1</td>\n",
       "      <td>0</td>\n",
       "      <td>0</td>\n",
       "    </tr>\n",
       "    <tr>\n",
       "      <th>2</th>\n",
       "      <td>2012/1/3</td>\n",
       "      <td>9</td>\n",
       "      <td>10</td>\n",
       "      <td>24</td>\n",
       "      <td>1</td>\n",
       "      <td>0</td>\n",
       "      <td>0</td>\n",
       "      <td>0</td>\n",
       "    </tr>\n",
       "    <tr>\n",
       "      <th>3</th>\n",
       "      <td>2012/1/4</td>\n",
       "      <td>8</td>\n",
       "      <td>10</td>\n",
       "      <td>19</td>\n",
       "      <td>0</td>\n",
       "      <td>0</td>\n",
       "      <td>0</td>\n",
       "      <td>0</td>\n",
       "    </tr>\n",
       "    <tr>\n",
       "      <th>4</th>\n",
       "      <td>2012/1/5</td>\n",
       "      <td>10</td>\n",
       "      <td>9</td>\n",
       "      <td>32</td>\n",
       "      <td>1</td>\n",
       "      <td>0</td>\n",
       "      <td>0</td>\n",
       "      <td>0</td>\n",
       "    </tr>\n",
       "  </tbody>\n",
       "</table>\n",
       "</div>"
      ],
      "text/plain": [
       "       Date T_avg V_avg W_avg  rain  fog  snow  Thunderstorms\n",
       "0  2012/1/1    13    10    19     1    0     1              0\n",
       "1  2012/1/2     8     9    18     1    1     0              0\n",
       "2  2012/1/3     9    10    24     1    0     0              0\n",
       "3  2012/1/4     8    10    19     0    0     0              0\n",
       "4  2012/1/5    10     9    32     1    0     0              0"
      ]
     },
     "execution_count": 28,
     "metadata": {},
     "output_type": "execute_result"
    }
   ],
   "source": [
    "df_temp = pd.read_csv('data/temperature.csv')\n",
    "df_temp.head()\n",
    "fil = ['Date','T_avg','V_avg','W_avg', 'rain','fog','snow','Thunderstorms']\n",
    "df_temp_fil = df_temp[fil]\n",
    "df_temp_fil.head()"
   ]
  },
  {
   "cell_type": "code",
   "execution_count": 29,
   "metadata": {},
   "outputs": [
    {
     "data": {
      "text/html": [
       "<div>\n",
       "<style scoped>\n",
       "    .dataframe tbody tr th:only-of-type {\n",
       "        vertical-align: middle;\n",
       "    }\n",
       "\n",
       "    .dataframe tbody tr th {\n",
       "        vertical-align: top;\n",
       "    }\n",
       "\n",
       "    .dataframe thead th {\n",
       "        text-align: right;\n",
       "    }\n",
       "</style>\n",
       "<table border=\"1\" class=\"dataframe\">\n",
       "  <thead>\n",
       "    <tr style=\"text-align: right;\">\n",
       "      <th></th>\n",
       "      <th>username</th>\n",
       "      <th>1</th>\n",
       "      <th>2</th>\n",
       "      <th>3</th>\n",
       "      <th>4</th>\n",
       "      <th>5</th>\n",
       "      <th>6</th>\n",
       "      <th>7</th>\n",
       "      <th>8</th>\n",
       "      <th>9</th>\n",
       "      <th>...</th>\n",
       "      <th>19</th>\n",
       "      <th>20</th>\n",
       "      <th>91</th>\n",
       "      <th>92</th>\n",
       "      <th>93</th>\n",
       "      <th>94</th>\n",
       "      <th>95</th>\n",
       "      <th>77</th>\n",
       "      <th>78</th>\n",
       "      <th>45</th>\n",
       "    </tr>\n",
       "  </thead>\n",
       "  <tbody>\n",
       "    <tr>\n",
       "      <th>0</th>\n",
       "      <td>Ligne1_RATP</td>\n",
       "      <td>5</td>\n",
       "      <td>0</td>\n",
       "      <td>0</td>\n",
       "      <td>4</td>\n",
       "      <td>0</td>\n",
       "      <td>0</td>\n",
       "      <td>0</td>\n",
       "      <td>5</td>\n",
       "      <td>0</td>\n",
       "      <td>...</td>\n",
       "      <td>0</td>\n",
       "      <td>1</td>\n",
       "      <td>0</td>\n",
       "      <td>4</td>\n",
       "      <td>0</td>\n",
       "      <td>3</td>\n",
       "      <td>0</td>\n",
       "      <td>0</td>\n",
       "      <td>0</td>\n",
       "      <td>0</td>\n",
       "    </tr>\n",
       "    <tr>\n",
       "      <th>1</th>\n",
       "      <td>Ligne2_RATP</td>\n",
       "      <td>0</td>\n",
       "      <td>0</td>\n",
       "      <td>0</td>\n",
       "      <td>0</td>\n",
       "      <td>0</td>\n",
       "      <td>0</td>\n",
       "      <td>0</td>\n",
       "      <td>7</td>\n",
       "      <td>4</td>\n",
       "      <td>...</td>\n",
       "      <td>4</td>\n",
       "      <td>7</td>\n",
       "      <td>0</td>\n",
       "      <td>0</td>\n",
       "      <td>0</td>\n",
       "      <td>0</td>\n",
       "      <td>0</td>\n",
       "      <td>0</td>\n",
       "      <td>0</td>\n",
       "      <td>0</td>\n",
       "    </tr>\n",
       "    <tr>\n",
       "      <th>2</th>\n",
       "      <td>Ligne3_RATP</td>\n",
       "      <td>0</td>\n",
       "      <td>5</td>\n",
       "      <td>4</td>\n",
       "      <td>0</td>\n",
       "      <td>0</td>\n",
       "      <td>0</td>\n",
       "      <td>0</td>\n",
       "      <td>3</td>\n",
       "      <td>2</td>\n",
       "      <td>...</td>\n",
       "      <td>0</td>\n",
       "      <td>3</td>\n",
       "      <td>0</td>\n",
       "      <td>3</td>\n",
       "      <td>1</td>\n",
       "      <td>0</td>\n",
       "      <td>0</td>\n",
       "      <td>0</td>\n",
       "      <td>0</td>\n",
       "      <td>0</td>\n",
       "    </tr>\n",
       "    <tr>\n",
       "      <th>3</th>\n",
       "      <td>Ligne4_RATP</td>\n",
       "      <td>3</td>\n",
       "      <td>3</td>\n",
       "      <td>2</td>\n",
       "      <td>2</td>\n",
       "      <td>1</td>\n",
       "      <td>7</td>\n",
       "      <td>0</td>\n",
       "      <td>0</td>\n",
       "      <td>1</td>\n",
       "      <td>...</td>\n",
       "      <td>0</td>\n",
       "      <td>0</td>\n",
       "      <td>0</td>\n",
       "      <td>1</td>\n",
       "      <td>0</td>\n",
       "      <td>0</td>\n",
       "      <td>0</td>\n",
       "      <td>0</td>\n",
       "      <td>0</td>\n",
       "      <td>0</td>\n",
       "    </tr>\n",
       "    <tr>\n",
       "      <th>4</th>\n",
       "      <td>Ligne5_RATP</td>\n",
       "      <td>0</td>\n",
       "      <td>0</td>\n",
       "      <td>1</td>\n",
       "      <td>1</td>\n",
       "      <td>1</td>\n",
       "      <td>0</td>\n",
       "      <td>0</td>\n",
       "      <td>0</td>\n",
       "      <td>0</td>\n",
       "      <td>...</td>\n",
       "      <td>5</td>\n",
       "      <td>0</td>\n",
       "      <td>0</td>\n",
       "      <td>0</td>\n",
       "      <td>4</td>\n",
       "      <td>0</td>\n",
       "      <td>0</td>\n",
       "      <td>0</td>\n",
       "      <td>0</td>\n",
       "      <td>0</td>\n",
       "    </tr>\n",
       "  </tbody>\n",
       "</table>\n",
       "<p>5 rows × 29 columns</p>\n",
       "</div>"
      ],
      "text/plain": [
       "       username  1  2  3  4  5  6  7  8  9 ...  19  20  91  92  93  94  95  \\\n",
       "0  Ligne1_RATP   5  0  0  4  0  0  0  5  0 ...   0   1   0   4   0   3   0   \n",
       "1  Ligne2_RATP   0  0  0  0  0  0  0  7  4 ...   4   7   0   0   0   0   0   \n",
       "2  Ligne3_RATP   0  5  4  0  0  0  0  3  2 ...   0   3   0   3   1   0   0   \n",
       "3  Ligne4_RATP   3  3  2  2  1  7  0  0  1 ...   0   0   0   1   0   0   0   \n",
       "4  Ligne5_RATP   0  0  1  1  1  0  0  0  0 ...   5   0   0   0   4   0   0   \n",
       "\n",
       "   77  78  45  \n",
       "0   0   0   0  \n",
       "1   0   0   0  \n",
       "2   0   0   0  \n",
       "3   0   0   0  \n",
       "4   0   0   0  \n",
       "\n",
       "[5 rows x 29 columns]"
      ]
     },
     "execution_count": 29,
     "metadata": {},
     "output_type": "execute_result"
    }
   ],
   "source": [
    "# import which arrondissements are passed through by which line.\n",
    "df_arr = pd.read_csv('data/data_arrondissement.csv')\n",
    "df_arr.head()"
   ]
  },
  {
   "cell_type": "code",
   "execution_count": 30,
   "metadata": {},
   "outputs": [
    {
     "data": {
      "text/html": [
       "<div>\n",
       "<style scoped>\n",
       "    .dataframe tbody tr th:only-of-type {\n",
       "        vertical-align: middle;\n",
       "    }\n",
       "\n",
       "    .dataframe tbody tr th {\n",
       "        vertical-align: top;\n",
       "    }\n",
       "\n",
       "    .dataframe thead th {\n",
       "        text-align: right;\n",
       "    }\n",
       "</style>\n",
       "<table border=\"1\" class=\"dataframe\">\n",
       "  <thead>\n",
       "    <tr style=\"text-align: right;\">\n",
       "      <th></th>\n",
       "      <th>username</th>\n",
       "      <th>Traffic-2016</th>\n",
       "    </tr>\n",
       "  </thead>\n",
       "  <tbody>\n",
       "    <tr>\n",
       "      <th>0</th>\n",
       "      <td>Ligne1_RATP</td>\n",
       "      <td>217255582</td>\n",
       "    </tr>\n",
       "    <tr>\n",
       "      <th>1</th>\n",
       "      <td>Ligne2_RATP</td>\n",
       "      <td>125819494</td>\n",
       "    </tr>\n",
       "    <tr>\n",
       "      <th>2</th>\n",
       "      <td>Ligne3_RATP</td>\n",
       "      <td>153695350</td>\n",
       "    </tr>\n",
       "    <tr>\n",
       "      <th>3</th>\n",
       "      <td>Ligne4_RATP</td>\n",
       "      <td>215968806</td>\n",
       "    </tr>\n",
       "    <tr>\n",
       "      <th>4</th>\n",
       "      <td>Ligne5_RATP</td>\n",
       "      <td>185094089</td>\n",
       "    </tr>\n",
       "  </tbody>\n",
       "</table>\n",
       "</div>"
      ],
      "text/plain": [
       "       username  Traffic-2016\n",
       "0  Ligne1_RATP      217255582\n",
       "1  Ligne2_RATP      125819494\n",
       "2  Ligne3_RATP      153695350\n",
       "3  Ligne4_RATP      215968806\n",
       "4  Ligne5_RATP      185094089"
      ]
     },
     "execution_count": 30,
     "metadata": {},
     "output_type": "execute_result"
    }
   ],
   "source": [
    "df_traffic = pd.read_csv('data/traffic-16.csv')\n",
    "df_traffic.head()"
   ]
  },
  {
   "cell_type": "code",
   "execution_count": 31,
   "metadata": {
    "collapsed": true
   },
   "outputs": [],
   "source": [
    "# build another conslidated dataframe, and forecast the reason\n",
    "def df_class(input):\n",
    "    # list all reasons of incidents\n",
    "    incidents = ['malaise voyageur',\"incident d'exploitation\",\"incident technique\",\n",
    "                 'Incident de signalisation',\n",
    "                \"colis suspect\", \"voyageur malade\", \"incident voyageur\", \n",
    "                \"divers incidents\",'panne de signalisation','panne de matériel',\n",
    "                'panne électrique','panne mécanique','panne de caténaire',\n",
    "                \"panne d'aiguillage\",'panne matériel','panne éléctrique', \n",
    "                'panne sur un train','pannes de signalisation',\"panne d'un train\",\n",
    "                \"panne de train\",'obstacle sur la voie', 'bagage abandonné','incident de passage', \n",
    "                 'accident de personne','feu aux abords','pb signalisation','acte de malveillance',\n",
    "                 'jets de pierre','obstacle sur la voie','bagage oublié',\n",
    "                 'personnes sur les voies','branche tombée','jet de projectile',\n",
    "                'grave de voyageur','animal sur la voie','défaut électrique',\n",
    "                 'fin tardive de chantier',\"Défaut d'alimentation électrique\"]\n",
    "    \n",
    "    # clean data\n",
    "    output = clean_data(input)          \n",
    "    output = input[input.text.str.contains('|'.join(incidents),na=False)]\n",
    "    filt = \"(malaise voyageur|incident d'exploitation|incident technique|Incident de signalisation|colis suspect|voyageur malade|incident voyageur|divers incidents|panne de signalisation|panne de matériel|panne électrique|panne mécanique|panne de caténaire|panne d'aiguillage|panne matériel|panne éléctrique|panne sur un train|pannes de signalisation|panne d'un train|panne de train|obstacle sur la voie|bagage abandonné|incident de passage|accident de personne|feu aux abords|pb signalisation|acte de malveillance|jets de pierre|obstacle sur la voie|bagage oublié|personnes sur les voies|branche tombée|jet de projectile|grave de voyageur|animal sur la voie|défaut électrique|fin tardive de chantier|Défaut d'alimentation électrique)\"\n",
    "    output['reason'] = output.text.str.extract(filt)\n",
    "    filt2 = ['username','date_new','reason']\n",
    "    \n",
    "    # extract incident reasons and create a new column of \"reasons\"\n",
    "    output = output[filt2]\n",
    "    \n",
    "    # create quarter, month, year columns\n",
    "    output.date_new = pd.to_datetime(output.date_new)\n",
    "    df_temp_fil.Date = pd.to_datetime(df_temp_fil.Date)\n",
    "    \n",
    "    #merge temperature data, arrondissements data and traffic data\n",
    "    output = output.merge(right=df_temp_fil, how='inner', left_on='date_new', right_on='Date')\n",
    "    output = output.merge(right=df_arr, how='inner', left_on='username', right_on='username')\n",
    "    output = output.merge(right=df_traffic, how='inner', left_on='username', right_on='username')\n",
    "    \n",
    "    output['Quarter'] = output.date_new.apply(lambda x: pd.to_datetime(x).quarter)\n",
    "    output['Month'] = output.date_new.apply(lambda x: pd.to_datetime(x).day)\n",
    "    output['Year'] = output.date_new.apply(lambda x: pd.to_datetime(x).year)\n",
    "    output = output.drop(['date_new','Date'], axis=1)\n",
    "    \n",
    "    # standardize all incident reasons\n",
    "    rep = {'bagage oublié':'bagage abandonné', 'colis suspect':'bagage abandonné',\n",
    "       'voyageur malade':'malaise voyageur',  \"Défaut d'alimentation électrique\":'panne électrique',\n",
    "        \"panne d'un train\":'panne de train','grave de voyageur':'incident voyageur',\n",
    "           'Incident de signalisation':'pannes de signalisation',\n",
    "           'panne de matériel':'panne matériel',\n",
    "           'panne sur un train':'panne de train',\n",
    "           'pb signalisation':'panne de signalisation', 'jets de pierre':'acte de malveillance',\n",
    "       'jets de pierre':'acte de malveillance','jet de projectile':'acte de malveillance',\n",
    "          'accident de personne':'incident voyageur','malaise voyageur':'incident voyageur',\n",
    "           'pannes de signalisation':'panne de signalisation'}\n",
    "    output.reason = output.reason.replace(rep)    \n",
    "    \n",
    "    # some rows from df_temp_fil contains '-' items\n",
    "    output = output[output.T_avg != '-']\n",
    "    output = output[output.V_avg != '-']   \n",
    "    return output"
   ]
  },
  {
   "cell_type": "markdown",
   "metadata": {},
   "source": [
    "### Remember that we built a consolidated before, let's review this dataframe. "
   ]
  },
  {
   "cell_type": "code",
   "execution_count": 32,
   "metadata": {},
   "outputs": [
    {
     "data": {
      "text/html": [
       "<div>\n",
       "<style scoped>\n",
       "    .dataframe tbody tr th:only-of-type {\n",
       "        vertical-align: middle;\n",
       "    }\n",
       "\n",
       "    .dataframe tbody tr th {\n",
       "        vertical-align: top;\n",
       "    }\n",
       "\n",
       "    .dataframe thead th {\n",
       "        text-align: right;\n",
       "    }\n",
       "</style>\n",
       "<table border=\"1\" class=\"dataframe\">\n",
       "  <thead>\n",
       "    <tr style=\"text-align: right;\">\n",
       "      <th></th>\n",
       "      <th>username</th>\n",
       "      <th>date</th>\n",
       "      <th>retweets</th>\n",
       "      <th>favorites</th>\n",
       "      <th>text</th>\n",
       "      <th>geo</th>\n",
       "      <th>mentions</th>\n",
       "      <th>hashtags</th>\n",
       "      <th>id</th>\n",
       "      <th>permalink</th>\n",
       "      <th>date_new</th>\n",
       "      <th>hour</th>\n",
       "    </tr>\n",
       "  </thead>\n",
       "  <tbody>\n",
       "    <tr>\n",
       "      <th>5754</th>\n",
       "      <td>Ligne6_RATP</td>\n",
       "      <td>2014-01-01 03:09:00</td>\n",
       "      <td>1</td>\n",
       "      <td>0</td>\n",
       "      <td>Fin de la manifestation impactant la ligne #Ligne6 .</td>\n",
       "      <td>NaN</td>\n",
       "      <td>NaN</td>\n",
       "      <td>#Ligne6</td>\n",
       "      <td>4.182022e+17</td>\n",
       "      <td>https://twitter.com/Ligne6_RATP/status/418202249354289152</td>\n",
       "      <td>2014-01-01</td>\n",
       "      <td>3</td>\n",
       "    </tr>\n",
       "    <tr>\n",
       "      <th>4606</th>\n",
       "      <td>Ligne9_RATP</td>\n",
       "      <td>2014-01-01 03:09:00</td>\n",
       "      <td>0</td>\n",
       "      <td>0</td>\n",
       "      <td>03:09, Le trafic est de nouveau normal sur l'ensemble de la ligne #Ligne9 . #RATP</td>\n",
       "      <td>NaN</td>\n",
       "      <td>NaN</td>\n",
       "      <td>#Ligne9 #RATP</td>\n",
       "      <td>4.182023e+17</td>\n",
       "      <td>https://twitter.com/Ligne9_RATP/status/418202256325238784</td>\n",
       "      <td>2014-01-01</td>\n",
       "      <td>3</td>\n",
       "    </tr>\n",
       "    <tr>\n",
       "      <th>4605</th>\n",
       "      <td>Ligne9_RATP</td>\n",
       "      <td>2014-01-01 03:09:00</td>\n",
       "      <td>0</td>\n",
       "      <td>0</td>\n",
       "      <td>Fin de la manifestation impactant la ligne #Ligne9 .</td>\n",
       "      <td>NaN</td>\n",
       "      <td>NaN</td>\n",
       "      <td>#Ligne9</td>\n",
       "      <td>4.182023e+17</td>\n",
       "      <td>https://twitter.com/Ligne9_RATP/status/418202266920050688</td>\n",
       "      <td>2014-01-01</td>\n",
       "      <td>3</td>\n",
       "    </tr>\n",
       "    <tr>\n",
       "      <th>5049</th>\n",
       "      <td>Ligne8_RATP</td>\n",
       "      <td>2014-01-01 06:52:00</td>\n",
       "      <td>1</td>\n",
       "      <td>0</td>\n",
       "      <td>06:49, le trafic est interrompu entre Maisons-Alfort-Les Juilliottes et Pointe du Lac (voyageur sur la voie) #RATP #Ligne8</td>\n",
       "      <td>NaN</td>\n",
       "      <td>NaN</td>\n",
       "      <td>#RATP #Ligne8</td>\n",
       "      <td>4.182584e+17</td>\n",
       "      <td>https://twitter.com/Ligne8_RATP/status/418258368995024897</td>\n",
       "      <td>2014-01-01</td>\n",
       "      <td>6</td>\n",
       "    </tr>\n",
       "    <tr>\n",
       "      <th>5048</th>\n",
       "      <td>Ligne8_RATP</td>\n",
       "      <td>2014-01-01 07:07:00</td>\n",
       "      <td>0</td>\n",
       "      <td>0</td>\n",
       "      <td>07:05, le trafic reprend progressivement sur la ligne (voyageur sur la voie) #RATP #Ligne8</td>\n",
       "      <td>NaN</td>\n",
       "      <td>NaN</td>\n",
       "      <td>#RATP #Ligne8</td>\n",
       "      <td>4.182621e+17</td>\n",
       "      <td>https://twitter.com/Ligne8_RATP/status/418262143814090752</td>\n",
       "      <td>2014-01-01</td>\n",
       "      <td>7</td>\n",
       "    </tr>\n",
       "  </tbody>\n",
       "</table>\n",
       "</div>"
      ],
      "text/plain": [
       "         username                date  retweets  favorites  \\\n",
       "5754  Ligne6_RATP 2014-01-01 03:09:00         1          0   \n",
       "4606  Ligne9_RATP 2014-01-01 03:09:00         0          0   \n",
       "4605  Ligne9_RATP 2014-01-01 03:09:00         0          0   \n",
       "5049  Ligne8_RATP 2014-01-01 06:52:00         1          0   \n",
       "5048  Ligne8_RATP 2014-01-01 07:07:00         0          0   \n",
       "\n",
       "                                                                                                                            text  \\\n",
       "5754                                                                        Fin de la manifestation impactant la ligne #Ligne6 .   \n",
       "4606                                           03:09, Le trafic est de nouveau normal sur l'ensemble de la ligne #Ligne9 . #RATP   \n",
       "4605                                                                        Fin de la manifestation impactant la ligne #Ligne9 .   \n",
       "5049  06:49, le trafic est interrompu entre Maisons-Alfort-Les Juilliottes et Pointe du Lac (voyageur sur la voie) #RATP #Ligne8   \n",
       "5048                                  07:05, le trafic reprend progressivement sur la ligne (voyageur sur la voie) #RATP #Ligne8   \n",
       "\n",
       "      geo mentions       hashtags            id  \\\n",
       "5754  NaN      NaN        #Ligne6  4.182022e+17   \n",
       "4606  NaN      NaN  #Ligne9 #RATP  4.182023e+17   \n",
       "4605  NaN      NaN        #Ligne9  4.182023e+17   \n",
       "5049  NaN      NaN  #RATP #Ligne8  4.182584e+17   \n",
       "5048  NaN      NaN  #RATP #Ligne8  4.182621e+17   \n",
       "\n",
       "                                                      permalink    date_new  \\\n",
       "5754  https://twitter.com/Ligne6_RATP/status/418202249354289152  2014-01-01   \n",
       "4606  https://twitter.com/Ligne9_RATP/status/418202256325238784  2014-01-01   \n",
       "4605  https://twitter.com/Ligne9_RATP/status/418202266920050688  2014-01-01   \n",
       "5049  https://twitter.com/Ligne8_RATP/status/418258368995024897  2014-01-01   \n",
       "5048  https://twitter.com/Ligne8_RATP/status/418262143814090752  2014-01-01   \n",
       "\n",
       "      hour  \n",
       "5754     3  \n",
       "4606     3  \n",
       "4605     3  \n",
       "5049     6  \n",
       "5048     7  "
      ]
     },
     "execution_count": 32,
     "metadata": {},
     "output_type": "execute_result"
    }
   ],
   "source": [
    "df_consol.head()"
   ]
  },
  {
   "cell_type": "markdown",
   "metadata": {},
   "source": [
    "## Split the dataset into X_train, X_test, y_train, y_test"
   ]
  },
  {
   "cell_type": "code",
   "execution_count": 33,
   "metadata": {},
   "outputs": [
    {
     "name": "stderr",
     "output_type": "stream",
     "text": [
      "D:\\Users\\ThinkPad\\Anaconda3\\lib\\site-packages\\ipykernel_launcher.py:22: FutureWarning: currently extract(expand=None) means expand=False (return Index/Series/DataFrame) but in a future version of pandas this will be changed to expand=True (return DataFrame)\n",
      "D:\\Users\\ThinkPad\\Anaconda3\\lib\\site-packages\\ipykernel_launcher.py:22: SettingWithCopyWarning: \n",
      "A value is trying to be set on a copy of a slice from a DataFrame.\n",
      "Try using .loc[row_indexer,col_indexer] = value instead\n",
      "\n",
      "See the caveats in the documentation: http://pandas.pydata.org/pandas-docs/stable/indexing.html#indexing-view-versus-copy\n",
      "D:\\Users\\ThinkPad\\Anaconda3\\lib\\site-packages\\pandas\\core\\generic.py:3643: SettingWithCopyWarning: \n",
      "A value is trying to be set on a copy of a slice from a DataFrame.\n",
      "Try using .loc[row_indexer,col_indexer] = value instead\n",
      "\n",
      "See the caveats in the documentation: http://pandas.pydata.org/pandas-docs/stable/indexing.html#indexing-view-versus-copy\n",
      "  self[name] = value\n"
     ]
    },
    {
     "data": {
      "text/html": [
       "<div>\n",
       "<style scoped>\n",
       "    .dataframe tbody tr th:only-of-type {\n",
       "        vertical-align: middle;\n",
       "    }\n",
       "\n",
       "    .dataframe tbody tr th {\n",
       "        vertical-align: top;\n",
       "    }\n",
       "\n",
       "    .dataframe thead th {\n",
       "        text-align: right;\n",
       "    }\n",
       "</style>\n",
       "<table border=\"1\" class=\"dataframe\">\n",
       "  <thead>\n",
       "    <tr style=\"text-align: right;\">\n",
       "      <th></th>\n",
       "      <th>username</th>\n",
       "      <th>T_avg</th>\n",
       "      <th>V_avg</th>\n",
       "      <th>W_avg</th>\n",
       "      <th>rain</th>\n",
       "      <th>fog</th>\n",
       "      <th>snow</th>\n",
       "      <th>Thunderstorms</th>\n",
       "      <th>1</th>\n",
       "      <th>2</th>\n",
       "      <th>...</th>\n",
       "      <th>93</th>\n",
       "      <th>94</th>\n",
       "      <th>95</th>\n",
       "      <th>77</th>\n",
       "      <th>78</th>\n",
       "      <th>45</th>\n",
       "      <th>Traffic-2016</th>\n",
       "      <th>Quarter</th>\n",
       "      <th>Month</th>\n",
       "      <th>Year</th>\n",
       "    </tr>\n",
       "  </thead>\n",
       "  <tbody>\n",
       "    <tr>\n",
       "      <th>505</th>\n",
       "      <td>Ligne14_RATP</td>\n",
       "      <td>16</td>\n",
       "      <td>11</td>\n",
       "      <td>23</td>\n",
       "      <td>0</td>\n",
       "      <td>0</td>\n",
       "      <td>0</td>\n",
       "      <td>0</td>\n",
       "      <td>2</td>\n",
       "      <td>0</td>\n",
       "      <td>...</td>\n",
       "      <td>0</td>\n",
       "      <td>0</td>\n",
       "      <td>0</td>\n",
       "      <td>0</td>\n",
       "      <td>0</td>\n",
       "      <td>0</td>\n",
       "      <td>143760624</td>\n",
       "      <td>2</td>\n",
       "      <td>7</td>\n",
       "      <td>2017</td>\n",
       "    </tr>\n",
       "    <tr>\n",
       "      <th>454</th>\n",
       "      <td>Ligne14_RATP</td>\n",
       "      <td>5</td>\n",
       "      <td>10</td>\n",
       "      <td>8</td>\n",
       "      <td>1</td>\n",
       "      <td>1</td>\n",
       "      <td>0</td>\n",
       "      <td>0</td>\n",
       "      <td>2</td>\n",
       "      <td>0</td>\n",
       "      <td>...</td>\n",
       "      <td>0</td>\n",
       "      <td>0</td>\n",
       "      <td>0</td>\n",
       "      <td>0</td>\n",
       "      <td>0</td>\n",
       "      <td>0</td>\n",
       "      <td>143760624</td>\n",
       "      <td>1</td>\n",
       "      <td>10</td>\n",
       "      <td>2017</td>\n",
       "    </tr>\n",
       "    <tr>\n",
       "      <th>260</th>\n",
       "      <td>Ligne14_RATP</td>\n",
       "      <td>12</td>\n",
       "      <td>11</td>\n",
       "      <td>6</td>\n",
       "      <td>0</td>\n",
       "      <td>0</td>\n",
       "      <td>0</td>\n",
       "      <td>0</td>\n",
       "      <td>2</td>\n",
       "      <td>0</td>\n",
       "      <td>...</td>\n",
       "      <td>0</td>\n",
       "      <td>0</td>\n",
       "      <td>0</td>\n",
       "      <td>0</td>\n",
       "      <td>0</td>\n",
       "      <td>0</td>\n",
       "      <td>143760624</td>\n",
       "      <td>4</td>\n",
       "      <td>23</td>\n",
       "      <td>2015</td>\n",
       "    </tr>\n",
       "    <tr>\n",
       "      <th>242</th>\n",
       "      <td>Ligne14_RATP</td>\n",
       "      <td>13</td>\n",
       "      <td>8</td>\n",
       "      <td>8</td>\n",
       "      <td>1</td>\n",
       "      <td>1</td>\n",
       "      <td>0</td>\n",
       "      <td>0</td>\n",
       "      <td>2</td>\n",
       "      <td>0</td>\n",
       "      <td>...</td>\n",
       "      <td>0</td>\n",
       "      <td>0</td>\n",
       "      <td>0</td>\n",
       "      <td>0</td>\n",
       "      <td>0</td>\n",
       "      <td>0</td>\n",
       "      <td>143760624</td>\n",
       "      <td>3</td>\n",
       "      <td>13</td>\n",
       "      <td>2015</td>\n",
       "    </tr>\n",
       "    <tr>\n",
       "      <th>66</th>\n",
       "      <td>Ligne14_RATP</td>\n",
       "      <td>20</td>\n",
       "      <td>12</td>\n",
       "      <td>5</td>\n",
       "      <td>0</td>\n",
       "      <td>0</td>\n",
       "      <td>0</td>\n",
       "      <td>0</td>\n",
       "      <td>2</td>\n",
       "      <td>0</td>\n",
       "      <td>...</td>\n",
       "      <td>0</td>\n",
       "      <td>0</td>\n",
       "      <td>0</td>\n",
       "      <td>0</td>\n",
       "      <td>0</td>\n",
       "      <td>0</td>\n",
       "      <td>143760624</td>\n",
       "      <td>3</td>\n",
       "      <td>5</td>\n",
       "      <td>2014</td>\n",
       "    </tr>\n",
       "  </tbody>\n",
       "</table>\n",
       "<p>5 rows × 40 columns</p>\n",
       "</div>"
      ],
      "text/plain": [
       "         username T_avg V_avg W_avg  rain  fog  snow  Thunderstorms  1  2  \\\n",
       "505  Ligne14_RATP    16    11    23     0    0     0              0  2  0   \n",
       "454  Ligne14_RATP     5    10     8     1    1     0              0  2  0   \n",
       "260  Ligne14_RATP    12    11     6     0    0     0              0  2  0   \n",
       "242  Ligne14_RATP    13     8     8     1    1     0              0  2  0   \n",
       "66   Ligne14_RATP    20    12     5     0    0     0              0  2  0   \n",
       "\n",
       "     ...   93  94  95  77  78  45  Traffic-2016  Quarter  Month  Year  \n",
       "505  ...    0   0   0   0   0   0     143760624        2      7  2017  \n",
       "454  ...    0   0   0   0   0   0     143760624        1     10  2017  \n",
       "260  ...    0   0   0   0   0   0     143760624        4     23  2015  \n",
       "242  ...    0   0   0   0   0   0     143760624        3     13  2015  \n",
       "66   ...    0   0   0   0   0   0     143760624        3      5  2014  \n",
       "\n",
       "[5 rows x 40 columns]"
      ]
     },
     "execution_count": 33,
     "metadata": {},
     "output_type": "execute_result"
    }
   ],
   "source": [
    "df_class(df_consol).drop('reason', axis=1).sample(5)"
   ]
  },
  {
   "cell_type": "code",
   "execution_count": 34,
   "metadata": {},
   "outputs": [
    {
     "name": "stderr",
     "output_type": "stream",
     "text": [
      "D:\\Users\\ThinkPad\\Anaconda3\\lib\\site-packages\\ipykernel_launcher.py:22: FutureWarning: currently extract(expand=None) means expand=False (return Index/Series/DataFrame) but in a future version of pandas this will be changed to expand=True (return DataFrame)\n",
      "D:\\Users\\ThinkPad\\Anaconda3\\lib\\site-packages\\ipykernel_launcher.py:22: SettingWithCopyWarning: \n",
      "A value is trying to be set on a copy of a slice from a DataFrame.\n",
      "Try using .loc[row_indexer,col_indexer] = value instead\n",
      "\n",
      "See the caveats in the documentation: http://pandas.pydata.org/pandas-docs/stable/indexing.html#indexing-view-versus-copy\n",
      "D:\\Users\\ThinkPad\\Anaconda3\\lib\\site-packages\\pandas\\core\\generic.py:3643: SettingWithCopyWarning: \n",
      "A value is trying to be set on a copy of a slice from a DataFrame.\n",
      "Try using .loc[row_indexer,col_indexer] = value instead\n",
      "\n",
      "See the caveats in the documentation: http://pandas.pydata.org/pandas-docs/stable/indexing.html#indexing-view-versus-copy\n",
      "  self[name] = value\n"
     ]
    }
   ],
   "source": [
    "# let's run classification\n",
    "from sklearn.model_selection import train_test_split\n",
    "X = df_class(df_consol).drop('reason', axis=1)"
   ]
  },
  {
   "cell_type": "markdown",
   "metadata": {},
   "source": [
    "## Check X data"
   ]
  },
  {
   "cell_type": "code",
   "execution_count": 35,
   "metadata": {},
   "outputs": [
    {
     "data": {
      "text/html": [
       "<div>\n",
       "<style scoped>\n",
       "    .dataframe tbody tr th:only-of-type {\n",
       "        vertical-align: middle;\n",
       "    }\n",
       "\n",
       "    .dataframe tbody tr th {\n",
       "        vertical-align: top;\n",
       "    }\n",
       "\n",
       "    .dataframe thead th {\n",
       "        text-align: right;\n",
       "    }\n",
       "</style>\n",
       "<table border=\"1\" class=\"dataframe\">\n",
       "  <thead>\n",
       "    <tr style=\"text-align: right;\">\n",
       "      <th></th>\n",
       "      <th>username</th>\n",
       "      <th>T_avg</th>\n",
       "      <th>V_avg</th>\n",
       "      <th>W_avg</th>\n",
       "      <th>rain</th>\n",
       "      <th>fog</th>\n",
       "      <th>snow</th>\n",
       "      <th>Thunderstorms</th>\n",
       "      <th>1</th>\n",
       "      <th>2</th>\n",
       "      <th>...</th>\n",
       "      <th>93</th>\n",
       "      <th>94</th>\n",
       "      <th>95</th>\n",
       "      <th>77</th>\n",
       "      <th>78</th>\n",
       "      <th>45</th>\n",
       "      <th>Traffic-2016</th>\n",
       "      <th>Quarter</th>\n",
       "      <th>Month</th>\n",
       "      <th>Year</th>\n",
       "    </tr>\n",
       "  </thead>\n",
       "  <tbody>\n",
       "    <tr>\n",
       "      <th>0</th>\n",
       "      <td>Ligne14_RATP</td>\n",
       "      <td>10</td>\n",
       "      <td>11</td>\n",
       "      <td>18</td>\n",
       "      <td>1</td>\n",
       "      <td>0</td>\n",
       "      <td>0</td>\n",
       "      <td>0</td>\n",
       "      <td>2</td>\n",
       "      <td>0</td>\n",
       "      <td>...</td>\n",
       "      <td>0</td>\n",
       "      <td>0</td>\n",
       "      <td>0</td>\n",
       "      <td>0</td>\n",
       "      <td>0</td>\n",
       "      <td>0</td>\n",
       "      <td>143760624</td>\n",
       "      <td>1</td>\n",
       "      <td>9</td>\n",
       "      <td>2014</td>\n",
       "    </tr>\n",
       "    <tr>\n",
       "      <th>1</th>\n",
       "      <td>Ligne14_RATP</td>\n",
       "      <td>10</td>\n",
       "      <td>11</td>\n",
       "      <td>18</td>\n",
       "      <td>1</td>\n",
       "      <td>0</td>\n",
       "      <td>0</td>\n",
       "      <td>0</td>\n",
       "      <td>2</td>\n",
       "      <td>0</td>\n",
       "      <td>...</td>\n",
       "      <td>0</td>\n",
       "      <td>0</td>\n",
       "      <td>0</td>\n",
       "      <td>0</td>\n",
       "      <td>0</td>\n",
       "      <td>0</td>\n",
       "      <td>143760624</td>\n",
       "      <td>1</td>\n",
       "      <td>9</td>\n",
       "      <td>2014</td>\n",
       "    </tr>\n",
       "    <tr>\n",
       "      <th>2</th>\n",
       "      <td>Ligne14_RATP</td>\n",
       "      <td>10</td>\n",
       "      <td>11</td>\n",
       "      <td>18</td>\n",
       "      <td>1</td>\n",
       "      <td>0</td>\n",
       "      <td>0</td>\n",
       "      <td>0</td>\n",
       "      <td>2</td>\n",
       "      <td>0</td>\n",
       "      <td>...</td>\n",
       "      <td>0</td>\n",
       "      <td>0</td>\n",
       "      <td>0</td>\n",
       "      <td>0</td>\n",
       "      <td>0</td>\n",
       "      <td>0</td>\n",
       "      <td>143760624</td>\n",
       "      <td>1</td>\n",
       "      <td>9</td>\n",
       "      <td>2014</td>\n",
       "    </tr>\n",
       "    <tr>\n",
       "      <th>3</th>\n",
       "      <td>Ligne14_RATP</td>\n",
       "      <td>2</td>\n",
       "      <td>5</td>\n",
       "      <td>8</td>\n",
       "      <td>0</td>\n",
       "      <td>1</td>\n",
       "      <td>0</td>\n",
       "      <td>0</td>\n",
       "      <td>2</td>\n",
       "      <td>0</td>\n",
       "      <td>...</td>\n",
       "      <td>0</td>\n",
       "      <td>0</td>\n",
       "      <td>0</td>\n",
       "      <td>0</td>\n",
       "      <td>0</td>\n",
       "      <td>0</td>\n",
       "      <td>143760624</td>\n",
       "      <td>1</td>\n",
       "      <td>12</td>\n",
       "      <td>2014</td>\n",
       "    </tr>\n",
       "    <tr>\n",
       "      <th>4</th>\n",
       "      <td>Ligne14_RATP</td>\n",
       "      <td>2</td>\n",
       "      <td>5</td>\n",
       "      <td>8</td>\n",
       "      <td>0</td>\n",
       "      <td>1</td>\n",
       "      <td>0</td>\n",
       "      <td>0</td>\n",
       "      <td>2</td>\n",
       "      <td>0</td>\n",
       "      <td>...</td>\n",
       "      <td>0</td>\n",
       "      <td>0</td>\n",
       "      <td>0</td>\n",
       "      <td>0</td>\n",
       "      <td>0</td>\n",
       "      <td>0</td>\n",
       "      <td>143760624</td>\n",
       "      <td>1</td>\n",
       "      <td>12</td>\n",
       "      <td>2014</td>\n",
       "    </tr>\n",
       "  </tbody>\n",
       "</table>\n",
       "<p>5 rows × 40 columns</p>\n",
       "</div>"
      ],
      "text/plain": [
       "       username T_avg V_avg W_avg  rain  fog  snow  Thunderstorms  1  2  ...   \\\n",
       "0  Ligne14_RATP    10    11    18     1    0     0              0  2  0  ...    \n",
       "1  Ligne14_RATP    10    11    18     1    0     0              0  2  0  ...    \n",
       "2  Ligne14_RATP    10    11    18     1    0     0              0  2  0  ...    \n",
       "3  Ligne14_RATP     2     5     8     0    1     0              0  2  0  ...    \n",
       "4  Ligne14_RATP     2     5     8     0    1     0              0  2  0  ...    \n",
       "\n",
       "   93  94  95  77  78  45  Traffic-2016  Quarter  Month  Year  \n",
       "0   0   0   0   0   0   0     143760624        1      9  2014  \n",
       "1   0   0   0   0   0   0     143760624        1      9  2014  \n",
       "2   0   0   0   0   0   0     143760624        1      9  2014  \n",
       "3   0   0   0   0   0   0     143760624        1     12  2014  \n",
       "4   0   0   0   0   0   0     143760624        1     12  2014  \n",
       "\n",
       "[5 rows x 40 columns]"
      ]
     },
     "execution_count": 35,
     "metadata": {},
     "output_type": "execute_result"
    }
   ],
   "source": [
    "X.head()"
   ]
  },
  {
   "cell_type": "code",
   "execution_count": 36,
   "metadata": {},
   "outputs": [
    {
     "name": "stderr",
     "output_type": "stream",
     "text": [
      "D:\\Users\\ThinkPad\\Anaconda3\\lib\\site-packages\\ipykernel_launcher.py:22: FutureWarning: currently extract(expand=None) means expand=False (return Index/Series/DataFrame) but in a future version of pandas this will be changed to expand=True (return DataFrame)\n",
      "D:\\Users\\ThinkPad\\Anaconda3\\lib\\site-packages\\ipykernel_launcher.py:22: SettingWithCopyWarning: \n",
      "A value is trying to be set on a copy of a slice from a DataFrame.\n",
      "Try using .loc[row_indexer,col_indexer] = value instead\n",
      "\n",
      "See the caveats in the documentation: http://pandas.pydata.org/pandas-docs/stable/indexing.html#indexing-view-versus-copy\n",
      "D:\\Users\\ThinkPad\\Anaconda3\\lib\\site-packages\\pandas\\core\\generic.py:3643: SettingWithCopyWarning: \n",
      "A value is trying to be set on a copy of a slice from a DataFrame.\n",
      "Try using .loc[row_indexer,col_indexer] = value instead\n",
      "\n",
      "See the caveats in the documentation: http://pandas.pydata.org/pandas-docs/stable/indexing.html#indexing-view-versus-copy\n",
      "  self[name] = value\n"
     ]
    }
   ],
   "source": [
    "# convert all data into numeric values and scale the data\n",
    "X.T_avg = pd.to_numeric(X.T_avg)\n",
    "X.V_avg = pd.to_numeric(X.V_avg)\n",
    "X.W_avg = pd.to_numeric(X.W_avg)\n",
    "X = pd.get_dummies(X)\n",
    "y = df_class(df_consol).reason\n",
    "X_train, X_test, y_train, y_test = train_test_split(X, y, random_state = 0)\n",
    "from sklearn.preprocessing import MinMaxScaler\n",
    "scaler = MinMaxScaler()\n",
    "X_train_scaled = scaler.fit_transform(X_train)\n",
    "X_test_scaled = scaler.transform(X_test)"
   ]
  },
  {
   "cell_type": "markdown",
   "metadata": {},
   "source": [
    "# Run different models\n",
    "\n",
    "1. Decision Tree\n",
    "2. Random Forest\n",
    "3. KNN\n",
    "4. Linear SVC\n",
    "5. Logistic Regression"
   ]
  },
  {
   "cell_type": "code",
   "execution_count": 38,
   "metadata": {},
   "outputs": [
    {
     "name": "stdout",
     "output_type": "stream",
     "text": [
      "Accuracy is 0.7482014388489209\n",
      "F1 score is 0.7424348602611966\n"
     ]
    },
    {
     "name": "stderr",
     "output_type": "stream",
     "text": [
      "D:\\Users\\ThinkPad\\Anaconda3\\lib\\site-packages\\sklearn\\metrics\\classification.py:1135: UndefinedMetricWarning: F-score is ill-defined and being set to 0.0 in labels with no predicted samples.\n",
      "  'precision', 'predicted', average, warn_for)\n"
     ]
    }
   ],
   "source": [
    "from sklearn.tree import DecisionTreeClassifier\n",
    "from sklearn.metrics import auc, roc_auc_score, accuracy_score, f1_score\n",
    "\n",
    "tree = DecisionTreeClassifier()\n",
    "tree.fit(X_train_scaled, y_train)\n",
    "y_pred = tree.predict(X_test_scaled)\n",
    "acc_tree = accuracy_score(y_test, y_pred)\n",
    "f1_tree = f1_score(y_test, y_pred, average = 'weighted')\n",
    "print('Accuracy is {}'.format(accuracy_score(y_test, y_pred)))\n",
    "print('F1 score is {}'.format(f1_score(y_test, y_pred, average = 'weighted')))"
   ]
  },
  {
   "cell_type": "code",
   "execution_count": 40,
   "metadata": {},
   "outputs": [
    {
     "data": {
      "text/plain": [
       "<matplotlib.axes._subplots.AxesSubplot at 0xe9f3898>"
      ]
     },
     "execution_count": 40,
     "metadata": {},
     "output_type": "execute_result"
    },
    {
     "data": {
      "image/png": "[encoded data removed]",
      "text/plain": [
       "<matplotlib.figure.Figure at 0xe9ea978>"
      ]
     },
     "metadata": {},
     "output_type": "display_data"
    }
   ],
   "source": [
    "from sklearn.metrics import confusion_matrix\n",
    "y_predicted = tree.predict(X_test_scaled)\n",
    "confusion = confusion_matrix(y_test, y_predicted)\n",
    "df_cm = pd.DataFrame(confusion)\n",
    "#sns.set(font_scale=1.4)#for label size\n",
    "plt.figure(figsize = (10,7))\n",
    "sns.heatmap(df_cm)# font size"
   ]
  },
  {
   "cell_type": "code",
   "execution_count": 41,
   "metadata": {},
   "outputs": [
    {
     "data": {
      "image/png": "[encoded data removed]",
      "text/plain": [
       "<matplotlib.figure.Figure at 0xeab7b70>"
      ]
     },
     "metadata": {},
     "output_type": "display_data"
    },
    {
     "name": "stdout",
     "output_type": "stream",
     "text": [
      "Accuracy is 0.762589928057554\n",
      "Best parameter is n = 1\n",
      "F1 score is 0.7584480870931942\n"
     ]
    },
    {
     "name": "stderr",
     "output_type": "stream",
     "text": [
      "D:\\Users\\ThinkPad\\Anaconda3\\lib\\site-packages\\sklearn\\metrics\\classification.py:1135: UndefinedMetricWarning: F-score is ill-defined and being set to 0.0 in labels with no predicted samples.\n",
      "  'precision', 'predicted', average, warn_for)\n",
      "D:\\Users\\ThinkPad\\Anaconda3\\lib\\site-packages\\sklearn\\metrics\\classification.py:1137: UndefinedMetricWarning: F-score is ill-defined and being set to 0.0 in labels with no true samples.\n",
      "  'recall', 'true', average, warn_for)\n"
     ]
    }
   ],
   "source": [
    "# run knn\n",
    "import seaborn as sns\n",
    "from sklearn.neighbors import KNeighborsClassifier\n",
    "\n",
    "plt.figure()\n",
    "scores = []\n",
    "for n in range(1,50,20):\n",
    "    knn = KNeighborsClassifier(n_neighbors=n)\n",
    "    knn.fit(X_train_scaled, y_train)\n",
    "    scores.append(knn.score(X_test_scaled, y_test))\n",
    "plt.plot(range(1,50,20), scores)\n",
    "plt.title('KNN Accuracy curve')\n",
    "plt.xlabel('n_neighbors')\n",
    "plt.ylabel('Accuracy')\n",
    "plt.show()  \n",
    "acc_knn = max(scores)\n",
    "n_knn = list(range(1,50,20))[scores.index(max(scores))]\n",
    "\n",
    "# \n",
    "knn = KNeighborsClassifier(n_neighbors=n_knn)\n",
    "knn.fit(X_train_scaled, y_train)\n",
    "y_pred = knn.predict(X_test_scaled)\n",
    "f1_knn = f1_score(y_test, y_pred, average = 'weighted')\n",
    "print('Accuracy is {}'.format(acc_knn))\n",
    "print('Best parameter is n = {}'.format(n_knn))\n",
    "print('F1 score is {}'.format(f1_knn))"
   ]
  },
  {
   "cell_type": "code",
   "execution_count": 42,
   "metadata": {},
   "outputs": [
    {
     "data": {
      "text/plain": [
       "<matplotlib.axes._subplots.AxesSubplot at 0xeaf7390>"
      ]
     },
     "execution_count": 42,
     "metadata": {},
     "output_type": "execute_result"
    },
    {
     "data": {
      "image/png": "[encoded data removed]",
      "text/plain": [
       "<matplotlib.figure.Figure at 0xeaa1240>"
      ]
     },
     "metadata": {},
     "output_type": "display_data"
    }
   ],
   "source": [
    "# performance --> confusion matrix\n",
    "\n",
    "from sklearn.metrics import confusion_matrix\n",
    "y_predicted = knn.predict(X_test_scaled)\n",
    "confusion = confusion_matrix(y_test, y_predicted)\n",
    "import seaborn as sns\n",
    "import matplotlib.pyplot as plt\n",
    "\n",
    "df_cm = pd.DataFrame(confusion)\n",
    "#sns.set(font_scale=1.4)#for label size\n",
    "plt.figure(figsize = (10,7))\n",
    "sns.heatmap(df_cm, cmap=\"YlGnBu\")# font size"
   ]
  },
  {
   "cell_type": "code",
   "execution_count": 43,
   "metadata": {
    "scrolled": false
   },
   "outputs": [
    {
     "data": {
      "image/png": "[encoded data removed]",
      "text/plain": [
       "<matplotlib.figure.Figure at 0x10208438>"
      ]
     },
     "metadata": {},
     "output_type": "display_data"
    },
    {
     "name": "stdout",
     "output_type": "stream",
     "text": [
      "Accuracy is 0.8057553956834532\n",
      "Best parameter is n = 101\n",
      "F1 score is 0.7835634563110526\n"
     ]
    },
    {
     "name": "stderr",
     "output_type": "stream",
     "text": [
      "D:\\Users\\ThinkPad\\Anaconda3\\lib\\site-packages\\sklearn\\metrics\\classification.py:1135: UndefinedMetricWarning: F-score is ill-defined and being set to 0.0 in labels with no predicted samples.\n",
      "  'precision', 'predicted', average, warn_for)\n"
     ]
    }
   ],
   "source": [
    "# Random Forest\n",
    "from sklearn.ensemble import RandomForestClassifier\n",
    "from sklearn.metrics import auc, roc_auc_score, accuracy_score, f1_score\n",
    "scores = []\n",
    "for n in range(1,200,20):    \n",
    "    forest = RandomForestClassifier(n_estimators=n)\n",
    "    forest.fit(X_train_scaled, y_train)\n",
    "    y_pred = forest.predict(X_test_scaled)\n",
    "    scores.append(accuracy_score(y_test, y_pred))\n",
    "    #print(score)\n",
    "plt.plot(range(1,200,20), scores)\n",
    "plt.title('Random Forest accuracy curve')\n",
    "plt.xlabel('n_estimators')\n",
    "plt.ylabel('Accuracy score')\n",
    "plt.show()  \n",
    "\n",
    "acc_forest = max(scores)\n",
    "n_forest = list(range(1,200,20))[scores.index(max(scores))]\n",
    "# \n",
    "forest = RandomForestClassifier(n_estimators=n_forest)\n",
    "forest.fit(X_train_scaled, y_train)\n",
    "y_pred = forest.predict(X_test_scaled)\n",
    "f1_forest = f1_score(y_test, y_pred, average = 'weighted')\n",
    "print('Accuracy is {}'.format(acc_forest))\n",
    "print('Best parameter is n = {}'.format(n_forest))\n",
    "print('F1 score is {}'.format(f1_forest))"
   ]
  },
  {
   "cell_type": "code",
   "execution_count": 44,
   "metadata": {},
   "outputs": [
    {
     "data": {
      "text/plain": [
       "<matplotlib.axes._subplots.AxesSubplot at 0xeb7c0f0>"
      ]
     },
     "execution_count": 44,
     "metadata": {},
     "output_type": "execute_result"
    },
    {
     "data": {
      "image/png": "[encoded data removed]",
      "text/plain": [
       "<matplotlib.figure.Figure at 0xeaf7518>"
      ]
     },
     "metadata": {},
     "output_type": "display_data"
    }
   ],
   "source": [
    "from sklearn.metrics import confusion_matrix\n",
    "y_predicted = forest.predict(X_test_scaled)\n",
    "confusion = confusion_matrix(y_test, y_predicted)\n",
    "df_cm = pd.DataFrame(confusion)\n",
    "#sns.set(font_scale=1.4)#for label size\n",
    "plt.figure(figsize = (10,7))\n",
    "sns.heatmap(df_cm)# font size"
   ]
  },
  {
   "cell_type": "code",
   "execution_count": 45,
   "metadata": {},
   "outputs": [
    {
     "data": {
      "image/png": "[encoded data removed]",
      "text/plain": [
       "<matplotlib.figure.Figure at 0xed30908>"
      ]
     },
     "metadata": {},
     "output_type": "display_data"
    },
    {
     "name": "stdout",
     "output_type": "stream",
     "text": [
      "Accuracy is 0.35251798561151076\n",
      "Best parameter is n = 1\n",
      "F1 score is 0.1837593754783407\n"
     ]
    },
    {
     "name": "stderr",
     "output_type": "stream",
     "text": [
      "D:\\Users\\ThinkPad\\Anaconda3\\lib\\site-packages\\sklearn\\metrics\\classification.py:1135: UndefinedMetricWarning: F-score is ill-defined and being set to 0.0 in labels with no predicted samples.\n",
      "  'precision', 'predicted', average, warn_for)\n"
     ]
    }
   ],
   "source": [
    "from sklearn.ensemble import AdaBoostClassifier\n",
    "scores = []\n",
    "for n in [1,200,500,1000]:    \n",
    "    boost = AdaBoostClassifier(n_estimators=n)\n",
    "    boost.fit(X_train_scaled, y_train)\n",
    "    y_pred = boost.predict(X_test_scaled)\n",
    "    scores.append(accuracy_score(y_test, y_pred))\n",
    "    #print(score)\n",
    "plt.plot([1,200,500,1000], scores)\n",
    "plt.title('AdaBoost accuracy curve')\n",
    "plt.xlabel('n_estimators')\n",
    "plt.ylabel('Accuracy score')\n",
    "plt.show()  \n",
    "\n",
    "acc_boost = max(scores)\n",
    "n_boost = list(range(1,200,20))[scores.index(max(scores))]\n",
    "# \n",
    "boost = AdaBoostClassifier(n_estimators=n_boost)\n",
    "boost.fit(X_train_scaled, y_train)\n",
    "y_pred = boost.predict(X_test_scaled)\n",
    "f1_boost = f1_score(y_test, y_pred, average = 'weighted')\n",
    "print('Accuracy is {}'.format(acc_boost))\n",
    "print('Best parameter is n = {}'.format(n_boost))\n",
    "print('F1 score is {}'.format(f1_boost))"
   ]
  },
  {
   "cell_type": "code",
   "execution_count": 46,
   "metadata": {},
   "outputs": [
    {
     "data": {
      "image/png": "[encoded data removed]",
      "text/plain": [
       "<matplotlib.figure.Figure at 0x104107b8>"
      ]
     },
     "metadata": {},
     "output_type": "display_data"
    },
    {
     "name": "stdout",
     "output_type": "stream",
     "text": [
      "Accuracy is 0.381294964028777\n",
      "Best parameter is c = 70\n",
      "F1 score is 0.29843931698891524\n"
     ]
    },
    {
     "name": "stderr",
     "output_type": "stream",
     "text": [
      "D:\\Users\\ThinkPad\\Anaconda3\\lib\\site-packages\\sklearn\\metrics\\classification.py:1135: UndefinedMetricWarning: F-score is ill-defined and being set to 0.0 in labels with no predicted samples.\n",
      "  'precision', 'predicted', average, warn_for)\n"
     ]
    }
   ],
   "source": [
    "from sklearn.svm import LinearSVC\n",
    "import numpy as np\n",
    "scores = []\n",
    "rng = [1,10,50,70,100]\n",
    "for c in rng:    \n",
    "    l_svc = LinearSVC(C=c)\n",
    "    l_svc.fit(X_train_scaled, y_train)\n",
    "    y_pred = l_svc.predict(X_test_scaled)\n",
    "    scores.append(accuracy_score(y_test, y_pred))\n",
    "    #print(score)\n",
    "plt.plot(rng, scores)\n",
    "plt.title('Linear SVC')\n",
    "plt.xlabel('C')\n",
    "plt.ylabel('Accuracy score')\n",
    "plt.show()  \n",
    "acc_svc = max(scores)\n",
    "c_svc = rng[scores.index(max(scores))]\n",
    "# \n",
    "l_svc = LinearSVC(C=c_svc)\n",
    "l_svc.fit(X_train_scaled, y_train)\n",
    "y_pred = l_svc.predict(X_test_scaled)\n",
    "f1_svc = f1_score(y_test, y_pred, average = 'weighted')\n",
    "print('Accuracy is {}'.format(acc_svc))\n",
    "print('Best parameter is c = {}'.format(c_svc))\n",
    "print('F1 score is {}'.format(f1_svc))"
   ]
  },
  {
   "cell_type": "code",
   "execution_count": 47,
   "metadata": {},
   "outputs": [
    {
     "data": {
      "text/plain": [
       "<matplotlib.axes._subplots.AxesSubplot at 0xeaa1eb8>"
      ]
     },
     "execution_count": 47,
     "metadata": {},
     "output_type": "execute_result"
    },
    {
     "data": {
      "image/png": "[encoded data removed]",
      "text/plain": [
       "<matplotlib.figure.Figure at 0x10360b70>"
      ]
     },
     "metadata": {},
     "output_type": "display_data"
    }
   ],
   "source": [
    "l_svc = LinearSVC(C=c_svc)\n",
    "l_svc.fit(X_train_scaled, y_train)\n",
    "y_predicted = l_svc.predict(X_test_scaled)\n",
    "confusion = confusion_matrix(y_test, y_predicted)\n",
    "df_cm = pd.DataFrame(confusion)\n",
    "#sns.set(font_scale=1.4)#for label size\n",
    "plt.figure(figsize = (10,7))\n",
    "sns.heatmap(df_cm)# font size"
   ]
  },
  {
   "cell_type": "code",
   "execution_count": 48,
   "metadata": {},
   "outputs": [
    {
     "data": {
      "image/png": "[encoded data removed]",
      "text/plain": [
       "<matplotlib.figure.Figure at 0x103c2c18>"
      ]
     },
     "metadata": {},
     "output_type": "display_data"
    },
    {
     "name": "stdout",
     "output_type": "stream",
     "text": [
      "Accuracy is 0.38848920863309355\n",
      "Best parameter is c = 0.1\n",
      "F1 score is 0.27762407982021764\n"
     ]
    },
    {
     "name": "stderr",
     "output_type": "stream",
     "text": [
      "D:\\Users\\ThinkPad\\Anaconda3\\lib\\site-packages\\sklearn\\metrics\\classification.py:1135: UndefinedMetricWarning: F-score is ill-defined and being set to 0.0 in labels with no predicted samples.\n",
      "  'precision', 'predicted', average, warn_for)\n"
     ]
    }
   ],
   "source": [
    "from sklearn.linear_model import LogisticRegression\n",
    "import numpy as np\n",
    "scores = []\n",
    "rng = [0.1,1,3,5,10,15]\n",
    "for c in rng:    \n",
    "    lr = LogisticRegression(C=c)\n",
    "    lr.fit(X_train_scaled, y_train)\n",
    "    y_pred = lr.predict(X_test_scaled)\n",
    "    scores.append(accuracy_score(y_test, y_pred))\n",
    "    #print(score)\n",
    "plt.plot(rng, scores)\n",
    "plt.title('Logistic Regression')\n",
    "plt.xlabel('C')\n",
    "plt.ylabel('Accuracy score')\n",
    "plt.show()  \n",
    "acc_lr = max(scores)\n",
    "c_lr = rng[scores.index(max(scores))]\n",
    "# \n",
    "lr = LinearSVC(C=c_svc)\n",
    "lr.fit(X_train_scaled, y_train)\n",
    "y_pred = lr.predict(X_test_scaled)\n",
    "f1_lr = f1_score(y_test, y_pred, average = 'weighted')\n",
    "print('Accuracy is {}'.format(acc_lr))\n",
    "print('Best parameter is c = {}'.format(c_lr))\n",
    "print('F1 score is {}'.format(f1_lr))"
   ]
  },
  {
   "cell_type": "code",
   "execution_count": 49,
   "metadata": {},
   "outputs": [
    {
     "data": {
      "text/plain": [
       "<matplotlib.axes._subplots.AxesSubplot at 0x10b4f0f0>"
      ]
     },
     "execution_count": 49,
     "metadata": {},
     "output_type": "execute_result"
    },
    {
     "data": {
      "image/png": "[encoded data removed]",
      "text/plain": [
       "<matplotlib.figure.Figure at 0xef9cc18>"
      ]
     },
     "metadata": {},
     "output_type": "display_data"
    }
   ],
   "source": [
    "y_predicted = lr.predict(X_test_scaled)\n",
    "confusion = confusion_matrix(y_test, y_predicted)\n",
    "df_cm = pd.DataFrame(confusion)\n",
    "#sns.set(font_scale=1.4)#for label size\n",
    "plt.figure(figsize = (10,7))\n",
    "sns.heatmap(df_cm)# font size"
   ]
  },
  {
   "cell_type": "code",
   "execution_count": 50,
   "metadata": {},
   "outputs": [
    {
     "data": {
      "text/html": [
       "<div>\n",
       "<style scoped>\n",
       "    .dataframe tbody tr th:only-of-type {\n",
       "        vertical-align: middle;\n",
       "    }\n",
       "\n",
       "    .dataframe tbody tr th {\n",
       "        vertical-align: top;\n",
       "    }\n",
       "\n",
       "    .dataframe thead th {\n",
       "        text-align: right;\n",
       "    }\n",
       "</style>\n",
       "<table border=\"1\" class=\"dataframe\">\n",
       "  <thead>\n",
       "    <tr style=\"text-align: right;\">\n",
       "      <th></th>\n",
       "      <th>F1 Score</th>\n",
       "      <th>Model</th>\n",
       "      <th>Score</th>\n",
       "    </tr>\n",
       "  </thead>\n",
       "  <tbody>\n",
       "    <tr>\n",
       "      <th>2</th>\n",
       "      <td>0.783563</td>\n",
       "      <td>Random Forest</td>\n",
       "      <td>0.805755</td>\n",
       "    </tr>\n",
       "    <tr>\n",
       "      <th>1</th>\n",
       "      <td>0.758448</td>\n",
       "      <td>KNN</td>\n",
       "      <td>0.762590</td>\n",
       "    </tr>\n",
       "    <tr>\n",
       "      <th>5</th>\n",
       "      <td>0.742435</td>\n",
       "      <td>Decision Tree</td>\n",
       "      <td>0.748201</td>\n",
       "    </tr>\n",
       "    <tr>\n",
       "      <th>4</th>\n",
       "      <td>0.277624</td>\n",
       "      <td>Logistic Regression</td>\n",
       "      <td>0.388489</td>\n",
       "    </tr>\n",
       "    <tr>\n",
       "      <th>0</th>\n",
       "      <td>0.298439</td>\n",
       "      <td>Linear SVC</td>\n",
       "      <td>0.381295</td>\n",
       "    </tr>\n",
       "    <tr>\n",
       "      <th>3</th>\n",
       "      <td>0.183759</td>\n",
       "      <td>AdaBoost</td>\n",
       "      <td>0.352518</td>\n",
       "    </tr>\n",
       "  </tbody>\n",
       "</table>\n",
       "</div>"
      ],
      "text/plain": [
       "   F1 Score                Model     Score\n",
       "2  0.783563        Random Forest  0.805755\n",
       "1  0.758448                  KNN  0.762590\n",
       "5  0.742435        Decision Tree  0.748201\n",
       "4  0.277624  Logistic Regression  0.388489\n",
       "0  0.298439           Linear SVC  0.381295\n",
       "3  0.183759             AdaBoost  0.352518"
      ]
     },
     "execution_count": 50,
     "metadata": {},
     "output_type": "execute_result"
    }
   ],
   "source": [
    "models = pd.DataFrame({\n",
    "    'Model': ['Linear SVC', 'KNN', 'Random Forest', 'AdaBoost', \n",
    "              'Logistic Regression', 'Decision Tree'],\n",
    "    'Score': [acc_svc,acc_knn, acc_forest, acc_boost, \n",
    "              acc_lr, acc_tree],\n",
    "    'F1 Score':[f1_svc, f1_knn, f1_forest, f1_boost, \n",
    "               f1_lr, f1_tree]})\n",
    "\n",
    "models.sort_values(by='Score', ascending=False)"
   ]
  }
 ],
 "metadata": {
  "kernelspec": {
   "display_name": "Python 3",
   "language": "python",
   "name": "python3"
  },
  "language_info": {
   "codemirror_mode": {
    "name": "ipython",
    "version": 3
   },
   "file_extension": ".py",
   "mimetype": "text/x-python",
   "name": "python",
   "nbconvert_exporter": "python",
   "pygments_lexer": "ipython3",
   "version": "3.6.1"
  }
 },
 "nbformat": 4,
 "nbformat_minor": 2
}
