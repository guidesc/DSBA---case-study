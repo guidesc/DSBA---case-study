{
 "cells": [
  {
   "cell_type": "code",
   "execution_count": 1,
   "metadata": {
    "scrolled": true
   },
   "outputs": [
    {
     "name": "stderr",
     "output_type": "stream",
     "text": [
      "b'Skipping line 4313: expected 10 fields, saw 11\\n'\n",
      "b'Skipping line 1089: expected 10 fields, saw 11\\nSkipping line 4918: expected 10 fields, saw 11\\nSkipping line 7193: expected 10 fields, saw 11\\n'\n",
      "b'Skipping line 11823: expected 10 fields, saw 11\\nSkipping line 12791: expected 10 fields, saw 11\\nSkipping line 17202: expected 10 fields, saw 11\\nSkipping line 17564: expected 10 fields, saw 11\\nSkipping line 17567: expected 10 fields, saw 11\\nSkipping line 17835: expected 10 fields, saw 11\\nSkipping line 17848: expected 10 fields, saw 11\\nSkipping line 18418: expected 10 fields, saw 11\\nSkipping line 18430: expected 10 fields, saw 11\\nSkipping line 18509: expected 10 fields, saw 11\\nSkipping line 18599: expected 10 fields, saw 11\\nSkipping line 18880: expected 10 fields, saw 11\\nSkipping line 18920: expected 10 fields, saw 11\\nSkipping line 19707: expected 10 fields, saw 11\\n'\n",
      "b'Skipping line 4081: expected 10 fields, saw 11\\nSkipping line 10409: expected 10 fields, saw 11\\nSkipping line 14147: expected 10 fields, saw 11\\nSkipping line 16851: expected 10 fields, saw 11\\nSkipping line 17961: expected 10 fields, saw 11\\nSkipping line 18574: expected 10 fields, saw 11\\nSkipping line 18658: expected 10 fields, saw 11\\nSkipping line 21004: expected 10 fields, saw 11\\nSkipping line 21895: expected 10 fields, saw 11\\nSkipping line 23069: expected 10 fields, saw 11\\n'\n",
      "b'Skipping line 5159: expected 10 fields, saw 11\\nSkipping line 7458: expected 10 fields, saw 11\\nSkipping line 7672: expected 10 fields, saw 11\\n'\n",
      "b'Skipping line 428: expected 10 fields, saw 11\\n'\n"
     ]
    }
   ],
   "source": [
    "import pandas as pd\n",
    "import seaborn as sns\n",
    "import matplotlib.pyplot as plt\n",
    "import numpy as np\n",
    "\n",
    "# ---- Summary of the twitter accounts -----#\n",
    "# RER_A\n",
    "# RERB\n",
    "# RERC_SNCF --< Infotrafic\n",
    "# RERD_SNCF --< Infotrafic\n",
    "# RERE_SNCF --< Infotrafic\n",
    "# Ligne12_RATP --< from 1 to 14 lines\n",
    "\n",
    "line_list = ['RER_A', 'RER_B', 'RER_C', 'RER_D', 'RER_E','Ligne1_RATP', 'Ligne2_RATP', 'Ligne3_RATP', 'Ligne4_RATP',\n",
    " 'Ligne5_RATP', 'Ligne6_RATP', 'Ligne7_RATP', 'Ligne8_RATP', 'Ligne9_RATP', 'Ligne10_RATP', 'Ligne11_RATP', 'Ligne12_RATP',\n",
    " 'Ligne13_RATP', 'Ligne14_RATP' ]\n",
    "\n",
    "file_path = \"data/\"\n",
    "line_dict = dict()\n",
    "for item in line_list:\n",
    "    line_dict[item] = pd.read_csv(file_path + item +'.csv', sep=';',error_bad_lines=False)\n",
    "    \n"
   ]
  },
  {
   "cell_type": "code",
   "execution_count": 2,
   "metadata": {},
   "outputs": [
    {
     "name": "stdout",
     "output_type": "stream",
     "text": [
      "RER_A (21028, 10)\n",
      "RER_B (15540, 10)\n",
      "RER_C (23086, 10)\n",
      "RER_D (23306, 10)\n",
      "RER_E (8497, 10)\n",
      "Ligne1_RATP (7436, 10)\n",
      "Ligne2_RATP (5518, 10)\n",
      "Ligne3_RATP (5043, 10)\n",
      "Ligne4_RATP (9091, 10)\n",
      "Ligne5_RATP (5998, 10)\n",
      "Ligne6_RATP (6977, 10)\n",
      "Ligne7_RATP (5963, 10)\n",
      "Ligne8_RATP (5903, 10)\n",
      "Ligne9_RATP (5642, 10)\n",
      "Ligne10_RATP (3950, 10)\n",
      "Ligne11_RATP (3812, 10)\n",
      "Ligne12_RATP (6335, 10)\n",
      "Ligne13_RATP (6992, 10)\n",
      "Ligne14_RATP (4927, 10)\n"
     ]
    }
   ],
   "source": [
    "# Check how many items we have\n",
    "for k,v in line_dict.items():\n",
    "    print(k, v.shape)\n",
    "    #print(v.head())"
   ]
  },
  {
   "cell_type": "code",
   "execution_count": 3,
   "metadata": {
    "scrolled": true
   },
   "outputs": [
    {
     "data": {
      "text/html": [
       "<div>\n",
       "<style>\n",
       "    .dataframe thead tr:only-child th {\n",
       "        text-align: right;\n",
       "    }\n",
       "\n",
       "    .dataframe thead th {\n",
       "        text-align: left;\n",
       "    }\n",
       "\n",
       "    .dataframe tbody tr th {\n",
       "        vertical-align: top;\n",
       "    }\n",
       "</style>\n",
       "<table border=\"1\" class=\"dataframe\">\n",
       "  <thead>\n",
       "    <tr style=\"text-align: right;\">\n",
       "      <th></th>\n",
       "      <th>username</th>\n",
       "      <th>date</th>\n",
       "      <th>retweets</th>\n",
       "      <th>favorites</th>\n",
       "      <th>text</th>\n",
       "      <th>geo</th>\n",
       "      <th>mentions</th>\n",
       "      <th>hashtags</th>\n",
       "      <th>id</th>\n",
       "      <th>permalink</th>\n",
       "    </tr>\n",
       "  </thead>\n",
       "  <tbody>\n",
       "    <tr>\n",
       "      <th>0</th>\n",
       "      <td>Ligne11_RATP</td>\n",
       "      <td>2017-10-10 12:19</td>\n",
       "      <td>0</td>\n",
       "      <td>0</td>\n",
       "      <td>Bonjour, la #Ligne11 fonctionne correctement, ...</td>\n",
       "      <td>NaN</td>\n",
       "      <td>NaN</td>\n",
       "      <td>#Ligne11</td>\n",
       "      <td>9.176961e+17</td>\n",
       "      <td>https://twitter.com/Ligne11_RATP/status/917696...</td>\n",
       "    </tr>\n",
       "    <tr>\n",
       "      <th>1</th>\n",
       "      <td>Ligne11_RATP</td>\n",
       "      <td>2017-10-09 14:22</td>\n",
       "      <td>0</td>\n",
       "      <td>1</td>\n",
       "      <td>Demain, le trafic sera normal sur votre #ligne...</td>\n",
       "      <td>NaN</td>\n",
       "      <td>NaN</td>\n",
       "      <td>#ligne11 #RATP #greve10octobre</td>\n",
       "      <td>9.173647e+17</td>\n",
       "      <td>https://twitter.com/Ligne11_RATP/status/917364...</td>\n",
       "    </tr>\n",
       "    <tr>\n",
       "      <th>2</th>\n",
       "      <td>Ligne11_RATP</td>\n",
       "      <td>2017-10-08 12:58</td>\n",
       "      <td>0</td>\n",
       "      <td>1</td>\n",
       "      <td>Retour à un trafic régulier sur l'ensemble de ...</td>\n",
       "      <td>NaN</td>\n",
       "      <td>NaN</td>\n",
       "      <td>#Ligne11 #RATP</td>\n",
       "      <td>9.169811e+17</td>\n",
       "      <td>https://twitter.com/Ligne11_RATP/status/916981...</td>\n",
       "    </tr>\n",
       "    <tr>\n",
       "      <th>3</th>\n",
       "      <td>Ligne11_RATP</td>\n",
       "      <td>2017-10-08 12:51</td>\n",
       "      <td>1</td>\n",
       "      <td>0</td>\n",
       "      <td>12:51, Retour à un trafic régulier sur l'ensem...</td>\n",
       "      <td>NaN</td>\n",
       "      <td>NaN</td>\n",
       "      <td>#Ligne11 #RATP</td>\n",
       "      <td>9.169795e+17</td>\n",
       "      <td>https://twitter.com/Ligne11_RATP/status/916979...</td>\n",
       "    </tr>\n",
       "    <tr>\n",
       "      <th>4</th>\n",
       "      <td>Ligne11_RATP</td>\n",
       "      <td>2017-10-08 12:45</td>\n",
       "      <td>1</td>\n",
       "      <td>0</td>\n",
       "      <td>12:43, le trafic reprend progressivement (coli...</td>\n",
       "      <td>NaN</td>\n",
       "      <td>NaN</td>\n",
       "      <td>#RATP #Ligne11</td>\n",
       "      <td>9.169778e+17</td>\n",
       "      <td>https://twitter.com/Ligne11_RATP/status/916977...</td>\n",
       "    </tr>\n",
       "  </tbody>\n",
       "</table>\n",
       "</div>"
      ],
      "text/plain": [
       "       username              date  retweets  favorites  \\\n",
       "0  Ligne11_RATP  2017-10-10 12:19         0          0   \n",
       "1  Ligne11_RATP  2017-10-09 14:22         0          1   \n",
       "2  Ligne11_RATP  2017-10-08 12:58         0          1   \n",
       "3  Ligne11_RATP  2017-10-08 12:51         1          0   \n",
       "4  Ligne11_RATP  2017-10-08 12:45         1          0   \n",
       "\n",
       "                                                text  geo mentions  \\\n",
       "0  Bonjour, la #Ligne11 fonctionne correctement, ...  NaN      NaN   \n",
       "1  Demain, le trafic sera normal sur votre #ligne...  NaN      NaN   \n",
       "2  Retour à un trafic régulier sur l'ensemble de ...  NaN      NaN   \n",
       "3  12:51, Retour à un trafic régulier sur l'ensem...  NaN      NaN   \n",
       "4  12:43, le trafic reprend progressivement (coli...  NaN      NaN   \n",
       "\n",
       "                         hashtags            id  \\\n",
       "0                        #Ligne11  9.176961e+17   \n",
       "1  #ligne11 #RATP #greve10octobre  9.173647e+17   \n",
       "2                  #Ligne11 #RATP  9.169811e+17   \n",
       "3                  #Ligne11 #RATP  9.169795e+17   \n",
       "4                  #RATP #Ligne11  9.169778e+17   \n",
       "\n",
       "                                           permalink  \n",
       "0  https://twitter.com/Ligne11_RATP/status/917696...  \n",
       "1  https://twitter.com/Ligne11_RATP/status/917364...  \n",
       "2  https://twitter.com/Ligne11_RATP/status/916981...  \n",
       "3  https://twitter.com/Ligne11_RATP/status/916979...  \n",
       "4  https://twitter.com/Ligne11_RATP/status/916977...  "
      ]
     },
     "execution_count": 3,
     "metadata": {},
     "output_type": "execute_result"
    }
   ],
   "source": [
    "line_dict['Ligne11_RATP'].head()"
   ]
  },
  {
   "cell_type": "code",
   "execution_count": 4,
   "metadata": {},
   "outputs": [
    {
     "data": {
      "text/html": [
       "<div>\n",
       "<style>\n",
       "    .dataframe thead tr:only-child th {\n",
       "        text-align: right;\n",
       "    }\n",
       "\n",
       "    .dataframe thead th {\n",
       "        text-align: left;\n",
       "    }\n",
       "\n",
       "    .dataframe tbody tr th {\n",
       "        vertical-align: top;\n",
       "    }\n",
       "</style>\n",
       "<table border=\"1\" class=\"dataframe\">\n",
       "  <thead>\n",
       "    <tr style=\"text-align: right;\">\n",
       "      <th></th>\n",
       "      <th>username</th>\n",
       "      <th>date</th>\n",
       "      <th>retweets</th>\n",
       "      <th>favorites</th>\n",
       "      <th>text</th>\n",
       "      <th>geo</th>\n",
       "      <th>mentions</th>\n",
       "      <th>hashtags</th>\n",
       "      <th>id</th>\n",
       "      <th>permalink</th>\n",
       "    </tr>\n",
       "  </thead>\n",
       "  <tbody>\n",
       "    <tr>\n",
       "      <th>0</th>\n",
       "      <td>RERB</td>\n",
       "      <td>2017-10-12 19:16</td>\n",
       "      <td>0</td>\n",
       "      <td>0</td>\n",
       "      <td>Toutes les missions sont rendues omnibus. Bonn...</td>\n",
       "      <td>NaN</td>\n",
       "      <td>NaN</td>\n",
       "      <td>NaN</td>\n",
       "      <td>9.185259e+17</td>\n",
       "      <td>https://twitter.com/RERB/status/91852587036885...</td>\n",
       "    </tr>\n",
       "    <tr>\n",
       "      <th>1</th>\n",
       "      <td>RERB</td>\n",
       "      <td>2017-10-12 18:51</td>\n",
       "      <td>1</td>\n",
       "      <td>0</td>\n",
       "      <td>Bonsoir, le trafic reprend progressivement mai...</td>\n",
       "      <td>NaN</td>\n",
       "      <td>NaN</td>\n",
       "      <td>NaN</td>\n",
       "      <td>9.185196e+17</td>\n",
       "      <td>https://twitter.com/RERB/status/91851956429560...</td>\n",
       "    </tr>\n",
       "    <tr>\n",
       "      <th>2</th>\n",
       "      <td>RERB</td>\n",
       "      <td>2017-10-12 18:45</td>\n",
       "      <td>1</td>\n",
       "      <td>0</td>\n",
       "      <td>Il est également possible de prendre un train ...</td>\n",
       "      <td>NaN</td>\n",
       "      <td>NaN</td>\n",
       "      <td>NaN</td>\n",
       "      <td>9.185180e+17</td>\n",
       "      <td>https://twitter.com/RERB/status/91851797897883...</td>\n",
       "    </tr>\n",
       "    <tr>\n",
       "      <th>3</th>\n",
       "      <td>RERB</td>\n",
       "      <td>2017-10-12 18:40</td>\n",
       "      <td>0</td>\n",
       "      <td>0</td>\n",
       "      <td>Bonsoir, oui des trains circulent au départ d'...</td>\n",
       "      <td>NaN</td>\n",
       "      <td>NaN</td>\n",
       "      <td>NaN</td>\n",
       "      <td>9.185168e+17</td>\n",
       "      <td>https://twitter.com/RERB/status/91851677975599...</td>\n",
       "    </tr>\n",
       "    <tr>\n",
       "      <th>4</th>\n",
       "      <td>RERB</td>\n",
       "      <td>2017-10-12 18:36</td>\n",
       "      <td>0</td>\n",
       "      <td>1</td>\n",
       "      <td>Bonsoir, l'incident est terminé, le trafic rep...</td>\n",
       "      <td>NaN</td>\n",
       "      <td>NaN</td>\n",
       "      <td>NaN</td>\n",
       "      <td>9.185157e+17</td>\n",
       "      <td>https://twitter.com/RERB/status/91851566784590...</td>\n",
       "    </tr>\n",
       "  </tbody>\n",
       "</table>\n",
       "</div>"
      ],
      "text/plain": [
       "  username              date  retweets  favorites  \\\n",
       "0     RERB  2017-10-12 19:16         0          0   \n",
       "1     RERB  2017-10-12 18:51         1          0   \n",
       "2     RERB  2017-10-12 18:45         1          0   \n",
       "3     RERB  2017-10-12 18:40         0          0   \n",
       "4     RERB  2017-10-12 18:36         0          1   \n",
       "\n",
       "                                                text  geo mentions hashtags  \\\n",
       "0  Toutes les missions sont rendues omnibus. Bonn...  NaN      NaN      NaN   \n",
       "1  Bonsoir, le trafic reprend progressivement mai...  NaN      NaN      NaN   \n",
       "2  Il est également possible de prendre un train ...  NaN      NaN      NaN   \n",
       "3  Bonsoir, oui des trains circulent au départ d'...  NaN      NaN      NaN   \n",
       "4  Bonsoir, l'incident est terminé, le trafic rep...  NaN      NaN      NaN   \n",
       "\n",
       "             id                                          permalink  \n",
       "0  9.185259e+17  https://twitter.com/RERB/status/91852587036885...  \n",
       "1  9.185196e+17  https://twitter.com/RERB/status/91851956429560...  \n",
       "2  9.185180e+17  https://twitter.com/RERB/status/91851797897883...  \n",
       "3  9.185168e+17  https://twitter.com/RERB/status/91851677975599...  \n",
       "4  9.185157e+17  https://twitter.com/RERB/status/91851566784590...  "
      ]
     },
     "execution_count": 4,
     "metadata": {},
     "output_type": "execute_result"
    }
   ],
   "source": [
    "line_dict['RER_B'].head()"
   ]
  },
  {
   "cell_type": "code",
   "execution_count": 5,
   "metadata": {},
   "outputs": [
    {
     "data": {
      "text/plain": [
       "2987     Ce chien a été retrouvé ce matin, vers 7h, sur...\n",
       "107      1 incident électrique au niveau de la caténair...\n",
       "784      [ #TravauxEteRERA ] Les travaux sont terminés ...\n",
       "16061    Arrêt de travail spontané en raison de l'agres...\n",
       "16046    Depuis 7h52 fermeture des gares #RERA #RATP sa...\n",
       "Name: text, dtype: object"
      ]
     },
     "execution_count": 5,
     "metadata": {},
     "output_type": "execute_result"
    }
   ],
   "source": [
    "# sort by retweets --> a dog is missing??? comes up first???\n",
    "line_dict['RER_A'].sort_values(by='retweets',ascending = False)['text'].head()"
   ]
  },
  {
   "cell_type": "code",
   "execution_count": 6,
   "metadata": {
    "collapsed": true
   },
   "outputs": [],
   "source": [
    "# find all station names --> gares\n",
    "df_st = pd.read_csv('data\\gares.csv', delimiter=';')\n",
    "gares = df_st.nomptar.str.split('(')\n",
    "gares = [x[0].rstrip(' ') for x in gares] # la defense has a lagging space"
   ]
  },
  {
   "cell_type": "code",
   "execution_count": 7,
   "metadata": {},
   "outputs": [
    {
     "data": {
      "text/plain": [
       "'RERC_SNCF'"
      ]
     },
     "execution_count": 7,
     "metadata": {},
     "output_type": "execute_result"
    }
   ],
   "source": [
    "line_dict['RER_C'].username[0]"
   ]
  },
  {
   "cell_type": "code",
   "execution_count": 129,
   "metadata": {
    "collapsed": true,
    "scrolled": true
   },
   "outputs": [],
   "source": [
    "# change display to 200\n",
    "## Step 1: delete all \n",
    "## Théo, Bonjour, @, Tom, Emma\n",
    "import re\n",
    "def clean_data(input):\n",
    "    pd.options.display.max_colwidth = 200\n",
    "    if re.search('RER[CDE]_SNCF',input.username[0]):\n",
    "        output = input[input.text.str.contains('Infotrafic', na=False)]\n",
    "    else:\n",
    "        to_drop = [\"Bonjour\", \"@\",'Théo', 'Emma','Bjr','Inès',\n",
    "                   'Lana','vous','soirée','Oui','estimée', \n",
    "                   'Travaux prévus','journée','bonjour','rerb', \n",
    "                   'rerc','rerd', 'rere','Infotrafic'] # all about conversations \n",
    "        output = input[~input.text.str.contains('|'.join(to_drop), na=False)]\n",
    "    return output\n",
    "output = clean_data(line_dict['RER_A'])"
   ]
  },
  {
   "cell_type": "code",
   "execution_count": 9,
   "metadata": {},
   "outputs": [
    {
     "data": {
      "text/plain": [
       "[('incident', 2179),\n",
       " ('ralenti', 1613),\n",
       " ('retour', 1380),\n",
       " ('voyageur', 1297),\n",
       " ('colis', 1283),\n",
       " ('suspect', 1274),\n",
       " ('terminé', 1250),\n",
       " ('régulier', 1219),\n",
       " ('interrompu', 1004),\n",
       " ('poissy', 912),\n",
       " ('panne', 775),\n",
       " ('rame', 661),\n",
       " ('perturbé', 661),\n",
       " ('stationne', 596),\n",
       " ('travaux', 584),\n",
       " ('chessy', 546),\n",
       " ('nation', 529),\n",
       " ('train', 500),\n",
       " ('auber', 494),\n",
       " ('malaise', 485)]"
      ]
     },
     "execution_count": 9,
     "metadata": {},
     "output_type": "execute_result"
    }
   ],
   "source": [
    "# top 20 frequent words\n",
    "\n",
    "import nltk\n",
    "def words_freq(output):\n",
    "    moby_tokens = nltk.word_tokenize(output.text.str.lower().str.cat(sep = ' '))\n",
    "    text1 = nltk.Text(moby_tokens)\n",
    "    nltk.FreqDist(text1).most_common(20)\n",
    "    stopwords = nltk.corpus.stopwords.words('french')\n",
    "    stopwords = stopwords + ['rera','ratp','ligne','entre',\n",
    "                             'http','les','vers','dir','trafic','gare']\n",
    "    words_except_stop_dist = nltk.FreqDist(w for w in text1 if w not \n",
    "                                           in stopwords and w.isalpha() )\n",
    "    return words_except_stop_dist\n",
    "words_freq(output).most_common(20)"
   ]
  },
  {
   "cell_type": "code",
   "execution_count": 10,
   "metadata": {
    "collapsed": true
   },
   "outputs": [],
   "source": [
    "from collections import Counter\n",
    "def gare_fq(output):\n",
    "    gare_freq = Counter()\n",
    "    for gare in gares:\n",
    "        gare_freq[gare] = output.text.str.lower().str.contains(gare.lower()).sum()\n",
    "    return gare_freq\n",
    "gare_freq = gare_fq(output)"
   ]
  },
  {
   "cell_type": "code",
   "execution_count": 11,
   "metadata": {
    "scrolled": true
   },
   "outputs": [
    {
     "data": {
      "text/plain": [
       "[('Poissy', 1011),\n",
       " ('Nation', 574),\n",
       " ('Auber', 524),\n",
       " ('Vincennes', 375),\n",
       " ('La Défense', 218),\n",
       " ('Torcy', 213),\n",
       " ('Les Halles', 196),\n",
       " ('Gare de Lyon', 163),\n",
       " ('Cergy-Le-Haut', 156),\n",
       " ('Val de Fontenay', 150),\n",
       " ('Rueil-Malmaison', 138),\n",
       " ('Noisy-le-Grand', 119),\n",
       " ('Châtelet', 115),\n",
       " ('Maisons-Laffitte', 96),\n",
       " ('Europe', 87),\n",
       " ('Sartrouville', 85),\n",
       " (\"Val d'europe\", 82),\n",
       " ('Varenne', 70),\n",
       " ('Saint-Germain-en-Laye', 67),\n",
       " ('Nanterre-Préfecture', 48)]"
      ]
     },
     "execution_count": 11,
     "metadata": {},
     "output_type": "execute_result"
    }
   ],
   "source": [
    "# Top 20\n",
    "gare_freq.most_common(20)"
   ]
  },
  {
   "cell_type": "code",
   "execution_count": 12,
   "metadata": {},
   "outputs": [
    {
     "data": {
      "text/plain": [
       "18781                    09:58, le trafic est interrompu entre Acheres-Ville et Cergy-Le-Haut (panne électrique) #RATP #RERA\n",
       "17617             06:34, le trafic est interrompu entre Cergy-Le-Haut et Maisons-Laffitte (acte de malveillance) #RATP #RERA\n",
       "14613            08:44, le trafic est ralenti de Cergy-Le-Haut vers Boissy/ Marne-la-Vallee (incident technique) #RATP #RERA\n",
       "6095                 08:17, le trafic est interrompu entre Cergy-Le-Haut et Maisons-Laffitte (panne de matériel) #RATP #RERA\n",
       "5400        20:09, le trafic est interrompu entre Maisons-Laffitte et Cergy-Le-Haut (accident grave de voyageur) #RATP #RERA\n",
       "13584                17:16, le trafic est interrompu entre Cergy-Le-Haut et Acheres-Ville (voyageur sur la voie) #RATP #RERA\n",
       "15186        11:22, le trafic est ralenti de Houilles Carrieres-sur-Seine vers Cergy-Le-Haut (panne de matériel) #RATP #RERA\n",
       "8080     16:41, le trafic est interrompu entre Nanterre-Prefecture et Cergy-Le-Haut (accident grave de voyageur) #RATP #RERA\n",
       "5398           21:31, le trafic est perturbé de Maisons-Laffitte vers Cergy-Le-Haut (accident grave de voyageur) #RATP #RERA\n",
       "5582                 08:06, le trafic est interrompu entre Maisons-Laffitte et Cergy-Le-Haut (panne de matériel) #RATP #RERA\n",
       "Name: text, dtype: object"
      ]
     },
     "execution_count": 12,
     "metadata": {},
     "output_type": "execute_result"
    }
   ],
   "source": [
    "# sometimes, cergy-le-haut, naterre may be due to their direction --> \n",
    "# result is true, many items are entre XXX et XXX\n",
    "output.text[output.text.str.contains('Cergy-Le-Haut')].sample(10)"
   ]
  },
  {
   "cell_type": "code",
   "execution_count": 13,
   "metadata": {},
   "outputs": [
    {
     "data": {
      "text/plain": [
       "[('incident', 2179),\n",
       " ('ralenti', 1613),\n",
       " ('retour', 1380),\n",
       " ('voyageur', 1297),\n",
       " ('colis', 1283),\n",
       " ('suspect', 1274),\n",
       " ('terminé', 1250),\n",
       " ('régulier', 1219),\n",
       " ('interrompu', 1004),\n",
       " ('poissy', 912),\n",
       " ('panne', 775),\n",
       " ('rame', 661),\n",
       " ('perturbé', 661),\n",
       " ('stationne', 596),\n",
       " ('travaux', 584),\n",
       " ('chessy', 546),\n",
       " ('nation', 529),\n",
       " ('train', 500),\n",
       " ('auber', 494),\n",
       " ('malaise', 485)]"
      ]
     },
     "execution_count": 13,
     "metadata": {},
     "output_type": "execute_result"
    }
   ],
   "source": [
    "## Now let's try RER B\n",
    "output_b = clean_data(line_dict['RER_B'])\n",
    "words_freq(output).most_common(20)"
   ]
  },
  {
   "cell_type": "code",
   "execution_count": 14,
   "metadata": {},
   "outputs": [
    {
     "data": {
      "text/plain": [
       "[('Gare du Nord', 631),\n",
       " ('Robinson', 526),\n",
       " ('Palaiseau', 236),\n",
       " ('Les Halles', 235),\n",
       " ('Antony', 155),\n",
       " ('Bourg-la-Reine', 129),\n",
       " ('Mitry-Claye', 124),\n",
       " ('Châtelet', 108),\n",
       " ('Laplace', 106),\n",
       " ('Luxembourg', 96),\n",
       " ('Massy-Palaiseau', 87),\n",
       " ('Aulnay-sous-Bois', 79),\n",
       " ('Parc des Expositions', 60),\n",
       " ('Le Bourget', 58),\n",
       " ('Port Royal', 56),\n",
       " ('Cité', 49),\n",
       " ('Denfert-Rochereau', 34),\n",
       " ('Orsay-Ville', 34),\n",
       " ('La Plaine-Stade de France', 31),\n",
       " ('Sceaux', 30)]"
      ]
     },
     "execution_count": 14,
     "metadata": {},
     "output_type": "execute_result"
    }
   ],
   "source": [
    "gare_fq(output_b).most_common(20)"
   ]
  },
  {
   "cell_type": "code",
   "execution_count": 124,
   "metadata": {},
   "outputs": [],
   "source": [
    "# what if we write a summary function \n",
    "def summary(input):\n",
    "    output = input\n",
    "    print()\n",
    "    print ('The 20 most frequent words are: ')\n",
    "    print(words_freq(output).most_common(20))\n",
    "    print('\\n')\n",
    "    print('The 20 most frequent stations are: ')\n",
    "    print(gare_fq(output).most_common(20))\n",
    "    print('\\n')\n",
    "    print('The 20 most frequent reasons are: ')\n",
    "    print(incidient_reason(output).most_common(20))\n",
    "#summary(line_dict['RER_A'])"
   ]
  },
  {
   "cell_type": "code",
   "execution_count": 126,
   "metadata": {
    "collapsed": true
   },
   "outputs": [],
   "source": [
    "from collections import Counter\n",
    "def incidient_reason(input):\n",
    "    output = input\n",
    "    incidents = ['malaise voyageur',\"incident d'exploitation\",\"incident technique\",'Incident de signalisation'\n",
    "                \"colis suspect\", \"voyageur malade\", \"incident voyageur\", \n",
    "                \"divers incidents\",'panne de signalisation','panne de matériel',\n",
    "                'panne électrique','panne mécanique','panne de caténaire',\n",
    "                \"panne d'aiguillage\",'panne matériel','panne éléctrique', \n",
    "                'panne sur un train','pannes de signalisation',\"panne d'un train\",\n",
    "                \"panne de train\",'obstacle sur la voie', 'bagage abandonné','incident de passage', \n",
    "                 'accident de personne','feu aux abords','pb signalisation','acte de malveillance',\n",
    "                 'jets de pierre','obstacle sur la voie','bagage oublié',\n",
    "                 'personnes sur les voies','branche tombée','jet de projectile']\n",
    "    incident_freq = Counter()\n",
    "    for incident in incidents:\n",
    "        incident_freq[incident] = output.text.str.lower().str.contains(incident.lower()).sum()\n",
    "    return incident_freq   "
   ]
  },
  {
   "cell_type": "code",
   "execution_count": 68,
   "metadata": {},
   "outputs": [],
   "source": [
    "import re\n",
    "test = []\n",
    "for a in clean_data(line_dict['RER_C']).text:\n",
    "    test.append(re.findall('(\\(.+\\))', a))\n",
    "test2 = []\n",
    "for i in test:\n",
    "    if i != []:\n",
    "        #print(i[0])\n",
    "        test2.append(i[0])\n",
    "        \n",
    "set(test2)"
   ]
  },
  {
   "cell_type": "code",
   "execution_count": 29,
   "metadata": {},
   "outputs": [
    {
     "data": {
      "text/plain": [
       "7631         Infotrafic #RERC : Trafic interrompu entre MASSY PALAISEAU et VERSAILLES CHANTIERS >19h30 (accident de personne à PETIT JOUY LES LOGES)\n",
       "9625          Infotrafic #RERC : [MAJ] Brétigny non desservi en direction de Saint-Martin de 15h à 15h35 (incident voie) > http:// ow.ly/5hKr304N8PC\n",
       "18364          Infotrafic #RERC : Trafic interrompu entre Juvisy et BFM, dans ce sens > 16h00. (Panne sur un train à Ivry.) > http:// bit.ly/1OjrpIg\n",
       "1500         Infotrafic #LigneC : Paris-Versailles Chantiers ralenti Motif : personnes sur les voies à VILLENEUVE LE ROI > http:// ow.ly/bjjU30emnUG\n",
       "6453      Infotrafic #RERC : VILLENEUVE LE ROI, ABLON et ATHIS MONS non desservis en direction de Juvisy >20h (malaise voyageur à VILLENEUVE LE ROI)\n",
       "20538                      Infotrafic #RERC : Trafic ralenti sur l'axe Paris/Pontoise jusqu'à 16h (feu de talus près des voies) http:// urlz.fr/2ePs\n",
       "1044     Infotrafic #RERC : [MAJ] Trafic ralenti en direction de Dourdan, Etampes, Versailles-C et Massy via P de R >20h > http:// ow.ly/J5W630eVACq\n",
       "17797            Infotrafic #RERC [MAJ] +30 min sur l'ensemble de la ligne jusqu'à 16h (incident signalisation à Invalides) > http:// bit.ly/1IPCTBI\n",
       "1475                                                       Infotrafic #RERC : [MAJ] Fin des ralentissements liés à l'accident de personne à ETAMPES.\n",
       "21229                                  Infotrafic #RERC : [MAJ] Les ELAO et ELBA sont à nouveau au départ de Saint-Quentin. > http:// bit.ly/1CqPUZV\n",
       "Name: text, dtype: object"
      ]
     },
     "execution_count": 29,
     "metadata": {},
     "output_type": "execute_result"
    }
   ],
   "source": [
    "clean_data(line_dict['RER_C']).sample(10).text"
   ]
  },
  {
   "cell_type": "code",
   "execution_count": 80,
   "metadata": {},
   "outputs": [
    {
     "data": {
      "text/plain": [
       "[('bagage abandonné', 149),\n",
       " ('bagage oublié', 144),\n",
       " ('personnes sur les voies', 113),\n",
       " (\"panne d'un train\", 103),\n",
       " ('accident de personne', 78),\n",
       " ('malaise voyageur', 25),\n",
       " ('acte de malveillance', 24),\n",
       " ('obstacle sur la voie', 15),\n",
       " ('incident technique', 11),\n",
       " ('incident de passage', 9),\n",
       " ('feu aux abords', 8),\n",
       " ('branche tombée', 8),\n",
       " ('panne électrique', 6),\n",
       " ('jets de pierre', 5),\n",
       " ('panne de signalisation', 4),\n",
       " ('panne sur un train', 3),\n",
       " ('pb signalisation', 3),\n",
       " ('jet de projectile', 3),\n",
       " ('incident voyageur', 2),\n",
       " (\"panne d'aiguillage\", 2),\n",
       " ('divers incidents', 1),\n",
       " ('panne de train', 1),\n",
       " (\"incident d'exploitation\", 0),\n",
       " ('Incident de signalisationcolis suspect', 0),\n",
       " ('voyageur malade', 0),\n",
       " ('panne de matériel', 0),\n",
       " ('panne mécanique', 0),\n",
       " ('panne de caténaire', 0),\n",
       " ('panne matériel', 0),\n",
       " ('panne éléctrique', 0),\n",
       " ('pannes de signalisation', 0)]"
      ]
     },
     "execution_count": 80,
     "metadata": {},
     "output_type": "execute_result"
    }
   ],
   "source": [
    "incidient_reason(line_dict['RER_C']).most_common()"
   ]
  },
  {
   "cell_type": "code",
   "execution_count": 20,
   "metadata": {},
   "outputs": [
    {
     "name": "stdout",
     "output_type": "stream",
     "text": [
      "RER_A \n",
      "\n",
      "\n",
      "The 20 most frequent words are: \n",
      "[('incident', 2179), ('ralenti', 1613), ('retour', 1380), ('voyageur', 1297), ('colis', 1283), ('suspect', 1274), ('terminé', 1250), ('régulier', 1219), ('interrompu', 1004), ('poissy', 912), ('panne', 775), ('rame', 661), ('perturbé', 661), ('stationne', 596), ('travaux', 584), ('chessy', 546), ('nation', 529), ('train', 500), ('auber', 494), ('malaise', 485)]\n",
      "\n",
      "\n",
      "The 20 most frequent stations are: \n",
      "[('Poissy', 1011), ('Nation', 574), ('Auber', 524), ('Vincennes', 375), ('La Défense', 218), ('Torcy', 213), ('Les Halles', 196), ('Gare de Lyon', 163), ('Cergy-Le-Haut', 156), ('Val de Fontenay', 150), ('Rueil-Malmaison', 138), ('Noisy-le-Grand', 119), ('Châtelet', 115), ('Maisons-Laffitte', 96), ('Europe', 87), ('Sartrouville', 85), (\"Val d'europe\", 82), ('Varenne', 70), ('Saint-Germain-en-Laye', 67), ('Nanterre-Préfecture', 48)]\n",
      "\n",
      "\n",
      "RER_B \n",
      "\n",
      "\n",
      "The 20 most frequent words are: \n",
      "[('rerb', 5926), ('incident', 1473), ('perturbé', 1164), ('retour', 1067), ('terminé', 976), ('voyageur', 936), ('régulier', 927), ('nord', 729), ('colis', 729), ('suspect', 727), ('aeroport', 723), ('interrompu', 712), ('cdg', 679), ('panne', 632), ('ralenti', 560), ('train', 491), ('robinson', 489), ('mitry', 484), ('claye', 428), ('charles', 402)]\n",
      "\n",
      "\n",
      "The 20 most frequent stations are: \n",
      "[('Gare du Nord', 631), ('Robinson', 526), ('Palaiseau', 236), ('Les Halles', 235), ('Antony', 155), ('Bourg-la-Reine', 129), ('Mitry-Claye', 124), ('Châtelet', 108), ('Laplace', 106), ('Luxembourg', 96), ('Massy-Palaiseau', 87), ('Aulnay-sous-Bois', 79), ('Parc des Expositions', 60), ('Le Bourget', 58), ('Port Royal', 56), ('Cité', 49), ('Denfert-Rochereau', 34), ('Orsay-Ville', 34), ('La Plaine-Stade de France', 31), ('Sceaux', 30)]\n",
      "\n",
      "\n",
      "RER_C \n",
      "\n",
      "\n",
      "The 20 most frequent words are: \n",
      "[('infotrafic', 2502), ('rerc', 2484), ('incident', 606), ('maj', 577), ('interrompu', 463), ('non', 420), ('versailles', 388), ('paris', 368), ('desservi', 362), ('sens', 341), ('voie', 328), ('massy', 305), ('bagage', 294), ('affectant', 282), ('pontoise', 268), ('ralenti', 261), ('fin', 260), ('reprise', 251), ('panne', 251), ('juvisy', 240)]\n",
      "\n",
      "\n",
      "The 20 most frequent stations are: \n",
      "[('Palaiseau', 122), ('Invalides', 98), ('Saint-Michel', 44), ('Pereire', 33), ('Villiers', 30), ('Porte de Clichy', 21), ('Nation', 11), ('Antony', 9), ('Nationale', 5), ('Porte Maillot', 4), ('Cité', 3), (\"Gare d'Austerlitz\", 2), ('Les Sablons', 0), ('La Défense', 0), ('Porte de Vincennes', 0), ('Gare de Lyon', 0), ('Châtelet', 0), ('Tuileries', 0), ('Bérault', 0), ('La Motte-Picquet-Grenelle', 0)]\n",
      "\n",
      "\n",
      "RER_D \n",
      "\n",
      "\n",
      "The 20 most frequent words are: \n",
      "[('infotrafic', 2992), ('rerd', 2987), ('paris', 747), ('maj', 586), ('corbeil', 530), ('sens', 524), ('melun', 515), ('incident', 507), ('interrompu', 468), ('villeneuve', 433), ('min', 429), ('train', 409), ('panne', 392), ('ralenti', 384), ('reprise', 340), ('nord', 334), ('orry', 319), ('axe', 283), ('non', 279), ('voies', 274)]\n",
      "\n",
      "\n",
      "The 20 most frequent stations are: \n",
      "[('Malesherbes', 297), ('Gare de Lyon', 196), ('Villiers', 157), ('Châtelet', 140), ('Gare du Nord', 104), ('Saint-Georges', 80), ('Les Halles', 66), ('Nation', 15), ('Couronnes', 14), ('Nationale', 11), ('Blanche', 8), ('Temple', 6), ('Robinson', 6), ('Saint-Fargeau', 3), ('Bercy', 3), ('Opéra', 1), ('Saint-Michel', 1), ('Auber', 1), ('Châtelet-Les Halles', 1), ('Port Royal', 1)]\n",
      "\n",
      "\n",
      "RER_E \n",
      "\n",
      "\n",
      "The 20 most frequent words are: \n",
      "[('infotrafic', 1567), ('rere', 1527), ('haussmann', 483), ('maj', 357), ('incident', 337), ('tournan', 316), ('interrompu', 222), ('min', 217), ('ralenti', 214), ('axe', 212), ('villiers', 189), ('chelles', 181), ('voie', 175), ('magenta', 167), ('reprise', 155), ('sens', 153), ('paris', 141), ('trains', 140), ('signalisation', 137), ('affectant', 129)]\n",
      "\n",
      "\n",
      "The 20 most frequent stations are: \n",
      "[('Villiers', 329), ('Saint-Lazare', 99), ('Val de Fontenay', 34), ('Nation', 33), ('Nationale', 10), (\"Gare de l'Est\", 5), ('Torcy', 2), ('Les Sablons', 0), ('La Défense', 0), ('Porte de Vincennes', 0), ('Porte Maillot', 0), ('Gare de Lyon', 0), ('Châtelet', 0), ('Tuileries', 0), ('Bérault', 0), ('La Motte-Picquet-Grenelle', 0), ('Mairie des Lilas', 0), ('Cardinal-Lemoine', 0), ('Sèvres-Babylone', 0), ('Hôtel de Ville', 0)]\n",
      "\n",
      "\n",
      "Ligne1_RATP \n",
      "\n",
      "\n",
      "The 20 most frequent words are: \n",
      "[('incident', 1463), ('technique', 774), ('retour', 624), ('ralenti', 569), ('terminé', 568), ('interrompu', 559), ('régulier', 550), ('defense', 445), ('vincennes', 400), ('station', 380), ('grande', 368), ('arche', 360), ('chateau', 320), ('voyageur', 283), ('panne', 274), ('rame', 253), ('reprend', 230), ('matériel', 230), ('normal', 229), ('fermée', 229)]\n",
      "\n",
      "\n",
      "The 20 most frequent stations are: \n",
      "[('Vincennes', 388), ('Nation', 221), ('Concorde', 185), ('Gare de Lyon', 127), ('Porte Maillot', 116), ('George V', 88), ('La Défense', 83), ('Bastille', 77), ('Château de Vincennes', 41), ('Louvre-Rivoli', 41), ('Hôtel de Ville', 36), ('Tuileries', 35), ('Châtelet', 30), ('Les Sablons', 25), ('Pont de Neuilly', 25), ('Argentine', 25), ('Opéra', 18), ('Gare du Nord', 16), ('Blanche', 16), ('Palais-Royal', 15)]\n",
      "\n",
      "\n",
      "Ligne2_RATP \n",
      "\n",
      "\n",
      "The 20 most frequent words are: \n",
      "[('incident', 819), ('voyageur', 548), ('retour', 525), ('terminé', 482), ('régulier', 481), ('ralenti', 440), ('interrompu', 284), ('nation', 269), ('quais', 249), ('rame', 231), ('station', 227), ('dauphine', 195), ('malaise', 194), ('porte', 191), ('stationne', 180), ('colis', 174), ('suspect', 173), ('marechal', 160), ('lattre', 160), ('tassigny', 160)]\n",
      "\n",
      "\n",
      "The 20 most frequent stations are: \n",
      "[('Nation', 274), ('Porte Dauphine', 188), ('Jaurès', 111), ('Barbès-Rochechouart', 82), ('Blanche', 54), ('Anvers', 51), ('La Chapelle', 44), ('Pigalle', 38), ('Stalingrad', 37), ('Belleville', 30), ('Colonel Fabien', 28), ('Avron', 27), ('Victor Hugo', 19), ('Gare du Nord', 18), ('Villiers', 16), ('Rome', 15), ('Ternes', 15), ('Couronnes', 13), ('Robinson', 13), ('Châtelet', 9)]\n",
      "\n",
      "\n",
      "Ligne3_RATP \n",
      "\n",
      "\n",
      "The 20 most frequent words are: \n",
      "[('incident', 761), ('retour', 520), ('ralenti', 499), ('régulier', 486), ('terminé', 480), ('voyageur', 313), ('station', 241), ('panne', 237), ('interrompu', 234), ('colis', 179), ('suspect', 179), ('matériel', 167), ('pont', 153), ('technique', 150), ('gallieni', 147), ('malaise', 142), ('rame', 142), ('quais', 131), ('travaux', 111), ('stationne', 106)]\n",
      "\n",
      "\n",
      "The 20 most frequent stations are: \n",
      "[('Gallieni', 147), ('Villiers', 74), ('Gambetta', 50), ('Pereire', 47), ('République', 44), ('Opéra', 36), ('Parmentier', 29), ('Temple', 27), ('Europe', 21), ('Rue Saint-Maur', 17), ('Saint-Lazare', 17), ('Sentier', 16), ('Porte de Champerret', 14), ('Quatre Septembre', 12), ('Wagram', 10), ('Havre-Caumartin', 9), ('Nation', 8), ('Auber', 7), ('Blanche', 5), ('Malesherbes', 5)]\n",
      "\n",
      "\n",
      "Ligne4_RATP \n",
      "\n",
      "\n",
      "The 20 most frequent words are: \n",
      "[('incident', 1597), ('ralenti', 1126), ('retour', 1041), ('régulier', 941), ('voyageur', 927), ('terminé', 920), ('colis', 868), ('suspect', 867), ('interrompu', 759), ('montrouge', 552), ('mairie', 528), ('clignancourt', 464), ('pte', 443), ('technique', 407), ('malaise', 394), ('travaux', 385), ('reprend', 357), ('station', 349), ('rame', 341), ('progressivement', 339)]\n",
      "\n",
      "\n",
      "The 20 most frequent stations are: \n",
      "[('Mairie de Montrouge', 516), ('Vavin', 279), ('Barbès-Rochechouart', 74), ('Gare du Nord', 72), ('Raspail', 46), ('Châtelet', 45), (\"Gare de l'Est\", 43), ('Les Halles', 38), ('Porte de Clignancourt', 35), ('Saint-Michel', 34), ('Odéon', 29), ('Cité', 28), (\"Porte d'Orléans\", 26), ('Cadet', 23), ('Château Rouge', 23), ('Denfert-Rochereau', 22), ('Saint-Placide', 20), ('Simplon', 16), ('Saint-Sulpice', 15), ('Saint-Germain des Prés', 13)]\n",
      "\n",
      "\n",
      "Ligne5_RATP \n",
      "\n",
      "\n",
      "The 20 most frequent words are: \n",
      "[('incident', 1125), ('ralenti', 727), ('retour', 722), ('régulier', 680), ('terminé', 653), ('voyageur', 506), ('place', 346), ('interrompu', 330), ('technique', 259), ('bastille', 249), ('colis', 235), ('suspect', 233), ('panne', 214), ('malaise', 213), ('station', 205), ('rame', 181), ('travaux', 155), ('voie', 147), ('stationne', 136), ('reprend', 128)]\n",
      "\n",
      "\n",
      "The 20 most frequent stations are: \n",
      "[(\"Place d'Italie\", 309), ('Bastille', 250), ('Jaurès', 123), ('Gare du Nord', 112), ('République', 52), ('Oberkampf', 34), ('Stalingrad', 32), (\"Gare de l'Est\", 30), ('Campo-Formio', 26), ('Eglise de Pantin', 21), ('Bobigny-Pantin', 18), ('Richard-Lenoir', 16), ('Hoche', 14), ('Quai de la Rapée', 13), ('Opéra', 13), ('Robinson', 13), ('Ourcq', 12), ('Bobigny-Pablo-Picasso', 10), ('Nation', 9), ('Saint-Marcel', 6)]\n",
      "\n",
      "\n",
      "Ligne6_RATP \n",
      "\n",
      "\n",
      "The 20 most frequent words are: \n"
     ]
    },
    {
     "name": "stdout",
     "output_type": "stream",
     "text": [
      "[('incident', 1072), ('retour', 759), ('régulier', 698), ('ralenti', 687), ('terminé', 681), ('colis', 483), ('suspect', 482), ('interrompu', 465), ('voyageur', 438), ('panne', 430), ('etoile', 388), ('nation', 320), ('station', 308), ('place', 281), ('rame', 270), ('technique', 237), ('matériel', 230), ('stationne', 211), ('reprend', 203), ('progressivement', 190)]\n",
      "\n",
      "\n",
      "The 20 most frequent stations are: \n",
      "[('Nation', 348), ('La Motte-Picquet-Grenelle', 201), (\"Place d'Italie\", 195), ('Raspail', 177), ('Daumesnil', 141), ('Bercy', 104), ('Dupleix', 66), ('Passy', 63), ('Bir-Hakeim', 52), ('Pasteur', 41), ('Cambronne', 39), ('Trocadéro', 33), ('Quai de la Gare', 31), ('Corvisart', 30), ('Glacière', 23), ('Picpus', 22), ('Nationale', 22), ('Dugommier', 21), ('Kléber', 20), ('Boissière', 18)]\n",
      "\n",
      "\n",
      "Ligne7_RATP \n",
      "\n",
      "\n",
      "The 20 most frequent words are: \n",
      "[('incident', 1013), ('retour', 710), ('régulier', 676), ('terminé', 669), ('ralenti', 592), ('voyageur', 588), ('interrompu', 411), ('colis', 337), ('suspect', 336), ('panne', 329), ('rame', 311), ('stationne', 246), ('malaise', 230), ('matériel', 219), ('mairie', 213), ('place', 184), ('technique', 179), ('reprend', 169), ('station', 166), ('progressivement', 163)]\n",
      "\n",
      "\n",
      "The 20 most frequent stations are: \n",
      "[(\"Mairie d'Ivry\", 211), ('Blanche', 125), ('Pont Neuf', 119), (\"Place d'Italie\", 114), ('Maison Blanche', 114), ('Jaurès', 81), ('Stalingrad', 56), ('Auber', 46), ('Villiers', 39), (\"Gare de l'Est\", 26), ('Châtelet', 21), ('Pont Marie', 20), (\"Porte d'Ivry\", 18), ('Gare du Nord', 18), ('Jussieu', 16), ('Riquet', 16), ('Tolbiac', 16), (\"Porte d'Italie\", 15), ('Pyramides', 14), ('Cadet', 14)]\n",
      "\n",
      "\n",
      "Ligne8_RATP \n",
      "\n",
      "\n",
      "The 20 most frequent words are: \n",
      "[('incident', 1020), ('retour', 696), ('régulier', 659), ('terminé', 644), ('ralenti', 608), ('voyageur', 521), ('panne', 417), ('interrompu', 350), ('lac', 350), ('pointe', 343), ('rame', 314), ('balard', 306), ('matériel', 263), ('station', 261), ('colis', 247), ('suspect', 247), ('stationne', 242), ('technique', 212), ('malaise', 195), ('concorde', 163)]\n",
      "\n",
      "\n",
      "The 20 most frequent stations are: \n",
      "[('Pointe du Lac', 342), ('Balard', 306), ('Concorde', 163), ('Maisons-Alfort-Les Juilliottes', 110), ('La Motte-Picquet-Grenelle', 89), ('Invalides', 89), ('République', 48), ('Daumesnil', 30), ('Ecole Militaire', 30), ('Bastille', 28), ('Opéra', 24), ('Madeleine', 21), ('Charenton-Ecoles', 21), ('Lourmel', 16), ('Filles du Calvaire', 13), ('Montgallet', 13), ('Liberté', 12), ('Michel Bizot', 11), ('Chemin Vert', 11), ('Porte de Charenton', 11)]\n",
      "\n",
      "\n",
      "Ligne9_RATP \n",
      "\n",
      "\n",
      "The 20 most frequent words are: \n",
      "[('incident', 856), ('retour', 594), ('régulier', 535), ('terminé', 530), ('voyageur', 510), ('ralenti', 503), ('montreuil', 364), ('interrompu', 308), ('panne', 268), ('station', 264), ('rame', 261), ('pont', 260), ('mairie', 256), ('colis', 241), ('suspect', 241), ('sevres', 229), ('stationne', 195), ('pte', 187), ('malaise', 178), ('matériel', 158)]\n",
      "\n",
      "\n",
      "The 20 most frequent stations are: \n",
      "[('Oberkampf', 122), ('Nation', 122), ('Miromesnil', 50), ('Rome', 50), ('Trocadéro', 44), ('République', 37), ('Iéna', 35), ('Voltaire', 29), ('Opéra', 21), ('Pont de Sèvres', 19), ('La Muette', 18), ('Rue des Boulets', 18), ('Mairie de Montreuil', 17), ('Saint-Augustin', 17), ('Buzenval', 16), ('Ranelagh', 16), ('Bonne Nouvelle', 15), ('Charonne', 13), ('Porte de Montreuil', 11), ('Exelmans', 11)]\n",
      "\n",
      "\n",
      "Ligne10_RATP \n",
      "\n",
      "\n",
      "The 20 most frequent words are: \n",
      "[('incident', 392), ('retour', 311), ('régulier', 267), ('terminé', 267), ('ralenti', 224), ('austerlitz', 196), ('interrompu', 179), ('panne', 171), ('voyageur', 166), ('suspect', 156), ('colis', 155), ('pt', 145), ('matériel', 136), ('duroc', 118), ('rame', 102), ('match', 88), ('stationne', 82), ('porte', 81), ('bastille', 70), ('pce', 69)]\n",
      "\n",
      "\n",
      "The 20 most frequent stations are: \n",
      "[('Duroc', 120), (\"Porte d'Auteuil\", 72), ('Bastille', 70), ('Auber', 19), ('La Motte-Picquet-Grenelle', 15), (\"Gare d'Austerlitz\", 13), ('Vaneau', 12), ('Jussieu', 10), ('Opéra', 8), ('Robinson', 7), ('Mabillon', 7), ('Gare du Nord', 6), ('Blanche', 6), ('Passy', 5), ('Nation', 5), ('Boulogne Pont de Saint-Cloud', 5), ('Madeleine', 4), ('Mirabeau', 4), ('La Défense', 3), ('Denfert-Rochereau', 3)]\n",
      "\n",
      "\n",
      "Ligne11_RATP \n",
      "\n",
      "\n",
      "The 20 most frequent words are: \n",
      "[('incident', 378), ('retour', 238), ('régulier', 211), ('terminé', 211), ('lilas', 182), ('interrompu', 170), ('ralenti', 167), ('voyageur', 158), ('mairie', 150), ('technique', 119), ('belleville', 112), ('station', 108), ('chatelet', 96), ('colis', 82), ('suspect', 82), ('panne', 80), ('reprend', 71), ('progressivement', 67), ('rame', 66), ('voie', 59)]\n",
      "\n",
      "\n",
      "The 20 most frequent stations are: \n",
      "[('Belleville', 114), ('République', 46), ('Hôtel de Ville', 25), ('Châtelet', 24), ('Gare du Nord', 17), ('Rambuteau', 17), ('Goncourt', 16), ('Robinson', 12), ('Mairie des Lilas', 10), ('Pyrénées', 10), ('Jourdain', 10), ('Opéra', 9), ('Concorde', 8), ('Nation', 6), ('Les Halles', 5), ('Télégraphe', 5), ('Passy', 4), ('Blanche', 4), ('Europe', 4), ('Porte des Lilas', 4)]\n",
      "\n",
      "\n",
      "Ligne12_RATP \n",
      "\n",
      "\n",
      "The 20 most frequent words are: \n",
      "[('incident', 924), ('ralenti', 654), ('retour', 634), ('voyageur', 616), ('régulier', 602), ('terminé', 598), ('colis', 391), ('suspect', 391), ('interrompu', 379), ('front', 293), ('populaire', 293), ('mairie', 292), ('panne', 288), ('rame', 257), ('voie', 220), ('matériel', 204), ('stationne', 193), ('malaise', 190), ('concorde', 187), ('station', 184)]\n",
      "\n",
      "\n",
      "The 20 most frequent stations are: \n",
      "[('Front Populaire', 292), (\"Mairie d'Issy\", 286), ('Concorde', 187), ('Madeleine', 45), ('Pasteur', 39), ('Nation', 37), ('Nationale', 35), ('Saint-Lazare', 27), ('Cadet', 24), ('La Chapelle', 23), ('Marx-Dormoy', 23), ('Abbesses', 22), ('Pigalle', 21), ('Assemblée Nationale', 19), ('Rue du Bac', 19), ('Porte de la Chapelle', 17), ('Jules Joffrin', 16), ('Vaugirard', 15), ('Convention', 14), ('Opéra', 12)]\n",
      "\n",
      "\n",
      "Ligne13_RATP \n",
      "\n",
      "\n",
      "The 20 most frequent words are: \n",
      "[('incident', 1129), ('ralenti', 842), ('retour', 776), ('régulier', 741), ('terminé', 726), ('voyageur', 609), ('panne', 419), ('interrompu', 399), ('colis', 362), ('suspect', 362), ('montrouge', 330), ('chatillon', 324), ('malaise', 288), ('rame', 259), ('matériel', 232), ('technique', 221), ('station', 216), ('stationne', 199), ('courtilles', 185), ('reprend', 184)]\n",
      "\n",
      "\n",
      "The 20 most frequent stations are: \n",
      "[('La Fourche', 141), ('Saint-Lazare', 132), ('Invalides', 102), ('Villiers', 100), ('Varenne', 67), ('Miromesnil', 48), ('Rome', 48), ('Duroc', 23), ('Garibaldi', 12), ('Brochant', 12), ('Plaisance', 11), ('Châtillon Montrouge', 10), ('Châtelet', 9), ('Opéra', 9), ('Place de Clichy', 9), ('Concorde', 8), ('Nation', 8), ('Porte de Vanves', 7), ('Basilique de Saint-Denis', 7), ('Les Agnettes', 6)]\n",
      "\n",
      "\n",
      "Ligne14_RATP \n",
      "\n",
      "\n",
      "The 20 most frequent words are: \n",
      "[('incident', 661), ('interrompu', 365), ('retour', 343), ('terminé', 316), ('régulier', 300), ('technique', 258), ('panne', 208), ('matériel', 188), ('ralenti', 180), ('olympiades', 178), ('madeleine', 176), ('lyon', 170), ('voyageur', 154), ('station', 135), ('reprend', 128), ('mitterrand', 118), ('progressivement', 117), ('chatelet', 116), ('travaux', 102), ('normal', 88)]\n",
      "\n",
      "\n",
      "The 20 most frequent stations are: \n",
      "[('Saint-Lazare', 236), ('Olympiades', 182), ('Madeleine', 175), ('Gare de Lyon', 172), ('Châtelet', 36), ('Pyramides', 27), ('Bercy', 21), ('Gare du Nord', 16), ('Mairie de Saint-Ouen', 15), ('Opéra', 14), ('Robinson', 11), ('Europe', 10), ('Concorde', 8), ('Nation', 8), ('Blanche', 8), ('Auber', 8), ('La Défense', 6), ('Cour Saint-Emilion', 6), ('Les Halles', 5), ('Passy', 4)]\n",
      "\n",
      "\n"
     ]
    }
   ],
   "source": [
    "# Then get a global view !!!\n",
    "for k, v in line_dict.items():\n",
    "    try:\n",
    "        print(k,'\\n')\n",
    "        summary(v)\n",
    "    except:\n",
    "        print('Something is wrong')\n",
    "        pass"
   ]
  },
  {
   "cell_type": "markdown",
   "metadata": {},
   "source": [
    "From here we can see, we should defeinitely clean data for \n",
    "1. rer c\n",
    "2. all rer except a,b\n",
    "3. Ligne3_RATP --> don't quite understand\n",
    "4. "
   ]
  },
  {
   "cell_type": "code",
   "execution_count": 127,
   "metadata": {},
   "outputs": [],
   "source": [
    "# concat all dataframe and clean data\n",
    "def consol(data_dic):\n",
    "    result = pd.DataFrame()\n",
    "    for k, v in data_dic.items():\n",
    "        v = clean_data(v)\n",
    "        result = pd.concat([result, v])\n",
    "    result = result.sort_values(by='date')\n",
    "    result['date'] = pd.to_datetime(result['date'])\n",
    "    result = result[result['date'] > pd.to_datetime('2014-1-1')]    \n",
    "    return result\n",
    "df_consol = consol(line_dict)"
   ]
  },
  {
   "cell_type": "code",
   "execution_count": 128,
   "metadata": {},
   "outputs": [
    {
     "name": "stdout",
     "output_type": "stream",
     "text": [
      "\n",
      "The 20 most frequent words are: \n",
      "[('incident', 16710), ('retour', 10651), ('terminé', 10077), ('régulier', 9967), ('ralenti', 9389), ('voyageur', 7366), ('infotrafic', 7036), ('interrompu', 6892), ('rerb', 5889), ('colis', 5401), ('suspect', 5384), ('panne', 4841), ('malaise', 3443), ('technique', 3065), ('rame', 3049), ('rerd', 2971), ('perturbé', 2838), ('station', 2589), ('rerc', 2562), ('stationne', 2529)]\n",
      "\n",
      "\n",
      "The 20 most frequent stations are: \n",
      "[('Nation', 1457), ('Gare du Nord', 968), ('Poissy', 802), ('Villiers', 729), ('Vincennes', 657), ('Auber', 596), ('Robinson', 578), ('Gare de Lyon', 538), ('Châtelet', 523), ('Concorde', 514), (\"Place d'Italie\", 512), ('Les Halles', 509), ('Saint-Lazare', 445), ('Mairie de Montrouge', 385), ('Palaiseau', 360), ('La Défense', 302), ('Malesherbes', 297), ('Pointe du Lac', 292), ('Balard', 270), ('La Motte-Picquet-Grenelle', 266)]\n",
      "\n",
      "\n",
      "The 20 most frequent reasons are: \n",
      "[('malaise voyageur', 3410), ('incident technique', 3009), ('panne de matériel', 2340), ('incident voyageur', 1502), ('panne de signalisation', 1305), (\"incident d'exploitation\", 643), ('divers incidents', 499), ('bagage abandonné', 439), (\"panne d'un train\", 358), ('accident de personne', 339), ('personnes sur les voies', 337), ('acte de malveillance', 261), ('panne électrique', 256), ('bagage oublié', 233), ('voyageur malade', 186), ('obstacle sur la voie', 101), ('panne de caténaire', 50), ('panne matériel', 22), ('feu aux abords', 22), ('pb signalisation', 17)]\n"
     ]
    }
   ],
   "source": [
    "summary(df_consol)"
   ]
  },
  {
   "cell_type": "code",
   "execution_count": 131,
   "metadata": {},
   "outputs": [
    {
     "data": {
      "text/html": [
       "<div>\n",
       "<style>\n",
       "    .dataframe thead tr:only-child th {\n",
       "        text-align: right;\n",
       "    }\n",
       "\n",
       "    .dataframe thead th {\n",
       "        text-align: left;\n",
       "    }\n",
       "\n",
       "    .dataframe tbody tr th {\n",
       "        vertical-align: top;\n",
       "    }\n",
       "</style>\n",
       "<table border=\"1\" class=\"dataframe\">\n",
       "  <thead>\n",
       "    <tr style=\"text-align: right;\">\n",
       "      <th></th>\n",
       "      <th>username</th>\n",
       "      <th>date</th>\n",
       "      <th>retweets</th>\n",
       "      <th>favorites</th>\n",
       "      <th>text</th>\n",
       "      <th>geo</th>\n",
       "      <th>mentions</th>\n",
       "      <th>hashtags</th>\n",
       "      <th>id</th>\n",
       "      <th>permalink</th>\n",
       "    </tr>\n",
       "  </thead>\n",
       "  <tbody>\n",
       "    <tr>\n",
       "      <th>4606</th>\n",
       "      <td>Ligne9_RATP</td>\n",
       "      <td>2014-01-01 03:09:00</td>\n",
       "      <td>0</td>\n",
       "      <td>0</td>\n",
       "      <td>03:09, Le trafic est de nouveau normal sur l'ensemble de la ligne #Ligne9 . #RATP</td>\n",
       "      <td>NaN</td>\n",
       "      <td>NaN</td>\n",
       "      <td>#Ligne9 #RATP</td>\n",
       "      <td>4.182023e+17</td>\n",
       "      <td>https://twitter.com/Ligne9_RATP/status/418202256325238784</td>\n",
       "    </tr>\n",
       "    <tr>\n",
       "      <th>4605</th>\n",
       "      <td>Ligne9_RATP</td>\n",
       "      <td>2014-01-01 03:09:00</td>\n",
       "      <td>0</td>\n",
       "      <td>0</td>\n",
       "      <td>Fin de la manifestation impactant la ligne #Ligne9 .</td>\n",
       "      <td>NaN</td>\n",
       "      <td>NaN</td>\n",
       "      <td>#Ligne9</td>\n",
       "      <td>4.182023e+17</td>\n",
       "      <td>https://twitter.com/Ligne9_RATP/status/418202266920050688</td>\n",
       "    </tr>\n",
       "    <tr>\n",
       "      <th>5754</th>\n",
       "      <td>Ligne6_RATP</td>\n",
       "      <td>2014-01-01 03:09:00</td>\n",
       "      <td>1</td>\n",
       "      <td>0</td>\n",
       "      <td>Fin de la manifestation impactant la ligne #Ligne6 .</td>\n",
       "      <td>NaN</td>\n",
       "      <td>NaN</td>\n",
       "      <td>#Ligne6</td>\n",
       "      <td>4.182022e+17</td>\n",
       "      <td>https://twitter.com/Ligne6_RATP/status/418202249354289152</td>\n",
       "    </tr>\n",
       "    <tr>\n",
       "      <th>5049</th>\n",
       "      <td>Ligne8_RATP</td>\n",
       "      <td>2014-01-01 06:52:00</td>\n",
       "      <td>1</td>\n",
       "      <td>0</td>\n",
       "      <td>06:49, le trafic est interrompu entre Maisons-Alfort-Les Juilliottes et Pointe du Lac (voyageur sur la voie) #RATP #Ligne8</td>\n",
       "      <td>NaN</td>\n",
       "      <td>NaN</td>\n",
       "      <td>#RATP #Ligne8</td>\n",
       "      <td>4.182584e+17</td>\n",
       "      <td>https://twitter.com/Ligne8_RATP/status/418258368995024897</td>\n",
       "    </tr>\n",
       "    <tr>\n",
       "      <th>5048</th>\n",
       "      <td>Ligne8_RATP</td>\n",
       "      <td>2014-01-01 07:07:00</td>\n",
       "      <td>0</td>\n",
       "      <td>0</td>\n",
       "      <td>07:05, le trafic reprend progressivement sur la ligne (voyageur sur la voie) #RATP #Ligne8</td>\n",
       "      <td>NaN</td>\n",
       "      <td>NaN</td>\n",
       "      <td>#RATP #Ligne8</td>\n",
       "      <td>4.182621e+17</td>\n",
       "      <td>https://twitter.com/Ligne8_RATP/status/418262143814090752</td>\n",
       "    </tr>\n",
       "  </tbody>\n",
       "</table>\n",
       "</div>"
      ],
      "text/plain": [
       "         username                date  retweets  favorites  \\\n",
       "4606  Ligne9_RATP 2014-01-01 03:09:00         0          0   \n",
       "4605  Ligne9_RATP 2014-01-01 03:09:00         0          0   \n",
       "5754  Ligne6_RATP 2014-01-01 03:09:00         1          0   \n",
       "5049  Ligne8_RATP 2014-01-01 06:52:00         1          0   \n",
       "5048  Ligne8_RATP 2014-01-01 07:07:00         0          0   \n",
       "\n",
       "                                                                                                                            text  \\\n",
       "4606                                           03:09, Le trafic est de nouveau normal sur l'ensemble de la ligne #Ligne9 . #RATP   \n",
       "4605                                                                        Fin de la manifestation impactant la ligne #Ligne9 .   \n",
       "5754                                                                        Fin de la manifestation impactant la ligne #Ligne6 .   \n",
       "5049  06:49, le trafic est interrompu entre Maisons-Alfort-Les Juilliottes et Pointe du Lac (voyageur sur la voie) #RATP #Ligne8   \n",
       "5048                                  07:05, le trafic reprend progressivement sur la ligne (voyageur sur la voie) #RATP #Ligne8   \n",
       "\n",
       "      geo mentions       hashtags            id  \\\n",
       "4606  NaN      NaN  #Ligne9 #RATP  4.182023e+17   \n",
       "4605  NaN      NaN        #Ligne9  4.182023e+17   \n",
       "5754  NaN      NaN        #Ligne6  4.182022e+17   \n",
       "5049  NaN      NaN  #RATP #Ligne8  4.182584e+17   \n",
       "5048  NaN      NaN  #RATP #Ligne8  4.182621e+17   \n",
       "\n",
       "                                                      permalink  \n",
       "4606  https://twitter.com/Ligne9_RATP/status/418202256325238784  \n",
       "4605  https://twitter.com/Ligne9_RATP/status/418202266920050688  \n",
       "5754  https://twitter.com/Ligne6_RATP/status/418202249354289152  \n",
       "5049  https://twitter.com/Ligne8_RATP/status/418258368995024897  \n",
       "5048  https://twitter.com/Ligne8_RATP/status/418262143814090752  "
      ]
     },
     "execution_count": 131,
     "metadata": {},
     "output_type": "execute_result"
    }
   ],
   "source": [
    "df_consol.head()"
   ]
  },
  {
   "cell_type": "code",
   "execution_count": 133,
   "metadata": {},
   "outputs": [
    {
     "data": {
      "text/plain": [
       "1   2017-10-13 05:51:00\n",
       "1   2017-10-13 06:11:00\n",
       "0   2017-10-13 06:34:00\n",
       "0   2017-10-13 06:35:00\n",
       "0   2017-10-13 07:29:00\n",
       "Name: date, dtype: datetime64[ns]"
      ]
     },
     "execution_count": 133,
     "metadata": {},
     "output_type": "execute_result"
    }
   ],
   "source": [
    "df_consol.date.tail()"
   ]
  },
  {
   "cell_type": "code",
   "execution_count": 132,
   "metadata": {},
   "outputs": [
    {
     "data": {
      "text/plain": [
       "RER_A           8214\n",
       "RERB            6650\n",
       "Ligne4_RATP     4314\n",
       "Ligne6_RATP     3439\n",
       "Ligne13_RATP    3104\n",
       "Ligne8_RATP     3013\n",
       "RERD_SNCF       2967\n",
       "Ligne1_RATP     2965\n",
       "Ligne7_RATP     2851\n",
       "Ligne5_RATP     2671\n",
       "Ligne12_RATP    2616\n",
       "Ligne9_RATP     2546\n",
       "RERC_SNCF       2502\n",
       "Ligne2_RATP     2221\n",
       "Ligne3_RATP     2073\n",
       "Ligne14_RATP    1787\n",
       "RERE_SNCF       1567\n",
       "Ligne10_RATP    1345\n",
       "Ligne11_RATP    1285\n",
       "Name: username, dtype: int64"
      ]
     },
     "execution_count": 132,
     "metadata": {},
     "output_type": "execute_result"
    }
   ],
   "source": [
    "df_consol.username.value_counts()"
   ]
  },
  {
   "cell_type": "code",
   "execution_count": null,
   "metadata": {
    "collapsed": true
   },
   "outputs": [],
   "source": [
    "# to do list, how many items in"
   ]
  },
  {
   "cell_type": "code",
   "execution_count": null,
   "metadata": {
    "collapsed": true
   },
   "outputs": [],
   "source": [
    "from matplotlib import pyplot as plt\n",
    "%matplotlib inline\n",
    "df_consol.plot(x='date', y='')"
   ]
  }
 ],
 "metadata": {
  "kernelspec": {
   "display_name": "Python 3",
   "language": "python",
   "name": "python3"
  },
  "language_info": {
   "codemirror_mode": {
    "name": "ipython",
    "version": 3
   },
   "file_extension": ".py",
   "mimetype": "text/x-python",
   "name": "python",
   "nbconvert_exporter": "python",
   "pygments_lexer": "ipython3",
   "version": "3.6.1"
  }
 },
 "nbformat": 4,
 "nbformat_minor": 2
}
