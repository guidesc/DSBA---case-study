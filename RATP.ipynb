{
 "cells": [
  {
   "cell_type": "markdown",
   "metadata": {
    "collapsed": true
   },
   "source": [
    "# Import data from web scrawlers\n",
    "\n",
    "Here we first build a web scrawler to scrap all the trafic information from the official twitter accounts of RATP, SNCF "
   ]
  },
  {
   "cell_type": "code",
   "execution_count": 1,
   "metadata": {
    "scrolled": true
   },
   "outputs": [
    {
     "name": "stderr",
     "output_type": "stream",
     "text": [
      "b'Skipping line 4313: expected 10 fields, saw 11\\n'\n",
      "b'Skipping line 1089: expected 10 fields, saw 11\\nSkipping line 4918: expected 10 fields, saw 11\\nSkipping line 7193: expected 10 fields, saw 11\\n'\n",
      "b'Skipping line 11823: expected 10 fields, saw 11\\nSkipping line 12791: expected 10 fields, saw 11\\nSkipping line 17202: expected 10 fields, saw 11\\nSkipping line 17564: expected 10 fields, saw 11\\nSkipping line 17567: expected 10 fields, saw 11\\nSkipping line 17835: expected 10 fields, saw 11\\nSkipping line 17848: expected 10 fields, saw 11\\nSkipping line 18418: expected 10 fields, saw 11\\nSkipping line 18430: expected 10 fields, saw 11\\nSkipping line 18509: expected 10 fields, saw 11\\nSkipping line 18599: expected 10 fields, saw 11\\nSkipping line 18880: expected 10 fields, saw 11\\nSkipping line 18920: expected 10 fields, saw 11\\nSkipping line 19707: expected 10 fields, saw 11\\n'\n",
      "b'Skipping line 4081: expected 10 fields, saw 11\\nSkipping line 10409: expected 10 fields, saw 11\\nSkipping line 14147: expected 10 fields, saw 11\\nSkipping line 16851: expected 10 fields, saw 11\\nSkipping line 17961: expected 10 fields, saw 11\\nSkipping line 18574: expected 10 fields, saw 11\\nSkipping line 18658: expected 10 fields, saw 11\\nSkipping line 21004: expected 10 fields, saw 11\\nSkipping line 21895: expected 10 fields, saw 11\\nSkipping line 23069: expected 10 fields, saw 11\\n'\n",
      "b'Skipping line 5159: expected 10 fields, saw 11\\nSkipping line 7458: expected 10 fields, saw 11\\nSkipping line 7672: expected 10 fields, saw 11\\n'\n",
      "b'Skipping line 428: expected 10 fields, saw 11\\n'\n"
     ]
    }
   ],
   "source": [
    "import pandas as pd\n",
    "import seaborn as sns\n",
    "import matplotlib.pyplot as plt\n",
    "import numpy as np\n",
    "\n",
    "# ---- Summary of the twitter accounts -----#\n",
    "# RER_A\n",
    "# RERB\n",
    "# RERC_SNCF --< Infotrafic\n",
    "# RERD_SNCF --< Infotrafic\n",
    "# RERE_SNCF --< Infotrafic\n",
    "# Ligne12_RATP --< from 1 to 14 lines\n",
    "\n",
    "line_list = ['RER_A', 'RER_B', 'RER_C', 'RER_D', 'RER_E','Ligne1_RATP', 'Ligne2_RATP', 'Ligne3_RATP', 'Ligne4_RATP',\n",
    " 'Ligne5_RATP', 'Ligne6_RATP', 'Ligne7_RATP', 'Ligne8_RATP', 'Ligne9_RATP', 'Ligne10_RATP', 'Ligne11_RATP', 'Ligne12_RATP',\n",
    " 'Ligne13_RATP', 'Ligne14_RATP' ]\n",
    "\n",
    "file_path = \"data/\"\n",
    "line_dict = dict()\n",
    "for item in line_list:\n",
    "    line_dict[item] = pd.read_csv(file_path + item +'.csv', sep=';',error_bad_lines=False) "
   ]
  },
  {
   "cell_type": "markdown",
   "metadata": {},
   "source": [
    "# First, have a look at the data"
   ]
  },
  {
   "cell_type": "code",
   "execution_count": 2,
   "metadata": {},
   "outputs": [
    {
     "data": {
      "text/html": [
       "<div>\n",
       "<style>\n",
       "    .dataframe thead tr:only-child th {\n",
       "        text-align: right;\n",
       "    }\n",
       "\n",
       "    .dataframe thead th {\n",
       "        text-align: left;\n",
       "    }\n",
       "\n",
       "    .dataframe tbody tr th {\n",
       "        vertical-align: top;\n",
       "    }\n",
       "</style>\n",
       "<table border=\"1\" class=\"dataframe\">\n",
       "  <thead>\n",
       "    <tr style=\"text-align: right;\">\n",
       "      <th></th>\n",
       "      <th>username</th>\n",
       "      <th>date</th>\n",
       "      <th>retweets</th>\n",
       "      <th>favorites</th>\n",
       "      <th>text</th>\n",
       "      <th>geo</th>\n",
       "      <th>mentions</th>\n",
       "      <th>hashtags</th>\n",
       "      <th>id</th>\n",
       "      <th>permalink</th>\n",
       "    </tr>\n",
       "  </thead>\n",
       "  <tbody>\n",
       "    <tr>\n",
       "      <th>2987</th>\n",
       "      <td>RER_A</td>\n",
       "      <td>2017-05-24 12:41</td>\n",
       "      <td>1996</td>\n",
       "      <td>416</td>\n",
       "      <td>Ce chien a été retrouvé ce matin, vers 7h, sur...</td>\n",
       "      <td>NaN</td>\n",
       "      <td>NaN</td>\n",
       "      <td>#RERA</td>\n",
       "      <td>8.673298e+17</td>\n",
       "      <td>https://twitter.com/RER_A/status/8673297646919...</td>\n",
       "    </tr>\n",
       "    <tr>\n",
       "      <th>107</th>\n",
       "      <td>RER_A</td>\n",
       "      <td>2017-10-05 17:52</td>\n",
       "      <td>429</td>\n",
       "      <td>145</td>\n",
       "      <td>1 incident électrique au niveau de la caténair...</td>\n",
       "      <td>NaN</td>\n",
       "      <td>NaN</td>\n",
       "      <td>#RERA</td>\n",
       "      <td>9.159679e+17</td>\n",
       "      <td>https://twitter.com/RER_A/status/9159679468995...</td>\n",
       "    </tr>\n",
       "    <tr>\n",
       "      <th>784</th>\n",
       "      <td>RER_A</td>\n",
       "      <td>2017-08-28 12:02</td>\n",
       "      <td>342</td>\n",
       "      <td>409</td>\n",
       "      <td>[ #TravauxEteRERA ] Les travaux sont terminés ...</td>\n",
       "      <td>NaN</td>\n",
       "      <td>NaN</td>\n",
       "      <td>#TravauxEteRERA #RERA</td>\n",
       "      <td>9.021090e+17</td>\n",
       "      <td>https://twitter.com/RER_A/status/9021090016257...</td>\n",
       "    </tr>\n",
       "    <tr>\n",
       "      <th>16061</th>\n",
       "      <td>RER_A</td>\n",
       "      <td>2015-01-29 06:23</td>\n",
       "      <td>306</td>\n",
       "      <td>19</td>\n",
       "      <td>Arrêt de travail spontané en raison de l'agres...</td>\n",
       "      <td>NaN</td>\n",
       "      <td>NaN</td>\n",
       "      <td>#RERA</td>\n",
       "      <td>5.606696e+17</td>\n",
       "      <td>https://twitter.com/RER_A/status/5606696327600...</td>\n",
       "    </tr>\n",
       "    <tr>\n",
       "      <th>16046</th>\n",
       "      <td>RER_A</td>\n",
       "      <td>2015-01-29 08:01</td>\n",
       "      <td>295</td>\n",
       "      <td>26</td>\n",
       "      <td>Depuis 7h52 fermeture des gares #RERA #RATP sa...</td>\n",
       "      <td>NaN</td>\n",
       "      <td>NaN</td>\n",
       "      <td>#RERA #RATP</td>\n",
       "      <td>5.606942e+17</td>\n",
       "      <td>https://twitter.com/RER_A/status/5606941607020...</td>\n",
       "    </tr>\n",
       "  </tbody>\n",
       "</table>\n",
       "</div>"
      ],
      "text/plain": [
       "      username              date  retweets  favorites  \\\n",
       "2987     RER_A  2017-05-24 12:41      1996        416   \n",
       "107      RER_A  2017-10-05 17:52       429        145   \n",
       "784      RER_A  2017-08-28 12:02       342        409   \n",
       "16061    RER_A  2015-01-29 06:23       306         19   \n",
       "16046    RER_A  2015-01-29 08:01       295         26   \n",
       "\n",
       "                                                    text  geo mentions  \\\n",
       "2987   Ce chien a été retrouvé ce matin, vers 7h, sur...  NaN      NaN   \n",
       "107    1 incident électrique au niveau de la caténair...  NaN      NaN   \n",
       "784    [ #TravauxEteRERA ] Les travaux sont terminés ...  NaN      NaN   \n",
       "16061  Arrêt de travail spontané en raison de l'agres...  NaN      NaN   \n",
       "16046  Depuis 7h52 fermeture des gares #RERA #RATP sa...  NaN      NaN   \n",
       "\n",
       "                    hashtags            id  \\\n",
       "2987                   #RERA  8.673298e+17   \n",
       "107                    #RERA  9.159679e+17   \n",
       "784    #TravauxEteRERA #RERA  9.021090e+17   \n",
       "16061                  #RERA  5.606696e+17   \n",
       "16046            #RERA #RATP  5.606942e+17   \n",
       "\n",
       "                                               permalink  \n",
       "2987   https://twitter.com/RER_A/status/8673297646919...  \n",
       "107    https://twitter.com/RER_A/status/9159679468995...  \n",
       "784    https://twitter.com/RER_A/status/9021090016257...  \n",
       "16061  https://twitter.com/RER_A/status/5606696327600...  \n",
       "16046  https://twitter.com/RER_A/status/5606941607020...  "
      ]
     },
     "execution_count": 2,
     "metadata": {},
     "output_type": "execute_result"
    }
   ],
   "source": [
    "line_dict['RER_A'].sort_values(by='retweets',ascending = False).head()"
   ]
  },
  {
   "cell_type": "markdown",
   "metadata": {},
   "source": [
    "# Check how many items in each sub data set "
   ]
  },
  {
   "cell_type": "code",
   "execution_count": 3,
   "metadata": {},
   "outputs": [
    {
     "name": "stdout",
     "output_type": "stream",
     "text": [
      "RER_A (21028, 10)\n",
      "RER_B (15540, 10)\n",
      "RER_C (23086, 10)\n",
      "RER_D (23306, 10)\n",
      "RER_E (8497, 10)\n",
      "Ligne1_RATP (7436, 10)\n",
      "Ligne2_RATP (5518, 10)\n",
      "Ligne3_RATP (5043, 10)\n",
      "Ligne4_RATP (9091, 10)\n",
      "Ligne5_RATP (5998, 10)\n",
      "Ligne6_RATP (6977, 10)\n",
      "Ligne7_RATP (5963, 10)\n",
      "Ligne8_RATP (5903, 10)\n",
      "Ligne9_RATP (5642, 10)\n",
      "Ligne10_RATP (3950, 10)\n",
      "Ligne11_RATP (3812, 10)\n",
      "Ligne12_RATP (6335, 10)\n",
      "Ligne13_RATP (6992, 10)\n",
      "Ligne14_RATP (4927, 10)\n"
     ]
    }
   ],
   "source": [
    "# Check how many items we have\n",
    "for k,v in line_dict.items():\n",
    "    print(k, v.shape)\n",
    "    #print(v.head())"
   ]
  },
  {
   "cell_type": "markdown",
   "metadata": {},
   "source": [
    "# Have a look at the data in each sub dataset\n",
    "\n",
    "Since RER datasets may have different patterns comparing to metros."
   ]
  },
  {
   "cell_type": "code",
   "execution_count": 4,
   "metadata": {
    "scrolled": true
   },
   "outputs": [
    {
     "data": {
      "text/html": [
       "<div>\n",
       "<style>\n",
       "    .dataframe thead tr:only-child th {\n",
       "        text-align: right;\n",
       "    }\n",
       "\n",
       "    .dataframe thead th {\n",
       "        text-align: left;\n",
       "    }\n",
       "\n",
       "    .dataframe tbody tr th {\n",
       "        vertical-align: top;\n",
       "    }\n",
       "</style>\n",
       "<table border=\"1\" class=\"dataframe\">\n",
       "  <thead>\n",
       "    <tr style=\"text-align: right;\">\n",
       "      <th></th>\n",
       "      <th>username</th>\n",
       "      <th>date</th>\n",
       "      <th>retweets</th>\n",
       "      <th>favorites</th>\n",
       "      <th>text</th>\n",
       "      <th>geo</th>\n",
       "      <th>mentions</th>\n",
       "      <th>hashtags</th>\n",
       "      <th>id</th>\n",
       "      <th>permalink</th>\n",
       "    </tr>\n",
       "  </thead>\n",
       "  <tbody>\n",
       "    <tr>\n",
       "      <th>0</th>\n",
       "      <td>Ligne11_RATP</td>\n",
       "      <td>2017-10-10 12:19</td>\n",
       "      <td>0</td>\n",
       "      <td>0</td>\n",
       "      <td>Bonjour, la #Ligne11 fonctionne correctement, ...</td>\n",
       "      <td>NaN</td>\n",
       "      <td>NaN</td>\n",
       "      <td>#Ligne11</td>\n",
       "      <td>9.176961e+17</td>\n",
       "      <td>https://twitter.com/Ligne11_RATP/status/917696...</td>\n",
       "    </tr>\n",
       "    <tr>\n",
       "      <th>1</th>\n",
       "      <td>Ligne11_RATP</td>\n",
       "      <td>2017-10-09 14:22</td>\n",
       "      <td>0</td>\n",
       "      <td>1</td>\n",
       "      <td>Demain, le trafic sera normal sur votre #ligne...</td>\n",
       "      <td>NaN</td>\n",
       "      <td>NaN</td>\n",
       "      <td>#ligne11 #RATP #greve10octobre</td>\n",
       "      <td>9.173647e+17</td>\n",
       "      <td>https://twitter.com/Ligne11_RATP/status/917364...</td>\n",
       "    </tr>\n",
       "    <tr>\n",
       "      <th>2</th>\n",
       "      <td>Ligne11_RATP</td>\n",
       "      <td>2017-10-08 12:58</td>\n",
       "      <td>0</td>\n",
       "      <td>1</td>\n",
       "      <td>Retour à un trafic régulier sur l'ensemble de ...</td>\n",
       "      <td>NaN</td>\n",
       "      <td>NaN</td>\n",
       "      <td>#Ligne11 #RATP</td>\n",
       "      <td>9.169811e+17</td>\n",
       "      <td>https://twitter.com/Ligne11_RATP/status/916981...</td>\n",
       "    </tr>\n",
       "    <tr>\n",
       "      <th>3</th>\n",
       "      <td>Ligne11_RATP</td>\n",
       "      <td>2017-10-08 12:51</td>\n",
       "      <td>1</td>\n",
       "      <td>0</td>\n",
       "      <td>12:51, Retour à un trafic régulier sur l'ensem...</td>\n",
       "      <td>NaN</td>\n",
       "      <td>NaN</td>\n",
       "      <td>#Ligne11 #RATP</td>\n",
       "      <td>9.169795e+17</td>\n",
       "      <td>https://twitter.com/Ligne11_RATP/status/916979...</td>\n",
       "    </tr>\n",
       "    <tr>\n",
       "      <th>4</th>\n",
       "      <td>Ligne11_RATP</td>\n",
       "      <td>2017-10-08 12:45</td>\n",
       "      <td>1</td>\n",
       "      <td>0</td>\n",
       "      <td>12:43, le trafic reprend progressivement (coli...</td>\n",
       "      <td>NaN</td>\n",
       "      <td>NaN</td>\n",
       "      <td>#RATP #Ligne11</td>\n",
       "      <td>9.169778e+17</td>\n",
       "      <td>https://twitter.com/Ligne11_RATP/status/916977...</td>\n",
       "    </tr>\n",
       "  </tbody>\n",
       "</table>\n",
       "</div>"
      ],
      "text/plain": [
       "       username              date  retweets  favorites  \\\n",
       "0  Ligne11_RATP  2017-10-10 12:19         0          0   \n",
       "1  Ligne11_RATP  2017-10-09 14:22         0          1   \n",
       "2  Ligne11_RATP  2017-10-08 12:58         0          1   \n",
       "3  Ligne11_RATP  2017-10-08 12:51         1          0   \n",
       "4  Ligne11_RATP  2017-10-08 12:45         1          0   \n",
       "\n",
       "                                                text  geo mentions  \\\n",
       "0  Bonjour, la #Ligne11 fonctionne correctement, ...  NaN      NaN   \n",
       "1  Demain, le trafic sera normal sur votre #ligne...  NaN      NaN   \n",
       "2  Retour à un trafic régulier sur l'ensemble de ...  NaN      NaN   \n",
       "3  12:51, Retour à un trafic régulier sur l'ensem...  NaN      NaN   \n",
       "4  12:43, le trafic reprend progressivement (coli...  NaN      NaN   \n",
       "\n",
       "                         hashtags            id  \\\n",
       "0                        #Ligne11  9.176961e+17   \n",
       "1  #ligne11 #RATP #greve10octobre  9.173647e+17   \n",
       "2                  #Ligne11 #RATP  9.169811e+17   \n",
       "3                  #Ligne11 #RATP  9.169795e+17   \n",
       "4                  #RATP #Ligne11  9.169778e+17   \n",
       "\n",
       "                                           permalink  \n",
       "0  https://twitter.com/Ligne11_RATP/status/917696...  \n",
       "1  https://twitter.com/Ligne11_RATP/status/917364...  \n",
       "2  https://twitter.com/Ligne11_RATP/status/916981...  \n",
       "3  https://twitter.com/Ligne11_RATP/status/916979...  \n",
       "4  https://twitter.com/Ligne11_RATP/status/916977...  "
      ]
     },
     "execution_count": 4,
     "metadata": {},
     "output_type": "execute_result"
    }
   ],
   "source": [
    "line_dict['Ligne11_RATP'].head()"
   ]
  },
  {
   "cell_type": "code",
   "execution_count": 5,
   "metadata": {},
   "outputs": [
    {
     "data": {
      "text/html": [
       "<div>\n",
       "<style>\n",
       "    .dataframe thead tr:only-child th {\n",
       "        text-align: right;\n",
       "    }\n",
       "\n",
       "    .dataframe thead th {\n",
       "        text-align: left;\n",
       "    }\n",
       "\n",
       "    .dataframe tbody tr th {\n",
       "        vertical-align: top;\n",
       "    }\n",
       "</style>\n",
       "<table border=\"1\" class=\"dataframe\">\n",
       "  <thead>\n",
       "    <tr style=\"text-align: right;\">\n",
       "      <th></th>\n",
       "      <th>username</th>\n",
       "      <th>date</th>\n",
       "      <th>retweets</th>\n",
       "      <th>favorites</th>\n",
       "      <th>text</th>\n",
       "      <th>geo</th>\n",
       "      <th>mentions</th>\n",
       "      <th>hashtags</th>\n",
       "      <th>id</th>\n",
       "      <th>permalink</th>\n",
       "    </tr>\n",
       "  </thead>\n",
       "  <tbody>\n",
       "    <tr>\n",
       "      <th>0</th>\n",
       "      <td>RERB</td>\n",
       "      <td>2017-10-12 19:16</td>\n",
       "      <td>0</td>\n",
       "      <td>0</td>\n",
       "      <td>Toutes les missions sont rendues omnibus. Bonn...</td>\n",
       "      <td>NaN</td>\n",
       "      <td>NaN</td>\n",
       "      <td>NaN</td>\n",
       "      <td>9.185259e+17</td>\n",
       "      <td>https://twitter.com/RERB/status/91852587036885...</td>\n",
       "    </tr>\n",
       "    <tr>\n",
       "      <th>1</th>\n",
       "      <td>RERB</td>\n",
       "      <td>2017-10-12 18:51</td>\n",
       "      <td>1</td>\n",
       "      <td>0</td>\n",
       "      <td>Bonsoir, le trafic reprend progressivement mai...</td>\n",
       "      <td>NaN</td>\n",
       "      <td>NaN</td>\n",
       "      <td>NaN</td>\n",
       "      <td>9.185196e+17</td>\n",
       "      <td>https://twitter.com/RERB/status/91851956429560...</td>\n",
       "    </tr>\n",
       "    <tr>\n",
       "      <th>2</th>\n",
       "      <td>RERB</td>\n",
       "      <td>2017-10-12 18:45</td>\n",
       "      <td>1</td>\n",
       "      <td>0</td>\n",
       "      <td>Il est également possible de prendre un train ...</td>\n",
       "      <td>NaN</td>\n",
       "      <td>NaN</td>\n",
       "      <td>NaN</td>\n",
       "      <td>9.185180e+17</td>\n",
       "      <td>https://twitter.com/RERB/status/91851797897883...</td>\n",
       "    </tr>\n",
       "    <tr>\n",
       "      <th>3</th>\n",
       "      <td>RERB</td>\n",
       "      <td>2017-10-12 18:40</td>\n",
       "      <td>0</td>\n",
       "      <td>0</td>\n",
       "      <td>Bonsoir, oui des trains circulent au départ d'...</td>\n",
       "      <td>NaN</td>\n",
       "      <td>NaN</td>\n",
       "      <td>NaN</td>\n",
       "      <td>9.185168e+17</td>\n",
       "      <td>https://twitter.com/RERB/status/91851677975599...</td>\n",
       "    </tr>\n",
       "    <tr>\n",
       "      <th>4</th>\n",
       "      <td>RERB</td>\n",
       "      <td>2017-10-12 18:36</td>\n",
       "      <td>0</td>\n",
       "      <td>1</td>\n",
       "      <td>Bonsoir, l'incident est terminé, le trafic rep...</td>\n",
       "      <td>NaN</td>\n",
       "      <td>NaN</td>\n",
       "      <td>NaN</td>\n",
       "      <td>9.185157e+17</td>\n",
       "      <td>https://twitter.com/RERB/status/91851566784590...</td>\n",
       "    </tr>\n",
       "  </tbody>\n",
       "</table>\n",
       "</div>"
      ],
      "text/plain": [
       "  username              date  retweets  favorites  \\\n",
       "0     RERB  2017-10-12 19:16         0          0   \n",
       "1     RERB  2017-10-12 18:51         1          0   \n",
       "2     RERB  2017-10-12 18:45         1          0   \n",
       "3     RERB  2017-10-12 18:40         0          0   \n",
       "4     RERB  2017-10-12 18:36         0          1   \n",
       "\n",
       "                                                text  geo mentions hashtags  \\\n",
       "0  Toutes les missions sont rendues omnibus. Bonn...  NaN      NaN      NaN   \n",
       "1  Bonsoir, le trafic reprend progressivement mai...  NaN      NaN      NaN   \n",
       "2  Il est également possible de prendre un train ...  NaN      NaN      NaN   \n",
       "3  Bonsoir, oui des trains circulent au départ d'...  NaN      NaN      NaN   \n",
       "4  Bonsoir, l'incident est terminé, le trafic rep...  NaN      NaN      NaN   \n",
       "\n",
       "             id                                          permalink  \n",
       "0  9.185259e+17  https://twitter.com/RERB/status/91852587036885...  \n",
       "1  9.185196e+17  https://twitter.com/RERB/status/91851956429560...  \n",
       "2  9.185180e+17  https://twitter.com/RERB/status/91851797897883...  \n",
       "3  9.185168e+17  https://twitter.com/RERB/status/91851677975599...  \n",
       "4  9.185157e+17  https://twitter.com/RERB/status/91851566784590...  "
      ]
     },
     "execution_count": 5,
     "metadata": {},
     "output_type": "execute_result"
    }
   ],
   "source": [
    "line_dict['RER_B'].head()"
   ]
  },
  {
   "cell_type": "markdown",
   "metadata": {},
   "source": [
    "## We find a fun fact by checking data from RER_A: the most popular twitter is about a refound dog???"
   ]
  },
  {
   "cell_type": "code",
   "execution_count": 6,
   "metadata": {},
   "outputs": [
    {
     "data": {
      "text/plain": [
       "2987     Ce chien a été retrouvé ce matin, vers 7h, sur...\n",
       "107      1 incident électrique au niveau de la caténair...\n",
       "784      [ #TravauxEteRERA ] Les travaux sont terminés ...\n",
       "16061    Arrêt de travail spontané en raison de l'agres...\n",
       "16046    Depuis 7h52 fermeture des gares #RERA #RATP sa...\n",
       "Name: text, dtype: object"
      ]
     },
     "execution_count": 6,
     "metadata": {},
     "output_type": "execute_result"
    }
   ],
   "source": [
    "# sort by retweets --> a dog is missing??? comes up first???\n",
    "line_dict['RER_A'].sort_values(by='retweets',ascending = False)['text'].head()"
   ]
  },
  {
   "cell_type": "markdown",
   "metadata": {},
   "source": [
    "# Import different station names from RATP API"
   ]
  },
  {
   "cell_type": "code",
   "execution_count": 7,
   "metadata": {
    "collapsed": true
   },
   "outputs": [],
   "source": [
    "# find all station names --> gares\n",
    "df_st = pd.read_csv('data\\gares.csv', delimiter=';')\n",
    "gares = df_st.nomptar.str.split('(')\n",
    "gares = [x[0].rstrip(' ') for x in gares] # la defense has a lagging space"
   ]
  },
  {
   "cell_type": "markdown",
   "metadata": {},
   "source": [
    "# Data Cleaning:\n",
    "\n",
    "1. Creating a data cleaning function.\n",
    "2. Run the function over all datasets."
   ]
  },
  {
   "cell_type": "code",
   "execution_count": 8,
   "metadata": {
    "collapsed": true,
    "scrolled": true
   },
   "outputs": [],
   "source": [
    "# change display to 200\n",
    "## Step 1: delete all \n",
    "## Théo, Bonjour, @, Tom, Emma\n",
    "import re\n",
    "def clean_data(input):\n",
    "    pd.options.display.max_colwidth = 200\n",
    "    input['date'] = pd.to_datetime(input.date)\n",
    "    input = input[input.date >= pd.to_datetime('2014-1-1')]\n",
    "    \n",
    "    # replace pte, chateau \n",
    "    input.text = input.text.str.replace('Pte|pte', 'Porte')\n",
    "    input.text = input.text.str.replace('Chateau|chateau', 'Château')\n",
    "    input.text = input.text.str.replace('électr.', 'électrique')\n",
    "    input.text = input.text.str.replace('tvx.', 'travaux')    \n",
    "    \n",
    "    if re.search('RER[CDE]_SNCF',input.username.iloc[0]):\n",
    "        output = input[input.text.str.contains('Infotrafic', na=False)]\n",
    "    else:\n",
    "        to_drop = [\"Bonjour\", \"@\",'Théo', 'Emma','Bjr','Inès',\n",
    "                   'Lana','vous','soirée','Oui','estimée', \n",
    "                   'Travaux prévus','journée','bonjour','rerb', \n",
    "                   'rerc','rerd', 'rere','Infotrafic'] # all about conversations \n",
    "        output = input[~input.text.str.contains('|'.join(to_drop), na=False)]\n",
    "    return output"
   ]
  },
  {
   "cell_type": "markdown",
   "metadata": {},
   "source": [
    "## Check how many items left in each sub dataset."
   ]
  },
  {
   "cell_type": "code",
   "execution_count": 9,
   "metadata": {},
   "outputs": [
    {
     "name": "stderr",
     "output_type": "stream",
     "text": [
      "D:\\Users\\ThinkPad\\Anaconda3\\lib\\site-packages\\pandas\\core\\generic.py:2999: SettingWithCopyWarning: \n",
      "A value is trying to be set on a copy of a slice from a DataFrame.\n",
      "Try using .loc[row_indexer,col_indexer] = value instead\n",
      "\n",
      "See the caveats in the documentation: http://pandas.pydata.org/pandas-docs/stable/indexing.html#indexing-view-versus-copy\n",
      "  self[name] = value\n"
     ]
    },
    {
     "name": "stdout",
     "output_type": "stream",
     "text": [
      "RER_A (8214, 10)\n",
      "RER_B (6586, 10)\n",
      "RER_C (2502, 10)\n",
      "RER_D (2967, 10)\n",
      "RER_E (1567, 10)\n",
      "Ligne1_RATP (2965, 10)\n",
      "Ligne2_RATP (2221, 10)\n",
      "Ligne3_RATP (2073, 10)\n",
      "Ligne4_RATP (4314, 10)\n",
      "Ligne5_RATP (2671, 10)\n",
      "Ligne6_RATP (3439, 10)\n",
      "Ligne7_RATP (2851, 10)\n",
      "Ligne8_RATP (3013, 10)\n",
      "Ligne9_RATP (2546, 10)\n",
      "Ligne10_RATP (1345, 10)\n",
      "Ligne11_RATP (1285, 10)\n",
      "Ligne12_RATP (2616, 10)\n",
      "Ligne13_RATP (3104, 10)\n",
      "Ligne14_RATP (1786, 10)\n"
     ]
    }
   ],
   "source": [
    "for k in line_dict.keys():\n",
    "    line_dict[k] = clean_data(line_dict[k])\n",
    "    print(k, line_dict[k].shape)"
   ]
  },
  {
   "cell_type": "markdown",
   "metadata": {},
   "source": [
    "# Using NLP to analyze tweets\n",
    "\n",
    "1. Find the most frequent phrases\n",
    "2. Find the most frequent gares\n",
    "3. Find the most stations"
   ]
  },
  {
   "cell_type": "code",
   "execution_count": 10,
   "metadata": {},
   "outputs": [],
   "source": [
    "# top 20 frequent words\n",
    "import nltk\n",
    "def words_freq(output):\n",
    "    moby_tokens = nltk.word_tokenize(output.text.str.lower().str.cat(sep = ' '))\n",
    "    text1 = nltk.Text(moby_tokens)\n",
    "    nltk.FreqDist(text1).most_common(20)\n",
    "    stopwords = nltk.corpus.stopwords.words('french')\n",
    "    stopwords = stopwords + ['rera','ratp','ligne','entre',\n",
    "                             'http','les','vers','dir','trafic','gare']\n",
    "    words_except_stop_dist = nltk.FreqDist(w for w in text1 if w not \n",
    "                                           in stopwords and w.isalpha() )\n",
    "    return words_except_stop_dist"
   ]
  },
  {
   "cell_type": "code",
   "execution_count": 11,
   "metadata": {
    "collapsed": true
   },
   "outputs": [],
   "source": [
    "from collections import Counter\n",
    "def gare_fq(output):\n",
    "    gare_freq = Counter()\n",
    "    for gare in gares:\n",
    "        gare_freq[gare] = output.text.str.lower().str.contains(gare.lower()).sum()\n",
    "    return gare_freq"
   ]
  },
  {
   "cell_type": "code",
   "execution_count": 12,
   "metadata": {},
   "outputs": [
    {
     "data": {
      "text/plain": [
       "5775                                                   20:11, la rame stationne à Lognes en dir. de Cergy-Le-Haut (incident voyageur) #RATP #RERA\n",
       "17097                                      06:47, la rame est repartie de Neuilly-Plais. en dir. de Cergy-Le-Haut (incident voyageur) #RATP #RERA\n",
       "2191                    En raison d'une panne de signalisation, le trafic est perturbé entre les gares Cergy-Le-Haut et Nanterre-Prefecture #RERA\n",
       "8080                          16:41, le trafic est interrompu entre Nanterre-Prefecture et Cergy-Le-Haut (accident grave de voyageur) #RATP #RERA\n",
       "14802                               19:11, le trafic est interrompu entre Cergy-Le-Haut et Maisons-Laffitte (incident d'exploitation) #RATP #RERA\n",
       "5401                             19:52, le trafic est interrompu entre Maisons-Laffitte et Cergy-Le-Haut (accident grave de voyageur) #RATP #RERA\n",
       "10570                                17:12, le trafic est interrompu entre Cergy-Le-Haut et Maisons-Laffitte (panne de signalisation) #RATP #RERA\n",
       "8293                                 07:44, le trafic est perturbé de La Defense (Grande Arche) vers Cergy-Le-Haut (malaise voyageur) #RATP #RERA\n",
       "5583                                                   Une navette ferroviaire est mise en place jusqu'à 8h30 entre Poissy et Cergy-Le-Haut #RERA\n",
       "13706    08:18, le trafic est ralenti entre La Defense et Cergy-Le-Haut (incident technique) #RATP #RERA L'incident concerne également la #ligneL\n",
       "Name: text, dtype: object"
      ]
     },
     "execution_count": 12,
     "metadata": {},
     "output_type": "execute_result"
    }
   ],
   "source": [
    "# sometimes, cergy-le-haut, naterre may be due to their direction --> \n",
    "# result is true, many items are entre XXX et XXX\n",
    "line_dict['RER_A'].text[line_dict['RER_A'].text.str.contains('Cergy-Le-Haut')].sample(10)"
   ]
  },
  {
   "cell_type": "markdown",
   "metadata": {},
   "source": [
    "## Check words_freq function on RER_B"
   ]
  },
  {
   "cell_type": "code",
   "execution_count": 13,
   "metadata": {},
   "outputs": [
    {
     "data": {
      "text/plain": [
       "[('rerb', 5417),\n",
       " ('incident', 1417),\n",
       " ('perturbé', 1111),\n",
       " ('retour', 1044),\n",
       " ('terminé', 963),\n",
       " ('régulier', 921),\n",
       " ('voyageur', 861),\n",
       " ('aeroport', 688),\n",
       " ('colis', 678),\n",
       " ('suspect', 676),\n",
       " ('nord', 663),\n",
       " ('interrompu', 651),\n",
       " ('cdg', 631),\n",
       " ('panne', 555),\n",
       " ('ralenti', 476),\n",
       " ('mitry', 451),\n",
       " ('train', 446),\n",
       " ('robinson', 432),\n",
       " ('claye', 401),\n",
       " ('charles', 381)]"
      ]
     },
     "execution_count": 13,
     "metadata": {},
     "output_type": "execute_result"
    }
   ],
   "source": [
    "## Now let's try RER B\n",
    "output_b = line_dict['RER_B']\n",
    "words_freq(output_b).most_common(20)"
   ]
  },
  {
   "cell_type": "markdown",
   "metadata": {},
   "source": [
    "## Check gare_fq function on RER_B"
   ]
  },
  {
   "cell_type": "code",
   "execution_count": 14,
   "metadata": {},
   "outputs": [
    {
     "data": {
      "text/plain": [
       "[('Gare du Nord', 584),\n",
       " ('Robinson', 464),\n",
       " ('Palaiseau', 225),\n",
       " ('Les Halles', 213),\n",
       " ('Antony', 144),\n",
       " ('Bourg-la-Reine', 112),\n",
       " ('Mitry-Claye', 106),\n",
       " ('Châtelet', 98),\n",
       " ('Laplace', 90),\n",
       " ('Massy-Palaiseau', 84),\n",
       " ('Luxembourg', 83),\n",
       " ('Aulnay-sous-Bois', 65),\n",
       " ('Parc des Expositions', 60),\n",
       " ('Le Bourget', 57),\n",
       " ('Port Royal', 52),\n",
       " ('Cité', 41),\n",
       " ('La Plaine-Stade de France', 31),\n",
       " ('Orsay-Ville', 31),\n",
       " ('Denfert-Rochereau', 30),\n",
       " ('Sceaux', 29)]"
      ]
     },
     "execution_count": 14,
     "metadata": {},
     "output_type": "execute_result"
    }
   ],
   "source": [
    "gare_fq(output_b).most_common(20)"
   ]
  },
  {
   "cell_type": "markdown",
   "metadata": {},
   "source": [
    "## Build incident_freq function"
   ]
  },
  {
   "cell_type": "code",
   "execution_count": 15,
   "metadata": {
    "collapsed": true
   },
   "outputs": [],
   "source": [
    "from collections import Counter\n",
    "def incidient_reason(input):\n",
    "    output = input\n",
    "    incidents = ['malaise voyageur',\"incident d'exploitation\",\"incident technique\",'Incident de signalisation',\n",
    "                \"colis suspect\", \"voyageur malade\", \"incident voyageur\", \n",
    "                \"divers incidents\",'panne de signalisation','panne de matériel',\n",
    "                'panne électrique','panne mécanique','panne de caténaire',\n",
    "                \"panne d'aiguillage\",'panne matériel','panne éléctrique', \n",
    "                'panne sur un train','pannes de signalisation',\"panne d'un train\",\n",
    "                \"panne de train\",'obstacle sur la voie', 'bagage abandonné','incident de passage', \n",
    "                 'accident de personne','feu aux abords','pb signalisation','acte de malveillance',\n",
    "                 'jets de pierre','obstacle sur la voie','bagage oublié',\n",
    "                 'personnes sur les voies','branche tombée','jet de projectile']\n",
    "    incident_freq = Counter()\n",
    "    for incident in incidents:\n",
    "        incident_freq[incident] = output.text.str.lower().str.contains(incident.lower()).sum()\n",
    "    return incident_freq   "
   ]
  },
  {
   "cell_type": "markdown",
   "metadata": {},
   "source": [
    "## Test incident_reason function in RER_C"
   ]
  },
  {
   "cell_type": "code",
   "execution_count": 16,
   "metadata": {},
   "outputs": [
    {
     "data": {
      "text/plain": [
       "[('bagage abandonné', 149),\n",
       " ('bagage oublié', 144),\n",
       " ('personnes sur les voies', 113),\n",
       " (\"panne d'un train\", 103),\n",
       " ('accident de personne', 78),\n",
       " ('malaise voyageur', 25),\n",
       " ('Incident de signalisation', 24),\n",
       " ('acte de malveillance', 24),\n",
       " ('obstacle sur la voie', 15),\n",
       " ('incident technique', 11),\n",
       " ('incident de passage', 9),\n",
       " ('feu aux abords', 8),\n",
       " ('branche tombée', 8),\n",
       " ('panne électrique', 6),\n",
       " ('jets de pierre', 5),\n",
       " ('panne de signalisation', 4),\n",
       " ('colis suspect', 3),\n",
       " ('panne sur un train', 3),\n",
       " ('pb signalisation', 3),\n",
       " ('jet de projectile', 3),\n",
       " ('incident voyageur', 2),\n",
       " (\"panne d'aiguillage\", 2),\n",
       " ('divers incidents', 1),\n",
       " ('panne de train', 1),\n",
       " (\"incident d'exploitation\", 0),\n",
       " ('voyageur malade', 0),\n",
       " ('panne de matériel', 0),\n",
       " ('panne mécanique', 0),\n",
       " ('panne de caténaire', 0),\n",
       " ('panne matériel', 0),\n",
       " ('panne éléctrique', 0),\n",
       " ('pannes de signalisation', 0)]"
      ]
     },
     "execution_count": 16,
     "metadata": {},
     "output_type": "execute_result"
    }
   ],
   "source": [
    "incidient_reason(line_dict['RER_C']).most_common()"
   ]
  },
  {
   "cell_type": "markdown",
   "metadata": {},
   "source": [
    "## Consolidate all functions in one dashboard function"
   ]
  },
  {
   "cell_type": "code",
   "execution_count": 17,
   "metadata": {
    "collapsed": true
   },
   "outputs": [],
   "source": [
    "# what if we write a summary function \n",
    "def summary(input):\n",
    "    output = input\n",
    "    print()\n",
    "    print ('The 20 most frequent words are: ')\n",
    "    print(words_freq(output).most_common(20))\n",
    "    print('\\n')\n",
    "    print('The 20 most frequent stations are: ')\n",
    "    print(gare_fq(output).most_common(20))\n",
    "    print('\\n')\n",
    "    print('The 20 most frequent reasons are: ')\n",
    "    print(incidient_reason(output).most_common(20))\n",
    "#summary(line_dict['RER_A'])"
   ]
  },
  {
   "cell_type": "markdown",
   "metadata": {},
   "source": [
    "# Get an overview of all sub datasets"
   ]
  },
  {
   "cell_type": "code",
   "execution_count": 18,
   "metadata": {
    "scrolled": true
   },
   "outputs": [
    {
     "data": {
      "text/plain": [
       "\"\\nfor k, v in line_dict.items():\\n    try:\\n        print(k,'\\n')\\n        summary(v)\\n    except:\\n        print('Something is wrong')\\n        pass\\n\""
      ]
     },
     "execution_count": 18,
     "metadata": {},
     "output_type": "execute_result"
    }
   ],
   "source": [
    "# Then get a global view !!!\n",
    "'''\n",
    "for k, v in line_dict.items():\n",
    "    try:\n",
    "        print(k,'\\n')\n",
    "        summary(v)\n",
    "    except:\n",
    "        print('Something is wrong')\n",
    "        pass\n",
    "'''"
   ]
  },
  {
   "cell_type": "markdown",
   "metadata": {},
   "source": [
    "# Merge all sub datasets into one "
   ]
  },
  {
   "cell_type": "code",
   "execution_count": 19,
   "metadata": {
    "collapsed": true
   },
   "outputs": [],
   "source": [
    "# concat all dataframe and clean data\n",
    "def consol(data_dic):\n",
    "    result = pd.DataFrame()\n",
    "    for k, v in data_dic.items():\n",
    "        result = pd.concat([result, v])\n",
    "    result = result.sort_values(by='date')\n",
    "    return result\n",
    "df_consol = consol(line_dict)"
   ]
  },
  {
   "cell_type": "code",
   "execution_count": 20,
   "metadata": {},
   "outputs": [],
   "source": [
    "# overall summary\n",
    "#summary(df_consol)"
   ]
  },
  {
   "cell_type": "markdown",
   "metadata": {},
   "source": [
    "## How many tweets per Ligne/RER"
   ]
  },
  {
   "cell_type": "code",
   "execution_count": 21,
   "metadata": {},
   "outputs": [
    {
     "data": {
      "text/plain": [
       "RER_A           8214\n",
       "RERB            6586\n",
       "Ligne4_RATP     4314\n",
       "Ligne6_RATP     3439\n",
       "Ligne13_RATP    3104\n",
       "Ligne8_RATP     3013\n",
       "RERD_SNCF       2967\n",
       "Ligne1_RATP     2965\n",
       "Ligne7_RATP     2851\n",
       "Ligne5_RATP     2671\n",
       "Ligne12_RATP    2616\n",
       "Ligne9_RATP     2546\n",
       "RERC_SNCF       2502\n",
       "Ligne2_RATP     2221\n",
       "Ligne3_RATP     2073\n",
       "Ligne14_RATP    1786\n",
       "RERE_SNCF       1567\n",
       "Ligne10_RATP    1345\n",
       "Ligne11_RATP    1285\n",
       "Name: username, dtype: int64"
      ]
     },
     "execution_count": 21,
     "metadata": {},
     "output_type": "execute_result"
    }
   ],
   "source": [
    "# overall tweets\n",
    "df_consol.username.value_counts()"
   ]
  },
  {
   "cell_type": "markdown",
   "metadata": {},
   "source": [
    "# Numbers of Tweets per day"
   ]
  },
  {
   "cell_type": "code",
   "execution_count": 22,
   "metadata": {},
   "outputs": [
    {
     "data": {
      "text/plain": [
       "2015-01-29    278\n",
       "2016-12-06    166\n",
       "2015-06-30    161\n",
       "2014-12-31    154\n",
       "2017-06-24    144\n",
       "2016-11-29    142\n",
       "2016-08-14    134\n",
       "2016-05-25    133\n",
       "2016-03-29    129\n",
       "2016-12-07    120\n",
       "Name: date, dtype: int64"
      ]
     },
     "execution_count": 22,
     "metadata": {},
     "output_type": "execute_result"
    }
   ],
   "source": [
    "date_tweets = df_consol.date.apply(lambda x: x.date()).value_counts()\n",
    "date_tweets.iloc[:10]"
   ]
  },
  {
   "cell_type": "markdown",
   "metadata": {},
   "source": [
    "## Plot a chart visualize the data"
   ]
  },
  {
   "cell_type": "code",
   "execution_count": 23,
   "metadata": {},
   "outputs": [
    {
     "data": {
      "text/plain": [
       "<matplotlib.axes._subplots.AxesSubplot at 0xdbaf400>"
      ]
     },
     "execution_count": 23,
     "metadata": {},
     "output_type": "execute_result"
    },
    {
     "data": {
      "image/png": "[encoded data removed]",
      "text/plain": [
       "<matplotlib.figure.Figure at 0xdbb0128>"
      ]
     },
     "metadata": {},
     "output_type": "display_data"
    }
   ],
   "source": [
    "from matplotlib import pyplot as plt\n",
    "%matplotlib inline\n",
    "date_tweets.plot()"
   ]
  },
  {
   "cell_type": "markdown",
   "metadata": {},
   "source": [
    "## Export date, username, tweets count per date & consolidated data"
   ]
  },
  {
   "cell_type": "code",
   "execution_count": 24,
   "metadata": {
    "collapsed": true
   },
   "outputs": [],
   "source": [
    "# export date, username, tweets count\n",
    "df_consol['date_new'] =  df_consol.date.apply(lambda x: x.date())\n",
    "df_consol.groupby(['date_new', 'username']).size().to_csv('tweets_date.csv')\n",
    "df_consol.to_csv('consol.csv')"
   ]
  },
  {
   "cell_type": "markdown",
   "metadata": {},
   "source": [
    "## Consolidate the data by hour"
   ]
  },
  {
   "cell_type": "code",
   "execution_count": 25,
   "metadata": {},
   "outputs": [
    {
     "data": {
      "text/html": [
       "<div>\n",
       "<style>\n",
       "    .dataframe thead tr:only-child th {\n",
       "        text-align: right;\n",
       "    }\n",
       "\n",
       "    .dataframe thead th {\n",
       "        text-align: left;\n",
       "    }\n",
       "\n",
       "    .dataframe tbody tr th {\n",
       "        vertical-align: top;\n",
       "    }\n",
       "</style>\n",
       "<table border=\"1\" class=\"dataframe\">\n",
       "  <thead>\n",
       "    <tr style=\"text-align: right;\">\n",
       "      <th></th>\n",
       "      <th>username</th>\n",
       "      <th>date</th>\n",
       "      <th>retweets</th>\n",
       "      <th>favorites</th>\n",
       "      <th>text</th>\n",
       "      <th>geo</th>\n",
       "      <th>mentions</th>\n",
       "      <th>hashtags</th>\n",
       "      <th>id</th>\n",
       "      <th>permalink</th>\n",
       "      <th>date_new</th>\n",
       "      <th>hour</th>\n",
       "    </tr>\n",
       "  </thead>\n",
       "  <tbody>\n",
       "    <tr>\n",
       "      <th>5167</th>\n",
       "      <td>RERB</td>\n",
       "      <td>2016-08-20 00:15:00</td>\n",
       "      <td>1100</td>\n",
       "      <td>286</td>\n",
       "      <td>Alerte enlèvement 19.08.2016 pic.twitter.com/Glqtxno04Q</td>\n",
       "      <td>NaN</td>\n",
       "      <td>NaN</td>\n",
       "      <td>NaN</td>\n",
       "      <td>7.667604e+17</td>\n",
       "      <td>https://twitter.com/RERB/status/766760426562519040</td>\n",
       "      <td>2016-08-20</td>\n",
       "      <td>0</td>\n",
       "    </tr>\n",
       "    <tr>\n",
       "      <th>630</th>\n",
       "      <td>Ligne11_RATP</td>\n",
       "      <td>2016-04-01 07:54:00</td>\n",
       "      <td>667</td>\n",
       "      <td>410</td>\n",
       "      <td>Ds une volonté de modernisation, la #RATP modifie le nom de la station Télégraphe en #Tweet http://www. ratp.fr/fr/ratp/v_1490 39/metro-rer-la-ratp-renomme-13-stations/ … pic.twitter.com/W3x8Np6pR9</td>\n",
       "      <td>NaN</td>\n",
       "      <td>NaN</td>\n",
       "      <td>#RATP #Tweet</td>\n",
       "      <td>7.157795e+17</td>\n",
       "      <td>https://twitter.com/Ligne11_RATP/status/715779457173364737</td>\n",
       "      <td>2016-04-01</td>\n",
       "      <td>7</td>\n",
       "    </tr>\n",
       "    <tr>\n",
       "      <th>1157</th>\n",
       "      <td>Ligne2_RATP</td>\n",
       "      <td>2016-04-01 07:51:00</td>\n",
       "      <td>470</td>\n",
       "      <td>258</td>\n",
       "      <td>2 ǝuƃıl ǝɹʇoʌ ɹns sɹǝʌuɐ uoıʇɐʇs ɐl ǝp ıpǝɹpuǝʌ ǝɔ uoıʇɐɹnƃnɐuı http://www. ratp.fr/fr/ratp/v_1490 39/metro-rer-la-ratp-renomme-13-stations/ … pic.twitter.com/ekm1oychl4</td>\n",
       "      <td>NaN</td>\n",
       "      <td>NaN</td>\n",
       "      <td>NaN</td>\n",
       "      <td>7.157786e+17</td>\n",
       "      <td>https://twitter.com/Ligne2_RATP/status/715778636557783040</td>\n",
       "      <td>2016-04-01</td>\n",
       "      <td>7</td>\n",
       "    </tr>\n",
       "    <tr>\n",
       "      <th>107</th>\n",
       "      <td>RER_A</td>\n",
       "      <td>2017-10-05 17:52:00</td>\n",
       "      <td>429</td>\n",
       "      <td>145</td>\n",
       "      <td>1 incident électriqueque au niveau de la caténaire s'est produit à La Défense, bruyant, ms ss danger pour les voyageurs. Trafic perturbé #RERA</td>\n",
       "      <td>NaN</td>\n",
       "      <td>NaN</td>\n",
       "      <td>#RERA</td>\n",
       "      <td>9.159679e+17</td>\n",
       "      <td>https://twitter.com/RER_A/status/915967946899562500</td>\n",
       "      <td>2017-10-05</td>\n",
       "      <td>17</td>\n",
       "    </tr>\n",
       "    <tr>\n",
       "      <th>328</th>\n",
       "      <td>Ligne4_RATP</td>\n",
       "      <td>2017-08-01 15:10:00</td>\n",
       "      <td>366</td>\n",
       "      <td>192</td>\n",
       "      <td>La station Château Rouge rouvre aujourd'hui avec une salle d'accueil + spacieuse, un nouvel accès... ! #Ligne4 http:// ow.ly/XQnv30e4FPy pic.twitter.com/DrcL2GM9K7</td>\n",
       "      <td>NaN</td>\n",
       "      <td>NaN</td>\n",
       "      <td>#Ligne4</td>\n",
       "      <td>8.923720e+17</td>\n",
       "      <td>https://twitter.com/Ligne4_RATP/status/892371982330851329</td>\n",
       "      <td>2017-08-01</td>\n",
       "      <td>15</td>\n",
       "    </tr>\n",
       "  </tbody>\n",
       "</table>\n",
       "</div>"
      ],
      "text/plain": [
       "          username                date  retweets  favorites  \\\n",
       "5167          RERB 2016-08-20 00:15:00      1100        286   \n",
       "630   Ligne11_RATP 2016-04-01 07:54:00       667        410   \n",
       "1157   Ligne2_RATP 2016-04-01 07:51:00       470        258   \n",
       "107          RER_A 2017-10-05 17:52:00       429        145   \n",
       "328    Ligne4_RATP 2017-08-01 15:10:00       366        192   \n",
       "\n",
       "                                                                                                                                                                                                       text  \\\n",
       "5167                                                                                                                                                Alerte enlèvement 19.08.2016 pic.twitter.com/Glqtxno04Q   \n",
       "630   Ds une volonté de modernisation, la #RATP modifie le nom de la station Télégraphe en #Tweet http://www. ratp.fr/fr/ratp/v_1490 39/metro-rer-la-ratp-renomme-13-stations/ … pic.twitter.com/W3x8Np6pR9   \n",
       "1157                              2 ǝuƃıl ǝɹʇoʌ ɹns sɹǝʌuɐ uoıʇɐʇs ɐl ǝp ıpǝɹpuǝʌ ǝɔ uoıʇɐɹnƃnɐuı http://www. ratp.fr/fr/ratp/v_1490 39/metro-rer-la-ratp-renomme-13-stations/ … pic.twitter.com/ekm1oychl4   \n",
       "107                                                          1 incident électriqueque au niveau de la caténaire s'est produit à La Défense, bruyant, ms ss danger pour les voyageurs. Trafic perturbé #RERA   \n",
       "328                                     La station Château Rouge rouvre aujourd'hui avec une salle d'accueil + spacieuse, un nouvel accès... ! #Ligne4 http:// ow.ly/XQnv30e4FPy pic.twitter.com/DrcL2GM9K7   \n",
       "\n",
       "      geo mentions      hashtags            id  \\\n",
       "5167  NaN      NaN           NaN  7.667604e+17   \n",
       "630   NaN      NaN  #RATP #Tweet  7.157795e+17   \n",
       "1157  NaN      NaN           NaN  7.157786e+17   \n",
       "107   NaN      NaN         #RERA  9.159679e+17   \n",
       "328   NaN      NaN       #Ligne4  8.923720e+17   \n",
       "\n",
       "                                                       permalink    date_new  \\\n",
       "5167          https://twitter.com/RERB/status/766760426562519040  2016-08-20   \n",
       "630   https://twitter.com/Ligne11_RATP/status/715779457173364737  2016-04-01   \n",
       "1157   https://twitter.com/Ligne2_RATP/status/715778636557783040  2016-04-01   \n",
       "107          https://twitter.com/RER_A/status/915967946899562500  2017-10-05   \n",
       "328    https://twitter.com/Ligne4_RATP/status/892371982330851329  2017-08-01   \n",
       "\n",
       "      hour  \n",
       "5167     0  \n",
       "630      7  \n",
       "1157     7  \n",
       "107     17  \n",
       "328     15  "
      ]
     },
     "execution_count": 25,
     "metadata": {},
     "output_type": "execute_result"
    }
   ],
   "source": [
    "df_consol['hour'] = df_consol.date.apply(lambda x: x.hour)\n",
    "df_consol.groupby(['hour','username']).size().to_csv('date_hour.csv')\n",
    "df_consol.sort_values(by='retweets',ascending = False).head()"
   ]
  },
  {
   "cell_type": "markdown",
   "metadata": {},
   "source": [
    "## Export Tweets Number, Incident Reason, and Ligne/RER"
   ]
  },
  {
   "cell_type": "code",
   "execution_count": 26,
   "metadata": {
    "scrolled": true
   },
   "outputs": [
    {
     "name": "stdout",
     "output_type": "stream",
     "text": [
      "RER_A \n",
      "\n",
      "RER_B \n",
      "\n",
      "RER_C \n",
      "\n",
      "RER_D \n",
      "\n",
      "RER_E \n",
      "\n",
      "Ligne1_RATP \n",
      "\n",
      "Ligne2_RATP \n",
      "\n",
      "Ligne3_RATP \n",
      "\n",
      "Ligne4_RATP \n",
      "\n",
      "Ligne5_RATP \n",
      "\n",
      "Ligne6_RATP \n",
      "\n",
      "Ligne7_RATP \n",
      "\n",
      "Ligne8_RATP \n",
      "\n",
      "Ligne9_RATP \n",
      "\n",
      "Ligne10_RATP \n",
      "\n",
      "Ligne11_RATP \n",
      "\n",
      "Ligne12_RATP \n",
      "\n",
      "Ligne13_RATP \n",
      "\n",
      "Ligne14_RATP \n",
      "\n"
     ]
    },
    {
     "data": {
      "text/html": [
       "<div>\n",
       "<style>\n",
       "    .dataframe thead tr:only-child th {\n",
       "        text-align: right;\n",
       "    }\n",
       "\n",
       "    .dataframe thead th {\n",
       "        text-align: left;\n",
       "    }\n",
       "\n",
       "    .dataframe tbody tr th {\n",
       "        vertical-align: top;\n",
       "    }\n",
       "</style>\n",
       "<table border=\"1\" class=\"dataframe\">\n",
       "  <thead>\n",
       "    <tr style=\"text-align: right;\">\n",
       "      <th></th>\n",
       "      <th>0</th>\n",
       "      <th>1</th>\n",
       "      <th>username</th>\n",
       "    </tr>\n",
       "  </thead>\n",
       "  <tbody>\n",
       "    <tr>\n",
       "      <th>0</th>\n",
       "      <td>colis suspect</td>\n",
       "      <td>1171</td>\n",
       "      <td>RER_A</td>\n",
       "    </tr>\n",
       "    <tr>\n",
       "      <th>0</th>\n",
       "      <td>colis suspect</td>\n",
       "      <td>699</td>\n",
       "      <td>Ligne4_RATP</td>\n",
       "    </tr>\n",
       "    <tr>\n",
       "      <th>0</th>\n",
       "      <td>colis suspect</td>\n",
       "      <td>676</td>\n",
       "      <td>RER_B</td>\n",
       "    </tr>\n",
       "    <tr>\n",
       "      <th>0</th>\n",
       "      <td>incident technique</td>\n",
       "      <td>476</td>\n",
       "      <td>Ligne1_RATP</td>\n",
       "    </tr>\n",
       "    <tr>\n",
       "      <th>1</th>\n",
       "      <td>malaise voyageur</td>\n",
       "      <td>471</td>\n",
       "      <td>RER_A</td>\n",
       "    </tr>\n",
       "  </tbody>\n",
       "</table>\n",
       "</div>"
      ],
      "text/plain": [
       "                    0     1     username\n",
       "0       colis suspect  1171        RER_A\n",
       "0       colis suspect   699  Ligne4_RATP\n",
       "0       colis suspect   676        RER_B\n",
       "0  incident technique   476  Ligne1_RATP\n",
       "1    malaise voyageur   471        RER_A"
      ]
     },
     "execution_count": 26,
     "metadata": {},
     "output_type": "execute_result"
    }
   ],
   "source": [
    "df_incident = pd.DataFrame()\n",
    "#.from_dict(incidient_reason(line_dict['RER_C']).most_common())\n",
    "for k, v in line_dict.items():\n",
    "    print(k,'\\n')\n",
    "    df_inter = pd.DataFrame.from_dict(incidient_reason(v).most_common())\n",
    "    df_inter['username'] = k\n",
    "    df_incident = pd.concat([df_incident, df_inter])\n",
    "df_incident.sort_values(by=1, ascending = False).head()"
   ]
  },
  {
   "cell_type": "markdown",
   "metadata": {},
   "source": [
    "## Then we find out that a few incidents should be classified in a same group"
   ]
  },
  {
   "cell_type": "code",
   "execution_count": 27,
   "metadata": {
    "collapsed": true
   },
   "outputs": [],
   "source": [
    "df_incident['group'] = df_incident.iloc[:,0]\n",
    "rep = {'bagage oublié':'bagage abandonné', 'colis suspect':'bagage abandonné',\n",
    "       'voyageur malade':'malaise voyageur',\n",
    "       'pb signalisation':'panne de signalisation', 'jets de pierre':'acte de malveillance',\n",
    "       'jets de pierre':'acte de malveillance','jet de projectile':'acte de malveillance'}\n",
    "df_incident.group = df_incident.group.replace(rep)\n",
    "df_incident.loc[df_incident[0].str.contains('bagage', na=False)].head()\n",
    "df_incident.to_csv('df_incident.csv')"
   ]
  },
  {
   "cell_type": "markdown",
   "metadata": {},
   "source": [
    "# Build a table for Machie Learning Algorithm\n",
    "\n",
    "1. Import temperature data.\n",
    "2. Import French holidays data."
   ]
  },
  {
   "cell_type": "code",
   "execution_count": 28,
   "metadata": {},
   "outputs": [
    {
     "data": {
      "text/html": [
       "<div>\n",
       "<style>\n",
       "    .dataframe thead tr:only-child th {\n",
       "        text-align: right;\n",
       "    }\n",
       "\n",
       "    .dataframe thead th {\n",
       "        text-align: left;\n",
       "    }\n",
       "\n",
       "    .dataframe tbody tr th {\n",
       "        vertical-align: top;\n",
       "    }\n",
       "</style>\n",
       "<table border=\"1\" class=\"dataframe\">\n",
       "  <thead>\n",
       "    <tr style=\"text-align: right;\">\n",
       "      <th></th>\n",
       "      <th>Date</th>\n",
       "      <th>T_avg</th>\n",
       "      <th>V_avg</th>\n",
       "      <th>W_avg</th>\n",
       "      <th>rain</th>\n",
       "      <th>fog</th>\n",
       "      <th>snow</th>\n",
       "      <th>Thunderstorms</th>\n",
       "    </tr>\n",
       "  </thead>\n",
       "  <tbody>\n",
       "    <tr>\n",
       "      <th>0</th>\n",
       "      <td>2012/1/1</td>\n",
       "      <td>13</td>\n",
       "      <td>10</td>\n",
       "      <td>19</td>\n",
       "      <td>1</td>\n",
       "      <td>0</td>\n",
       "      <td>1</td>\n",
       "      <td>0</td>\n",
       "    </tr>\n",
       "    <tr>\n",
       "      <th>1</th>\n",
       "      <td>2012/1/2</td>\n",
       "      <td>8</td>\n",
       "      <td>9</td>\n",
       "      <td>18</td>\n",
       "      <td>1</td>\n",
       "      <td>1</td>\n",
       "      <td>0</td>\n",
       "      <td>0</td>\n",
       "    </tr>\n",
       "    <tr>\n",
       "      <th>2</th>\n",
       "      <td>2012/1/3</td>\n",
       "      <td>9</td>\n",
       "      <td>10</td>\n",
       "      <td>24</td>\n",
       "      <td>1</td>\n",
       "      <td>0</td>\n",
       "      <td>0</td>\n",
       "      <td>0</td>\n",
       "    </tr>\n",
       "    <tr>\n",
       "      <th>3</th>\n",
       "      <td>2012/1/4</td>\n",
       "      <td>8</td>\n",
       "      <td>10</td>\n",
       "      <td>19</td>\n",
       "      <td>0</td>\n",
       "      <td>0</td>\n",
       "      <td>0</td>\n",
       "      <td>0</td>\n",
       "    </tr>\n",
       "    <tr>\n",
       "      <th>4</th>\n",
       "      <td>2012/1/5</td>\n",
       "      <td>10</td>\n",
       "      <td>9</td>\n",
       "      <td>32</td>\n",
       "      <td>1</td>\n",
       "      <td>0</td>\n",
       "      <td>0</td>\n",
       "      <td>0</td>\n",
       "    </tr>\n",
       "  </tbody>\n",
       "</table>\n",
       "</div>"
      ],
      "text/plain": [
       "       Date T_avg V_avg W_avg  rain  fog  snow  Thunderstorms\n",
       "0  2012/1/1    13    10    19     1    0     1              0\n",
       "1  2012/1/2     8     9    18     1    1     0              0\n",
       "2  2012/1/3     9    10    24     1    0     0              0\n",
       "3  2012/1/4     8    10    19     0    0     0              0\n",
       "4  2012/1/5    10     9    32     1    0     0              0"
      ]
     },
     "execution_count": 28,
     "metadata": {},
     "output_type": "execute_result"
    }
   ],
   "source": [
    "df_temp = pd.read_csv('data/temperature.csv')\n",
    "df_temp.head()\n",
    "fil = ['Date','T_avg','V_avg','W_avg', 'rain','fog','snow','Thunderstorms']\n",
    "df_temp_fil = df_temp[fil]\n",
    "df_temp_fil.head()"
   ]
  },
  {
   "cell_type": "code",
   "execution_count": 64,
   "metadata": {
    "collapsed": true
   },
   "outputs": [],
   "source": [
    "# build another conslidated dataframe, and forecast the reason\n",
    "def df_class(input):\n",
    "    incidents = ['malaise voyageur',\"incident d'exploitation\",\"incident technique\",\n",
    "                 'Incident de signalisation',\n",
    "                \"colis suspect\", \"voyageur malade\", \"incident voyageur\", \n",
    "                \"divers incidents\",'panne de signalisation','panne de matériel',\n",
    "                'panne électrique','panne mécanique','panne de caténaire',\n",
    "                \"panne d'aiguillage\",'panne matériel','panne éléctrique', \n",
    "                'panne sur un train','pannes de signalisation',\"panne d'un train\",\n",
    "                \"panne de train\",'obstacle sur la voie', 'bagage abandonné','incident de passage', \n",
    "                 'accident de personne','feu aux abords','pb signalisation','acte de malveillance',\n",
    "                 'jets de pierre','obstacle sur la voie','bagage oublié',\n",
    "                 'personnes sur les voies','branche tombée','jet de projectile',\n",
    "                'grave de voyageur','animal sur la voie','défaut électrique',\n",
    "                 'fin tardive de chantier',\"Défaut d'alimentation électrique\"]\n",
    "    # clean data\n",
    "    input = df_consol\n",
    "    output = clean_data(input)          \n",
    "    output = input[input.text.str.contains('|'.join(incidents),na=False)]\n",
    "    filt = \"(malaise voyageur|incident d'exploitation|incident technique|Incident de signalisation|colis suspect|voyageur malade|incident voyageur|divers incidents|panne de signalisation|panne de matériel|panne électrique|panne mécanique|panne de caténaire|panne d'aiguillage|panne matériel|panne éléctrique|panne sur un train|pannes de signalisation|panne d'un train|panne de train|obstacle sur la voie|bagage abandonné|incident de passage|accident de personne|feu aux abords|pb signalisation|acte de malveillance|jets de pierre|obstacle sur la voie|bagage oublié|personnes sur les voies|branche tombée|jet de projectile|grave de voyageur|animal sur la voie|défaut électrique|fin tardive de chantier|Défaut d'alimentation électrique)\"\n",
    "    output['reason'] = output.text.str.extract(filt)\n",
    "    filt2 = ['username','date_new','reason']\n",
    "    output = output[filt2]\n",
    "    output.date_new = pd.to_datetime(output.date_new)\n",
    "    df_temp_fil.Date = pd.to_datetime(df_temp_fil.Date)\n",
    "    output = output.merge(right=df_temp_fil, how='inner', left_on='date_new', right_on='Date')\n",
    "    output['Quarter'] = output.date_new.apply(lambda x: pd.to_datetime(x).quarter)\n",
    "    output['Month'] = output.date_new.apply(lambda x: pd.to_datetime(x).day)\n",
    "    output['Year'] = output.date_new.apply(lambda x: pd.to_datetime(x).year)\n",
    "    output = output.drop(['date_new','Date'], axis=1)\n",
    "    rep = {'bagage oublié':'bagage abandonné', 'colis suspect':'bagage abandonné',\n",
    "       'voyageur malade':'malaise voyageur',  \"Défaut d'alimentation électrique\":'panne électrique',\n",
    "        \"panne d'un train\":'panne de train','grave de voyageur':'incident voyageur',\n",
    "           'Incident de signalisation':'pannes de signalisation',\n",
    "           'panne de matériel':'panne matériel',\n",
    "           'panne sur un train':'panne de train',\n",
    "           'pb signalisation':'panne de signalisation', 'jets de pierre':'acte de malveillance',\n",
    "       'jets de pierre':'acte de malveillance','jet de projectile':'acte de malveillance',\n",
    "          'accident de personne':'incident voyageur','malaise voyageur':'incident voyageur',\n",
    "           'pannes de signalisation':'panne de signalisation'}\n",
    "    output.reason = output.reason.replace(rep)    \n",
    "    output = output[output.T_avg != '-']\n",
    "    output = output[output.V_avg != '-']   \n",
    "    return output\n"
   ]
  },
  {
   "cell_type": "markdown",
   "metadata": {},
   "source": [
    "### Remember that we built a consolidated before, let's review this dataframe. "
   ]
  },
  {
   "cell_type": "code",
   "execution_count": 58,
   "metadata": {},
   "outputs": [
    {
     "data": {
      "text/html": [
       "<div>\n",
       "<style>\n",
       "    .dataframe thead tr:only-child th {\n",
       "        text-align: right;\n",
       "    }\n",
       "\n",
       "    .dataframe thead th {\n",
       "        text-align: left;\n",
       "    }\n",
       "\n",
       "    .dataframe tbody tr th {\n",
       "        vertical-align: top;\n",
       "    }\n",
       "</style>\n",
       "<table border=\"1\" class=\"dataframe\">\n",
       "  <thead>\n",
       "    <tr style=\"text-align: right;\">\n",
       "      <th></th>\n",
       "      <th>username</th>\n",
       "      <th>date</th>\n",
       "      <th>retweets</th>\n",
       "      <th>favorites</th>\n",
       "      <th>text</th>\n",
       "      <th>geo</th>\n",
       "      <th>mentions</th>\n",
       "      <th>hashtags</th>\n",
       "      <th>id</th>\n",
       "      <th>permalink</th>\n",
       "      <th>date_new</th>\n",
       "      <th>hour</th>\n",
       "    </tr>\n",
       "  </thead>\n",
       "  <tbody>\n",
       "    <tr>\n",
       "      <th>5754</th>\n",
       "      <td>Ligne6_RATP</td>\n",
       "      <td>2014-01-01 03:09:00</td>\n",
       "      <td>1</td>\n",
       "      <td>0</td>\n",
       "      <td>Fin de la manifestation impactant la ligne #Ligne6 .</td>\n",
       "      <td>NaN</td>\n",
       "      <td>NaN</td>\n",
       "      <td>#Ligne6</td>\n",
       "      <td>4.182022e+17</td>\n",
       "      <td>https://twitter.com/Ligne6_RATP/status/418202249354289152</td>\n",
       "      <td>2014-01-01</td>\n",
       "      <td>3</td>\n",
       "    </tr>\n",
       "    <tr>\n",
       "      <th>4606</th>\n",
       "      <td>Ligne9_RATP</td>\n",
       "      <td>2014-01-01 03:09:00</td>\n",
       "      <td>0</td>\n",
       "      <td>0</td>\n",
       "      <td>03:09, Le trafic est de nouveau normal sur l'ensemble de la ligne #Ligne9 . #RATP</td>\n",
       "      <td>NaN</td>\n",
       "      <td>NaN</td>\n",
       "      <td>#Ligne9 #RATP</td>\n",
       "      <td>4.182023e+17</td>\n",
       "      <td>https://twitter.com/Ligne9_RATP/status/418202256325238784</td>\n",
       "      <td>2014-01-01</td>\n",
       "      <td>3</td>\n",
       "    </tr>\n",
       "    <tr>\n",
       "      <th>4605</th>\n",
       "      <td>Ligne9_RATP</td>\n",
       "      <td>2014-01-01 03:09:00</td>\n",
       "      <td>0</td>\n",
       "      <td>0</td>\n",
       "      <td>Fin de la manifestation impactant la ligne #Ligne9 .</td>\n",
       "      <td>NaN</td>\n",
       "      <td>NaN</td>\n",
       "      <td>#Ligne9</td>\n",
       "      <td>4.182023e+17</td>\n",
       "      <td>https://twitter.com/Ligne9_RATP/status/418202266920050688</td>\n",
       "      <td>2014-01-01</td>\n",
       "      <td>3</td>\n",
       "    </tr>\n",
       "    <tr>\n",
       "      <th>5049</th>\n",
       "      <td>Ligne8_RATP</td>\n",
       "      <td>2014-01-01 06:52:00</td>\n",
       "      <td>1</td>\n",
       "      <td>0</td>\n",
       "      <td>06:49, le trafic est interrompu entre Maisons-Alfort-Les Juilliottes et Pointe du Lac (voyageur sur la voie) #RATP #Ligne8</td>\n",
       "      <td>NaN</td>\n",
       "      <td>NaN</td>\n",
       "      <td>#RATP #Ligne8</td>\n",
       "      <td>4.182584e+17</td>\n",
       "      <td>https://twitter.com/Ligne8_RATP/status/418258368995024897</td>\n",
       "      <td>2014-01-01</td>\n",
       "      <td>6</td>\n",
       "    </tr>\n",
       "    <tr>\n",
       "      <th>5048</th>\n",
       "      <td>Ligne8_RATP</td>\n",
       "      <td>2014-01-01 07:07:00</td>\n",
       "      <td>0</td>\n",
       "      <td>0</td>\n",
       "      <td>07:05, le trafic reprend progressivement sur la ligne (voyageur sur la voie) #RATP #Ligne8</td>\n",
       "      <td>NaN</td>\n",
       "      <td>NaN</td>\n",
       "      <td>#RATP #Ligne8</td>\n",
       "      <td>4.182621e+17</td>\n",
       "      <td>https://twitter.com/Ligne8_RATP/status/418262143814090752</td>\n",
       "      <td>2014-01-01</td>\n",
       "      <td>7</td>\n",
       "    </tr>\n",
       "  </tbody>\n",
       "</table>\n",
       "</div>"
      ],
      "text/plain": [
       "         username                date  retweets  favorites  \\\n",
       "5754  Ligne6_RATP 2014-01-01 03:09:00         1          0   \n",
       "4606  Ligne9_RATP 2014-01-01 03:09:00         0          0   \n",
       "4605  Ligne9_RATP 2014-01-01 03:09:00         0          0   \n",
       "5049  Ligne8_RATP 2014-01-01 06:52:00         1          0   \n",
       "5048  Ligne8_RATP 2014-01-01 07:07:00         0          0   \n",
       "\n",
       "                                                                                                                            text  \\\n",
       "5754                                                                        Fin de la manifestation impactant la ligne #Ligne6 .   \n",
       "4606                                           03:09, Le trafic est de nouveau normal sur l'ensemble de la ligne #Ligne9 . #RATP   \n",
       "4605                                                                        Fin de la manifestation impactant la ligne #Ligne9 .   \n",
       "5049  06:49, le trafic est interrompu entre Maisons-Alfort-Les Juilliottes et Pointe du Lac (voyageur sur la voie) #RATP #Ligne8   \n",
       "5048                                  07:05, le trafic reprend progressivement sur la ligne (voyageur sur la voie) #RATP #Ligne8   \n",
       "\n",
       "      geo mentions       hashtags            id  \\\n",
       "5754  NaN      NaN        #Ligne6  4.182022e+17   \n",
       "4606  NaN      NaN  #Ligne9 #RATP  4.182023e+17   \n",
       "4605  NaN      NaN        #Ligne9  4.182023e+17   \n",
       "5049  NaN      NaN  #RATP #Ligne8  4.182584e+17   \n",
       "5048  NaN      NaN  #RATP #Ligne8  4.182621e+17   \n",
       "\n",
       "                                                      permalink    date_new  \\\n",
       "5754  https://twitter.com/Ligne6_RATP/status/418202249354289152  2014-01-01   \n",
       "4606  https://twitter.com/Ligne9_RATP/status/418202256325238784  2014-01-01   \n",
       "4605  https://twitter.com/Ligne9_RATP/status/418202266920050688  2014-01-01   \n",
       "5049  https://twitter.com/Ligne8_RATP/status/418258368995024897  2014-01-01   \n",
       "5048  https://twitter.com/Ligne8_RATP/status/418262143814090752  2014-01-01   \n",
       "\n",
       "      hour  \n",
       "5754     3  \n",
       "4606     3  \n",
       "4605     3  \n",
       "5049     6  \n",
       "5048     7  "
      ]
     },
     "execution_count": 58,
     "metadata": {},
     "output_type": "execute_result"
    }
   ],
   "source": [
    "df_consol.head()"
   ]
  },
  {
   "cell_type": "code",
   "execution_count": 55,
   "metadata": {},
   "outputs": [
    {
     "name": "stderr",
     "output_type": "stream",
     "text": [
      "D:\\Users\\ThinkPad\\Anaconda3\\lib\\site-packages\\ipykernel_launcher.py:19: FutureWarning: currently extract(expand=None) means expand=False (return Index/Series/DataFrame) but in a future version of pandas this will be changed to expand=True (return DataFrame)\n",
      "D:\\Users\\ThinkPad\\Anaconda3\\lib\\site-packages\\ipykernel_launcher.py:19: SettingWithCopyWarning: \n",
      "A value is trying to be set on a copy of a slice from a DataFrame.\n",
      "Try using .loc[row_indexer,col_indexer] = value instead\n",
      "\n",
      "See the caveats in the documentation: http://pandas.pydata.org/pandas-docs/stable/indexing.html#indexing-view-versus-copy\n",
      "D:\\Users\\ThinkPad\\Anaconda3\\lib\\site-packages\\pandas\\core\\generic.py:2999: SettingWithCopyWarning: \n",
      "A value is trying to be set on a copy of a slice from a DataFrame.\n",
      "Try using .loc[row_indexer,col_indexer] = value instead\n",
      "\n",
      "See the caveats in the documentation: http://pandas.pydata.org/pandas-docs/stable/indexing.html#indexing-view-versus-copy\n",
      "  self[name] = value\n"
     ]
    }
   ],
   "source": []
  },
  {
   "cell_type": "code",
   "execution_count": 39,
   "metadata": {
    "collapsed": true
   },
   "outputs": [],
   "source": [
    "#merge data\n",
    "output.date_new = pd.to_datetime(output.date_new)\n",
    "output = output.merge(right=df_temp_fil, how='inner', left_on='date_new', right_on='Date')\n",
    "\n",
    "\n"
   ]
  },
  {
   "cell_type": "code",
   "execution_count": 35,
   "metadata": {},
   "outputs": [
    {
     "data": {
      "text/html": [
       "<div>\n",
       "<style>\n",
       "    .dataframe thead tr:only-child th {\n",
       "        text-align: right;\n",
       "    }\n",
       "\n",
       "    .dataframe thead th {\n",
       "        text-align: left;\n",
       "    }\n",
       "\n",
       "    .dataframe tbody tr th {\n",
       "        vertical-align: top;\n",
       "    }\n",
       "</style>\n",
       "<table border=\"1\" class=\"dataframe\">\n",
       "  <thead>\n",
       "    <tr style=\"text-align: right;\">\n",
       "      <th></th>\n",
       "      <th>username</th>\n",
       "      <th>reason</th>\n",
       "      <th>T_avg</th>\n",
       "      <th>V_avg</th>\n",
       "      <th>W_avg</th>\n",
       "      <th>rain</th>\n",
       "      <th>fog</th>\n",
       "      <th>snow</th>\n",
       "      <th>Thunderstorms</th>\n",
       "      <th>Quarter</th>\n",
       "      <th>Month</th>\n",
       "      <th>Year</th>\n",
       "    </tr>\n",
       "  </thead>\n",
       "  <tbody>\n",
       "  </tbody>\n",
       "</table>\n",
       "</div>"
      ],
      "text/plain": [
       "Empty DataFrame\n",
       "Columns: [username, reason, T_avg, V_avg, W_avg, rain, fog, snow, Thunderstorms, Quarter, Month, Year]\n",
       "Index: []"
      ]
     },
     "execution_count": 35,
     "metadata": {},
     "output_type": "execute_result"
    }
   ],
   "source": []
  },
  {
   "cell_type": "markdown",
   "metadata": {},
   "source": [
    "## Split the dataset into X_train, X_test, y_train, y_test"
   ]
  },
  {
   "cell_type": "code",
   "execution_count": 65,
   "metadata": {},
   "outputs": [
    {
     "name": "stderr",
     "output_type": "stream",
     "text": [
      "D:\\Users\\ThinkPad\\Anaconda3\\lib\\site-packages\\ipykernel_launcher.py:21: FutureWarning: currently extract(expand=None) means expand=False (return Index/Series/DataFrame) but in a future version of pandas this will be changed to expand=True (return DataFrame)\n",
      "D:\\Users\\ThinkPad\\Anaconda3\\lib\\site-packages\\ipykernel_launcher.py:21: SettingWithCopyWarning: \n",
      "A value is trying to be set on a copy of a slice from a DataFrame.\n",
      "Try using .loc[row_indexer,col_indexer] = value instead\n",
      "\n",
      "See the caveats in the documentation: http://pandas.pydata.org/pandas-docs/stable/indexing.html#indexing-view-versus-copy\n",
      "D:\\Users\\ThinkPad\\Anaconda3\\lib\\site-packages\\pandas\\core\\generic.py:2999: SettingWithCopyWarning: \n",
      "A value is trying to be set on a copy of a slice from a DataFrame.\n",
      "Try using .loc[row_indexer,col_indexer] = value instead\n",
      "\n",
      "See the caveats in the documentation: http://pandas.pydata.org/pandas-docs/stable/indexing.html#indexing-view-versus-copy\n",
      "  self[name] = value\n"
     ]
    }
   ],
   "source": [
    "# let's run classification\n",
    "from sklearn.model_selection import train_test_split\n",
    "X = df_class(df_consol).drop('reason', axis=1)"
   ]
  },
  {
   "cell_type": "markdown",
   "metadata": {},
   "source": [
    "## Check X data"
   ]
  },
  {
   "cell_type": "code",
   "execution_count": 66,
   "metadata": {},
   "outputs": [
    {
     "data": {
      "text/html": [
       "<div>\n",
       "<style>\n",
       "    .dataframe thead tr:only-child th {\n",
       "        text-align: right;\n",
       "    }\n",
       "\n",
       "    .dataframe thead th {\n",
       "        text-align: left;\n",
       "    }\n",
       "\n",
       "    .dataframe tbody tr th {\n",
       "        vertical-align: top;\n",
       "    }\n",
       "</style>\n",
       "<table border=\"1\" class=\"dataframe\">\n",
       "  <thead>\n",
       "    <tr style=\"text-align: right;\">\n",
       "      <th></th>\n",
       "      <th>username</th>\n",
       "      <th>T_avg</th>\n",
       "      <th>V_avg</th>\n",
       "      <th>W_avg</th>\n",
       "      <th>rain</th>\n",
       "      <th>fog</th>\n",
       "      <th>snow</th>\n",
       "      <th>Thunderstorms</th>\n",
       "      <th>Quarter</th>\n",
       "      <th>Month</th>\n",
       "      <th>Year</th>\n",
       "    </tr>\n",
       "  </thead>\n",
       "  <tbody>\n",
       "    <tr>\n",
       "      <th>0</th>\n",
       "      <td>Ligne9_RATP</td>\n",
       "      <td>8</td>\n",
       "      <td>10</td>\n",
       "      <td>21</td>\n",
       "      <td>1</td>\n",
       "      <td>0</td>\n",
       "      <td>0</td>\n",
       "      <td>0</td>\n",
       "      <td>1</td>\n",
       "      <td>1</td>\n",
       "      <td>2014</td>\n",
       "    </tr>\n",
       "    <tr>\n",
       "      <th>1</th>\n",
       "      <td>Ligne9_RATP</td>\n",
       "      <td>8</td>\n",
       "      <td>10</td>\n",
       "      <td>21</td>\n",
       "      <td>1</td>\n",
       "      <td>0</td>\n",
       "      <td>0</td>\n",
       "      <td>0</td>\n",
       "      <td>1</td>\n",
       "      <td>1</td>\n",
       "      <td>2014</td>\n",
       "    </tr>\n",
       "    <tr>\n",
       "      <th>2</th>\n",
       "      <td>RER_A</td>\n",
       "      <td>10</td>\n",
       "      <td>10</td>\n",
       "      <td>27</td>\n",
       "      <td>1</td>\n",
       "      <td>0</td>\n",
       "      <td>0</td>\n",
       "      <td>0</td>\n",
       "      <td>1</td>\n",
       "      <td>2</td>\n",
       "      <td>2014</td>\n",
       "    </tr>\n",
       "    <tr>\n",
       "      <th>3</th>\n",
       "      <td>RERB</td>\n",
       "      <td>10</td>\n",
       "      <td>10</td>\n",
       "      <td>27</td>\n",
       "      <td>1</td>\n",
       "      <td>0</td>\n",
       "      <td>0</td>\n",
       "      <td>0</td>\n",
       "      <td>1</td>\n",
       "      <td>2</td>\n",
       "      <td>2014</td>\n",
       "    </tr>\n",
       "    <tr>\n",
       "      <th>4</th>\n",
       "      <td>RERB</td>\n",
       "      <td>10</td>\n",
       "      <td>10</td>\n",
       "      <td>27</td>\n",
       "      <td>1</td>\n",
       "      <td>0</td>\n",
       "      <td>0</td>\n",
       "      <td>0</td>\n",
       "      <td>1</td>\n",
       "      <td>2</td>\n",
       "      <td>2014</td>\n",
       "    </tr>\n",
       "  </tbody>\n",
       "</table>\n",
       "</div>"
      ],
      "text/plain": [
       "      username T_avg V_avg W_avg  rain  fog  snow  Thunderstorms  Quarter  \\\n",
       "0  Ligne9_RATP     8    10    21     1    0     0              0        1   \n",
       "1  Ligne9_RATP     8    10    21     1    0     0              0        1   \n",
       "2        RER_A    10    10    27     1    0     0              0        1   \n",
       "3         RERB    10    10    27     1    0     0              0        1   \n",
       "4         RERB    10    10    27     1    0     0              0        1   \n",
       "\n",
       "   Month  Year  \n",
       "0      1  2014  \n",
       "1      1  2014  \n",
       "2      2  2014  \n",
       "3      2  2014  \n",
       "4      2  2014  "
      ]
     },
     "execution_count": 66,
     "metadata": {},
     "output_type": "execute_result"
    }
   ],
   "source": [
    "X.head()"
   ]
  },
  {
   "cell_type": "code",
   "execution_count": 67,
   "metadata": {},
   "outputs": [
    {
     "name": "stderr",
     "output_type": "stream",
     "text": [
      "D:\\Users\\ThinkPad\\Anaconda3\\lib\\site-packages\\ipykernel_launcher.py:21: FutureWarning: currently extract(expand=None) means expand=False (return Index/Series/DataFrame) but in a future version of pandas this will be changed to expand=True (return DataFrame)\n",
      "D:\\Users\\ThinkPad\\Anaconda3\\lib\\site-packages\\ipykernel_launcher.py:21: SettingWithCopyWarning: \n",
      "A value is trying to be set on a copy of a slice from a DataFrame.\n",
      "Try using .loc[row_indexer,col_indexer] = value instead\n",
      "\n",
      "See the caveats in the documentation: http://pandas.pydata.org/pandas-docs/stable/indexing.html#indexing-view-versus-copy\n",
      "D:\\Users\\ThinkPad\\Anaconda3\\lib\\site-packages\\pandas\\core\\generic.py:2999: SettingWithCopyWarning: \n",
      "A value is trying to be set on a copy of a slice from a DataFrame.\n",
      "Try using .loc[row_indexer,col_indexer] = value instead\n",
      "\n",
      "See the caveats in the documentation: http://pandas.pydata.org/pandas-docs/stable/indexing.html#indexing-view-versus-copy\n",
      "  self[name] = value\n"
     ]
    }
   ],
   "source": [
    "X.T_avg = pd.to_numeric(X.T_avg)\n",
    "X.V_avg = pd.to_numeric(X.V_avg)\n",
    "X.W_avg = pd.to_numeric(X.W_avg)\n",
    "X = pd.get_dummies(X)\n",
    "y = df_class(df_consol).reason\n",
    "X_train, X_test, y_train, y_test = train_test_split(X, y, random_state = 0)\n",
    "from sklearn.preprocessing import MinMaxScaler\n",
    "scaler = MinMaxScaler()\n",
    "X_train_scaled = scaler.fit_transform(X_train)\n",
    "X_test_scaled = scaler.transform(X_test)"
   ]
  },
  {
   "cell_type": "markdown",
   "metadata": {},
   "source": [
    "# Run different models\n",
    "\n",
    "1. KNN\n",
    "2. RandomForest\n",
    "3. AdaBoost"
   ]
  },
  {
   "cell_type": "code",
   "execution_count": 79,
   "metadata": {},
   "outputs": [
    {
     "ename": "ValueError",
     "evalue": "multiclass format is not supported",
     "output_type": "error",
     "traceback": [
      "\u001b[1;31m---------------------------------------------------------------------------\u001b[0m",
      "\u001b[1;31mValueError\u001b[0m                                Traceback (most recent call last)",
      "\u001b[1;32m<ipython-input-79-fcfee5ac090d>\u001b[0m in \u001b[0;36m<module>\u001b[1;34m()\u001b[0m\n\u001b[0;32m      4\u001b[0m \u001b[0mknn\u001b[0m\u001b[1;33m.\u001b[0m\u001b[0mfit\u001b[0m\u001b[1;33m(\u001b[0m\u001b[0mX_train_scaled\u001b[0m\u001b[1;33m,\u001b[0m \u001b[0my_train\u001b[0m\u001b[1;33m)\u001b[0m\u001b[1;33m\u001b[0m\u001b[0m\n\u001b[0;32m      5\u001b[0m \u001b[0my_predicted\u001b[0m \u001b[1;33m=\u001b[0m \u001b[0mknn\u001b[0m\u001b[1;33m.\u001b[0m\u001b[0mpredict\u001b[0m\u001b[1;33m(\u001b[0m\u001b[0mX_test_scaled\u001b[0m\u001b[1;33m)\u001b[0m\u001b[1;33m\u001b[0m\u001b[0m\n\u001b[1;32m----> 6\u001b[1;33m \u001b[0mroc_auc_score\u001b[0m\u001b[1;33m(\u001b[0m\u001b[0my_test\u001b[0m\u001b[1;33m,\u001b[0m \u001b[0my_predicted\u001b[0m\u001b[1;33m)\u001b[0m\u001b[1;33m\u001b[0m\u001b[0m\n\u001b[0m",
      "\u001b[1;32mD:\\Users\\ThinkPad\\Anaconda3\\lib\\site-packages\\sklearn\\metrics\\ranking.py\u001b[0m in \u001b[0;36mroc_auc_score\u001b[1;34m(y_true, y_score, average, sample_weight)\u001b[0m\n\u001b[0;32m    258\u001b[0m     return _average_binary_score(\n\u001b[0;32m    259\u001b[0m         \u001b[0m_binary_roc_auc_score\u001b[0m\u001b[1;33m,\u001b[0m \u001b[0my_true\u001b[0m\u001b[1;33m,\u001b[0m \u001b[0my_score\u001b[0m\u001b[1;33m,\u001b[0m \u001b[0maverage\u001b[0m\u001b[1;33m,\u001b[0m\u001b[1;33m\u001b[0m\u001b[0m\n\u001b[1;32m--> 260\u001b[1;33m         sample_weight=sample_weight)\n\u001b[0m\u001b[0;32m    261\u001b[0m \u001b[1;33m\u001b[0m\u001b[0m\n\u001b[0;32m    262\u001b[0m \u001b[1;33m\u001b[0m\u001b[0m\n",
      "\u001b[1;32mD:\\Users\\ThinkPad\\Anaconda3\\lib\\site-packages\\sklearn\\metrics\\base.py\u001b[0m in \u001b[0;36m_average_binary_score\u001b[1;34m(binary_metric, y_true, y_score, average, sample_weight)\u001b[0m\n\u001b[0;32m     79\u001b[0m     \u001b[0my_type\u001b[0m \u001b[1;33m=\u001b[0m \u001b[0mtype_of_target\u001b[0m\u001b[1;33m(\u001b[0m\u001b[0my_true\u001b[0m\u001b[1;33m)\u001b[0m\u001b[1;33m\u001b[0m\u001b[0m\n\u001b[0;32m     80\u001b[0m     \u001b[1;32mif\u001b[0m \u001b[0my_type\u001b[0m \u001b[1;32mnot\u001b[0m \u001b[1;32min\u001b[0m \u001b[1;33m(\u001b[0m\u001b[1;34m\"binary\"\u001b[0m\u001b[1;33m,\u001b[0m \u001b[1;34m\"multilabel-indicator\"\u001b[0m\u001b[1;33m)\u001b[0m\u001b[1;33m:\u001b[0m\u001b[1;33m\u001b[0m\u001b[0m\n\u001b[1;32m---> 81\u001b[1;33m         \u001b[1;32mraise\u001b[0m \u001b[0mValueError\u001b[0m\u001b[1;33m(\u001b[0m\u001b[1;34m\"{0} format is not supported\"\u001b[0m\u001b[1;33m.\u001b[0m\u001b[0mformat\u001b[0m\u001b[1;33m(\u001b[0m\u001b[0my_type\u001b[0m\u001b[1;33m)\u001b[0m\u001b[1;33m)\u001b[0m\u001b[1;33m\u001b[0m\u001b[0m\n\u001b[0m\u001b[0;32m     82\u001b[0m \u001b[1;33m\u001b[0m\u001b[0m\n\u001b[0;32m     83\u001b[0m     \u001b[1;32mif\u001b[0m \u001b[0my_type\u001b[0m \u001b[1;33m==\u001b[0m \u001b[1;34m\"binary\"\u001b[0m\u001b[1;33m:\u001b[0m\u001b[1;33m\u001b[0m\u001b[0m\n",
      "\u001b[1;31mValueError\u001b[0m: multiclass format is not supported"
     ]
    }
   ],
   "source": [
    "from sklearn.model_selection import GridSearchCV\n",
    "from sklearn.neighbors import KNeighborsClassifier\n",
    "knn = KNeighborsClassifier(n_neighbors=10)\n",
    "knn.fit(X_train_scaled, y_train)\n",
    "knn.score(X_test_scaled, y_test)"
   ]
  },
  {
   "cell_type": "code",
   "execution_count": 80,
   "metadata": {},
   "outputs": [
    {
     "data": {
      "text/plain": [
       "array(['panne de signalisation', 'bagage abandonné', 'panne électrique',\n",
       "       ..., 'bagage abandonné', 'bagage abandonné', 'incident technique'], dtype=object)"
      ]
     },
     "execution_count": 80,
     "metadata": {},
     "output_type": "execute_result"
    }
   ],
   "source": [
    "y_predicted"
   ]
  },
  {
   "cell_type": "code",
   "execution_count": 106,
   "metadata": {},
   "outputs": [
    {
     "data": {
      "image/png": "[encoded data removed]",
      "text/plain": [
       "<matplotlib.figure.Figure at 0x15526e10>"
      ]
     },
     "metadata": {},
     "output_type": "display_data"
    },
    {
     "name": "stdout",
     "output_type": "stream",
     "text": [
      "Accuracy is 0.6056046642843709\n",
      "Best parameter is n = 1\n",
      "F1 score is 0.6058051709035043\n"
     ]
    }
   ],
   "source": [
    "import seaborn as sns\n",
    "plt.figure()\n",
    "scores = []\n",
    "for n in range(1,50,20):\n",
    "    knn = KNeighborsClassifier(n_neighbors=n)\n",
    "    knn.fit(X_train_scaled, y_train)\n",
    "    scores.append(knn.score(X_test_scaled, y_test))\n",
    "plt.plot(range(1,50,20), scores)\n",
    "plt.title('KNN Accuracy curve')\n",
    "plt.xlabel('n_neighbors')\n",
    "plt.ylabel('Accuracy')\n",
    "plt.show()  \n",
    "acc_knn = max(scores)\n",
    "n_knn = list(range(1,50,20))[scores.index(max(scores))]\n",
    "\n",
    "# \n",
    "knn = KNeighborsClassifier(n_neighbors=n_knn)\n",
    "knn.fit(X_train_scaled, y_train)\n",
    "y_pred = knn.predict(X_test_scaled)\n",
    "f1_knn = f1_score(y_test, y_pred, average = 'weighted')\n",
    "print('Accuracy is {}'.format(acc_knn))\n",
    "print('Best parameter is n = {}'.format(n_knn))\n",
    "print('F1 score is {}'.format(f1_knn))"
   ]
  },
  {
   "cell_type": "code",
   "execution_count": 102,
   "metadata": {},
   "outputs": [
    {
     "data": {
      "text/plain": [
       "[1, 21, 41]"
      ]
     },
     "execution_count": 102,
     "metadata": {},
     "output_type": "execute_result"
    }
   ],
   "source": [
    "list(range(1,50,20))"
   ]
  },
  {
   "cell_type": "code",
   "execution_count": 82,
   "metadata": {},
   "outputs": [
    {
     "data": {
      "text/plain": [
       "<matplotlib.axes._subplots.AxesSubplot at 0x11d22da0>"
      ]
     },
     "execution_count": 82,
     "metadata": {},
     "output_type": "execute_result"
    },
    {
     "data": {
      "image/png": "[encoded data removed]",
      "text/plain": [
       "<matplotlib.figure.Figure at 0x11ee4cf8>"
      ]
     },
     "metadata": {},
     "output_type": "display_data"
    }
   ],
   "source": [
    "from sklearn.metrics import confusion_matrix\n",
    "y_predicted = knn.predict(X_test_scaled)\n",
    "confusion = confusion_matrix(y_test, y_predicted)\n",
    "import seaborn as sns\n",
    "import matplotlib.pyplot as plt\n",
    "\n",
    "df_cm = pd.DataFrame(confusion)\n",
    "#sns.set(font_scale=1.4)#for label size\n",
    "plt.figure(figsize = (10,7))\n",
    "sns.heatmap(df_cm, cmap=\"YlGnBu\")# font size"
   ]
  },
  {
   "cell_type": "code",
   "execution_count": 109,
   "metadata": {},
   "outputs": [
    {
     "data": {
      "image/png": "[encoded data removed]",
      "text/plain": [
       "<matplotlib.figure.Figure at 0x150b0438>"
      ]
     },
     "metadata": {},
     "output_type": "display_data"
    },
    {
     "name": "stdout",
     "output_type": "stream",
     "text": [
      "Accuracy is 0.6372014293774685\n",
      "Best parameter is n = 121\n",
      "F1 score is 0.6265875031647756\n"
     ]
    },
    {
     "name": "stderr",
     "output_type": "stream",
     "text": [
      "D:\\Users\\ThinkPad\\Anaconda3\\lib\\site-packages\\sklearn\\metrics\\classification.py:1113: UndefinedMetricWarning: F-score is ill-defined and being set to 0.0 in labels with no predicted samples.\n",
      "  'precision', 'predicted', average, warn_for)\n"
     ]
    }
   ],
   "source": [
    "from sklearn.ensemble import RandomForestClassifier\n",
    "from sklearn.metrics import auc, roc_auc_score, accuracy_score, f1_score\n",
    "scores = []\n",
    "for n in range(1,200,20):    \n",
    "    forest = RandomForestClassifier(n_estimators=n)\n",
    "    forest.fit(X_train_scaled, y_train)\n",
    "    y_pred = forest.predict(X_test_scaled)\n",
    "    scores.append(accuracy_score(y_test, y_pred))\n",
    "    #print(score)\n",
    "plt.plot(range(1,200,20), scores)\n",
    "plt.title('Random Forest accuracy curve')\n",
    "plt.xlabel('n_estimators')\n",
    "plt.ylabel('Accuracy score')\n",
    "plt.show()  \n",
    "\n",
    "acc_forest = max(scores)\n",
    "n_forest = list(range(1,200,20))[scores.index(max(scores))]\n",
    "# \n",
    "forest = RandomForestClassifier(n_estimators=n_forest)\n",
    "forest.fit(X_train_scaled, y_train)\n",
    "y_pred = forest.predict(X_test_scaled)\n",
    "f1_forest = f1_score(y_test, y_pred, average = 'weighted')\n",
    "print('Accuracy is {}'.format(acc_forest))\n",
    "print('Best parameter is n = {}'.format(n_forest))\n",
    "print('F1 score is {}'.format(f1_forest))"
   ]
  },
  {
   "cell_type": "code",
   "execution_count": 92,
   "metadata": {},
   "outputs": [
    {
     "data": {
      "text/plain": [
       "<matplotlib.axes._subplots.AxesSubplot at 0x157e7ac8>"
      ]
     },
     "execution_count": 92,
     "metadata": {},
     "output_type": "execute_result"
    },
    {
     "data": {
      "image/png": "[encoded data removed]",
      "text/plain": [
       "<matplotlib.figure.Figure at 0x156dc7f0>"
      ]
     },
     "metadata": {},
     "output_type": "display_data"
    }
   ],
   "source": [
    "from sklearn.metrics import confusion_matrix\n",
    "y_predicted = forest.predict(X_test_scaled)\n",
    "confusion = confusion_matrix(y_test, y_predicted)\n",
    "df_cm = pd.DataFrame(confusion)\n",
    "#sns.set(font_scale=1.4)#for label size\n",
    "plt.figure(figsize = (10,7))\n",
    "sns.heatmap(df_cm)# font size"
   ]
  },
  {
   "cell_type": "code",
   "execution_count": 96,
   "metadata": {},
   "outputs": [
    {
     "data": {
      "text/plain": [
       "0.32781643784088771"
      ]
     },
     "execution_count": 96,
     "metadata": {},
     "output_type": "execute_result"
    }
   ],
   "source": [
    "boost = AdaBoostClassifier()\n",
    "boost.fit(X_train_scaled, y_train)\n",
    "y_pred = boost.predict(X_test_scaled)\n",
    "accuracy_score(y_test, y_pred)"
   ]
  },
  {
   "cell_type": "code",
   "execution_count": 110,
   "metadata": {},
   "outputs": [
    {
     "data": {
      "image/png": "[encoded data removed]",
      "text/plain": [
       "<matplotlib.figure.Figure at 0x15095e48>"
      ]
     },
     "metadata": {},
     "output_type": "display_data"
    },
    {
     "name": "stdout",
     "output_type": "stream",
     "text": [
      "Accuracy is 0.3278164378408877\n",
      "Best parameter is n = 21\n",
      "F1 score is 0.21829487705961162\n"
     ]
    },
    {
     "name": "stderr",
     "output_type": "stream",
     "text": [
      "D:\\Users\\ThinkPad\\Anaconda3\\lib\\site-packages\\sklearn\\metrics\\classification.py:1113: UndefinedMetricWarning: F-score is ill-defined and being set to 0.0 in labels with no predicted samples.\n",
      "  'precision', 'predicted', average, warn_for)\n"
     ]
    }
   ],
   "source": [
    "from sklearn.ensemble import AdaBoostClassifier\n",
    "scores = []\n",
    "for n in range(1,200,20):    \n",
    "    boost = AdaBoostClassifier(n_estimators=n)\n",
    "    boost.fit(X_train_scaled, y_train)\n",
    "    y_pred = boost.predict(X_test_scaled)\n",
    "    scores.append(accuracy_score(y_test, y_pred))\n",
    "    #print(score)\n",
    "plt.plot(range(1,200,20), scores)\n",
    "plt.title('AdaBoost accuracy curve')\n",
    "plt.xlabel('n_estimators')\n",
    "plt.ylabel('Accuracy score')\n",
    "plt.show()  \n",
    "\n",
    "acc_boost = max(scores)\n",
    "n_boost = list(range(1,200,20))[scores.index(max(scores))]\n",
    "# \n",
    "boost = AdaBoostClassifier(n_estimators=n_boost)\n",
    "boost.fit(X_train_scaled, y_train)\n",
    "y_pred = boost.predict(X_test_scaled)\n",
    "f1_boost = f1_score(y_test, y_pred, average = 'weighted')\n",
    "print('Accuracy is {}'.format(acc_boost))\n",
    "print('Best parameter is n = {}'.format(n_boost))\n",
    "print('F1 score is {}'.format(f1_boost))"
   ]
  },
  {
   "cell_type": "code",
   "execution_count": 111,
   "metadata": {},
   "outputs": [
    {
     "name": "stdout",
     "output_type": "stream",
     "text": [
      "Accuracy is 0.6197103629866466\n",
      "F1 score is 0.6163041359918537\n"
     ]
    },
    {
     "name": "stderr",
     "output_type": "stream",
     "text": [
      "D:\\Users\\ThinkPad\\Anaconda3\\lib\\site-packages\\sklearn\\metrics\\classification.py:1113: UndefinedMetricWarning: F-score is ill-defined and being set to 0.0 in labels with no predicted samples.\n",
      "  'precision', 'predicted', average, warn_for)\n"
     ]
    }
   ],
   "source": [
    "from sklearn.tree import DecisionTreeClassifier\n",
    "tree = DecisionTreeClassifier()\n",
    "tree.fit(X_train_scaled, y_train)\n",
    "y_pred = tree.predict(X_test_scaled)\n",
    "acc_tree = accuracy_score(y_test, y_pred)\n",
    "f1_tree = f1_score(y_test, y_pred, average = 'weighted')\n",
    "print('Accuracy is {}'.format(accuracy_score(y_test, y_pred)))\n",
    "print('F1 score is {}'.format(f1_score(y_test, y_pred, average = 'weighted')))"
   ]
  },
  {
   "cell_type": "code",
   "execution_count": 117,
   "metadata": {},
   "outputs": [
    {
     "name": "stderr",
     "output_type": "stream",
     "text": [
      "D:\\Users\\ThinkPad\\Anaconda3\\lib\\site-packages\\sklearn\\metrics\\classification.py:1113: UndefinedMetricWarning: F-score is ill-defined and being set to 0.0 in labels with no predicted samples.\n",
      "  'precision', 'predicted', average, warn_for)\n"
     ]
    }
   ],
   "source": [
    "l_svc = LinearSVC()\n",
    "l_svc.fit(X_train_scaled, y_train)\n",
    "y_pred = l_svc.predict(X_test_scaled)\n",
    "f1_svc = f1_score(y_test, y_pred, average = 'weighted')\n"
   ]
  },
  {
   "cell_type": "code",
   "execution_count": 122,
   "metadata": {},
   "outputs": [
    {
     "data": {
      "image/png": "[encoded data removed]",
      "text/plain": [
       "<matplotlib.figure.Figure at 0x158e4588>"
      ]
     },
     "metadata": {},
     "output_type": "display_data"
    },
    {
     "name": "stdout",
     "output_type": "stream",
     "text": [
      "Accuracy is 0.3417340605604664\n",
      "Best parameter is c = 70\n",
      "F1 score is 0.2602133320421949\n"
     ]
    },
    {
     "name": "stderr",
     "output_type": "stream",
     "text": [
      "D:\\Users\\ThinkPad\\Anaconda3\\lib\\site-packages\\sklearn\\metrics\\classification.py:1113: UndefinedMetricWarning: F-score is ill-defined and being set to 0.0 in labels with no predicted samples.\n",
      "  'precision', 'predicted', average, warn_for)\n"
     ]
    }
   ],
   "source": [
    "from sklearn.svm import LinearSVC\n",
    "import numpy as np\n",
    "scores = []\n",
    "rng = [1,10,50,70,100]\n",
    "for c in rng:    \n",
    "    l_svc = LinearSVC(C=c)\n",
    "    l_svc.fit(X_train_scaled, y_train)\n",
    "    y_pred = l_svc.predict(X_test_scaled)\n",
    "    scores.append(accuracy_score(y_test, y_pred))\n",
    "    #print(score)\n",
    "plt.plot(rng, scores)\n",
    "plt.title('Linear SVC')\n",
    "plt.xlabel('C')\n",
    "plt.ylabel('Accuracy score')\n",
    "plt.show()  \n",
    "acc_svc = max(scores)\n",
    "c_svc = rng[scores.index(max(scores))]\n",
    "# \n",
    "l_svc = LinearSVC(C=c_svc)\n",
    "l_svc.fit(X_train_scaled, y_train)\n",
    "y_pred = l_svc.predict(X_test_scaled)\n",
    "f1_svc = f1_score(y_test, y_pred, average = 'weighted')\n",
    "print('Accuracy is {}'.format(acc_svc))\n",
    "print('Best parameter is c = {}'.format(c_svc))\n",
    "print('F1 score is {}'.format(f1_svc))"
   ]
  },
  {
   "cell_type": "code",
   "execution_count": 124,
   "metadata": {},
   "outputs": [
    {
     "data": {
      "image/png": "[encoded data removed]",
      "text/plain": [
       "<matplotlib.figure.Figure at 0x15655ef0>"
      ]
     },
     "metadata": {},
     "output_type": "display_data"
    },
    {
     "name": "stdout",
     "output_type": "stream",
     "text": [
      "Accuracy is 0.3407936806469814\n",
      "Best parameter is c = 1\n",
      "F1 score is 0.28725673438287525\n"
     ]
    },
    {
     "name": "stderr",
     "output_type": "stream",
     "text": [
      "D:\\Users\\ThinkPad\\Anaconda3\\lib\\site-packages\\sklearn\\metrics\\classification.py:1113: UndefinedMetricWarning: F-score is ill-defined and being set to 0.0 in labels with no predicted samples.\n",
      "  'precision', 'predicted', average, warn_for)\n",
      "D:\\Users\\ThinkPad\\Anaconda3\\lib\\site-packages\\sklearn\\metrics\\classification.py:1115: UndefinedMetricWarning: F-score is ill-defined and being set to 0.0 in labels with no true samples.\n",
      "  'recall', 'true', average, warn_for)\n"
     ]
    }
   ],
   "source": [
    "from sklearn.linear_model import LogisticRegression\n",
    "import numpy as np\n",
    "scores = []\n",
    "rng = [0.1,1,3,5,10,15]\n",
    "for c in rng:    \n",
    "    lr = LogisticRegression(C=c)\n",
    "    lr.fit(X_train_scaled, y_train)\n",
    "    y_pred = lr.predict(X_test_scaled)\n",
    "    scores.append(accuracy_score(y_test, y_pred))\n",
    "    #print(score)\n",
    "plt.plot(rng, scores)\n",
    "plt.title('Logistic Regression')\n",
    "plt.xlabel('C')\n",
    "plt.ylabel('Accuracy score')\n",
    "plt.show()  \n",
    "acc_lr = max(scores)\n",
    "c_lr = rng[scores.index(max(scores))]\n",
    "# \n",
    "lr = LinearSVC(C=c_svc)\n",
    "lr.fit(X_train_scaled, y_train)\n",
    "y_pred = lr.predict(X_test_scaled)\n",
    "f1_lr = f1_score(y_test, y_pred, average = 'weighted')\n",
    "print('Accuracy is {}'.format(acc_lr))\n",
    "print('Best parameter is c = {}'.format(c_lr))\n",
    "print('F1 score is {}'.format(f1_lr))"
   ]
  },
  {
   "cell_type": "code",
   "execution_count": 126,
   "metadata": {},
   "outputs": [
    {
     "data": {
      "text/html": [
       "<div>\n",
       "<style>\n",
       "    .dataframe thead tr:only-child th {\n",
       "        text-align: right;\n",
       "    }\n",
       "\n",
       "    .dataframe thead th {\n",
       "        text-align: left;\n",
       "    }\n",
       "\n",
       "    .dataframe tbody tr th {\n",
       "        vertical-align: top;\n",
       "    }\n",
       "</style>\n",
       "<table border=\"1\" class=\"dataframe\">\n",
       "  <thead>\n",
       "    <tr style=\"text-align: right;\">\n",
       "      <th></th>\n",
       "      <th>F1 Score</th>\n",
       "      <th>Model</th>\n",
       "      <th>Score</th>\n",
       "    </tr>\n",
       "  </thead>\n",
       "  <tbody>\n",
       "    <tr>\n",
       "      <th>2</th>\n",
       "      <td>0.626588</td>\n",
       "      <td>Random Forest</td>\n",
       "      <td>0.637201</td>\n",
       "    </tr>\n",
       "    <tr>\n",
       "      <th>5</th>\n",
       "      <td>0.616304</td>\n",
       "      <td>Decision Tree</td>\n",
       "      <td>0.619710</td>\n",
       "    </tr>\n",
       "    <tr>\n",
       "      <th>1</th>\n",
       "      <td>0.605805</td>\n",
       "      <td>KNN</td>\n",
       "      <td>0.605605</td>\n",
       "    </tr>\n",
       "    <tr>\n",
       "      <th>0</th>\n",
       "      <td>0.260213</td>\n",
       "      <td>Linear SVC</td>\n",
       "      <td>0.341734</td>\n",
       "    </tr>\n",
       "    <tr>\n",
       "      <th>4</th>\n",
       "      <td>0.287257</td>\n",
       "      <td>Logistic Regression</td>\n",
       "      <td>0.340794</td>\n",
       "    </tr>\n",
       "    <tr>\n",
       "      <th>3</th>\n",
       "      <td>0.218295</td>\n",
       "      <td>AdaBoost</td>\n",
       "      <td>0.327816</td>\n",
       "    </tr>\n",
       "  </tbody>\n",
       "</table>\n",
       "</div>"
      ],
      "text/plain": [
       "   F1 Score                Model     Score\n",
       "2  0.626588        Random Forest  0.637201\n",
       "5  0.616304        Decision Tree  0.619710\n",
       "1  0.605805                  KNN  0.605605\n",
       "0  0.260213           Linear SVC  0.341734\n",
       "4  0.287257  Logistic Regression  0.340794\n",
       "3  0.218295             AdaBoost  0.327816"
      ]
     },
     "execution_count": 126,
     "metadata": {},
     "output_type": "execute_result"
    }
   ],
   "source": [
    "models = pd.DataFrame({\n",
    "    'Model': ['Linear SVC', 'KNN', 'Random Forest', 'AdaBoost', \n",
    "              'Logistic Regression', 'Decision Tree'],\n",
    "    'Score': [acc_svc,acc_knn, acc_forest, acc_boost, \n",
    "              acc_lr, acc_tree],\n",
    "    'F1 Score':[f1_svc, f1_knn, f1_forest, f1_boost, \n",
    "               f1_lr, f1_tree]})\n",
    "\n",
    "models.sort_values(by='Score', ascending=False)"
   ]
  },
  {
   "cell_type": "code",
   "execution_count": 127,
   "metadata": {},
   "outputs": [
    {
     "data": {
      "text/plain": [
       "'from sklearn.metrics import confusion_matrix\\ny_predicted = boost.predict(X_test_scaled)\\nconfusion = confusion_matrix(y_test, y_predicted)\\ndf_cm = pd.DataFrame(confusion)\\n#sns.set(font_scale=1.4)#for label size\\nplt.figure(figsize = (10,7))\\nsns.heatmap(df_cm)# font size\\n'"
      ]
     },
     "execution_count": 127,
     "metadata": {},
     "output_type": "execute_result"
    }
   ],
   "source": [
    "'''from sklearn.metrics import confusion_matrix\n",
    "y_predicted = boost.predict(X_test_scaled)\n",
    "confusion = confusion_matrix(y_test, y_predicted)\n",
    "df_cm = pd.DataFrame(confusion)\n",
    "#sns.set(font_scale=1.4)#for label size\n",
    "plt.figure(figsize = (10,7))\n",
    "sns.heatmap(df_cm)# font size\n",
    "'''"
   ]
  },
  {
   "cell_type": "code",
   "execution_count": null,
   "metadata": {},
   "outputs": [],
   "source": [
    "X.head()"
   ]
  },
  {
   "cell_type": "code",
   "execution_count": null,
   "metadata": {},
   "outputs": [],
   "source": [
    "from sklearn.neighbors import KNeighborsClassifier\n",
    "import time\n",
    "tic = time.time()\n",
    "knn = KNeighborsClassifier(1)\n",
    "knn.fit(X_train_scaled, y_train)\n",
    "score = knn.score(X_test_scaled, y_test)\n",
    "toc = time.time()\n",
    "print(toc - tic)\n",
    "print(score)"
   ]
  },
  {
   "cell_type": "code",
   "execution_count": null,
   "metadata": {},
   "outputs": [],
   "source": [
    "from sklearn.model_selection import GridSearchCV\n",
    "from sklearn.neighbors import KNeighborsClassifier\n",
    "grid_values = {'n_neighbors':[i for i in range(1, 20, 2)]}\n",
    "knn = KNeighborsClassifier()\n",
    "grid_acc = GridSearchCV(knn, param_grid = grid_values)\n",
    "grid_acc.fit(X_train_scaled, y_train)\n",
    "print('Grid best socre:', grid_acc.best_score_)\n",
    "print ('Grid best para', grid_acc.best_params_)"
   ]
  },
  {
   "cell_type": "code",
   "execution_count": null,
   "metadata": {},
   "outputs": [],
   "source": [
    "from sklearn.ensemble import RandomForestClassifier\n",
    "forest = RandomForestClassifier()\n",
    "forest.fit(X_train_scaled, y_train)\n",
    "forest.score(X_test_scaled, y_test)\n"
   ]
  },
  {
   "cell_type": "code",
   "execution_count": null,
   "metadata": {},
   "outputs": [],
   "source": [
    "from sklearn.metrics import f1_score, accuracy_score, roc_auc_score\n",
    "y_predicted = forest.predict(X_test_scaled)\n",
    "print('F1 socre is {:.3f}'.format(f1_score(y_test, y_predicted, average ='weighted')))\n",
    "print('Accuracy is {:.3f}'.format(accuracy_score(y_test, y_predicted)))\n",
    "#print('AUC is {:.3f}'.format(roc_auc_score(y_test, y_predicted, average = 'weighted')))\n"
   ]
  },
  {
   "cell_type": "code",
   "execution_count": null,
   "metadata": {},
   "outputs": [],
   "source": [
    "\"\"\"# draw a roc_curve, knn does not know how to do\n",
    "import matplotlib.pyplot as plt\n",
    "from sklearn.metrics import roc_curve, auc\n",
    "from sklearn.multiclass import OneVsRestClassifier\n",
    "forest = OneVsRestClassifier(RandomForestClassifier())\n",
    "forest.fit(X_train_scaled, y_train)\n",
    "y_score = forest.predict_proba(X_test_scaled)[:,1]\n",
    "fpr, tpr, _ = roc_curve(y_test[:,1], y_score)\n",
    "roc_auc = auc(fpr, tpr)\n",
    "plt.figure()\n",
    "plt.xlim([-0.01, 1.00])\n",
    "plt.ylim([-0.01, 1.00])\n",
    "plt.plot(fpr, tpr, lw=3, label='ROC curve (area={:0.2f})'.format(roc_auc))\n",
    "plt.xlabel('False Positive Rate', fontsize = 16)\n",
    "plt.ylabel('True Positive Rate', fontsize = 16)\n",
    "plt.legend(loc='lower right', fontsize=13)\n",
    "plt.plot([0, 1], [0,1], color='navy', lw=3, linestyle = '--')\n",
    "plt.show()\"\"\"\n"
   ]
  },
  {
   "cell_type": "code",
   "execution_count": null,
   "metadata": {},
   "outputs": [],
   "source": []
  },
  {
   "cell_type": "code",
   "execution_count": null,
   "metadata": {},
   "outputs": [],
   "source": [
    "y.unique()"
   ]
  },
  {
   "cell_type": "code",
   "execution_count": null,
   "metadata": {
    "collapsed": true
   },
   "outputs": [],
   "source": [
    "X.to_csv(\"data.csv\")\n",
    "y.to_csv('label.csv')"
   ]
  },
  {
   "cell_type": "code",
   "execution_count": null,
   "metadata": {},
   "outputs": [],
   "source": [
    "X.head()"
   ]
  },
  {
   "cell_type": "code",
   "execution_count": null,
   "metadata": {},
   "outputs": [],
   "source": [
    "df_consol.head()"
   ]
  },
  {
   "cell_type": "code",
   "execution_count": null,
   "metadata": {
    "collapsed": true
   },
   "outputs": [],
   "source": []
  }
 ],
 "metadata": {
  "kernelspec": {
   "display_name": "Python 3",
   "language": "python",
   "name": "python3"
  },
  "language_info": {
   "codemirror_mode": {
    "name": "ipython",
    "version": 3
   },
   "file_extension": ".py",
   "mimetype": "text/x-python",
   "name": "python",
   "nbconvert_exporter": "python",
   "pygments_lexer": "ipython3",
   "version": "3.6.1"
  }
 },
 "nbformat": 4,
 "nbformat_minor": 2
}
