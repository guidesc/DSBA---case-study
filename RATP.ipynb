{
 "cells": [
  {
   "cell_type": "code",
   "execution_count": 1,
   "metadata": {
    "scrolled": true
   },
   "outputs": [
    {
     "name": "stderr",
     "output_type": "stream",
     "text": [
      "b'Skipping line 4313: expected 10 fields, saw 11\\n'\n",
      "b'Skipping line 1089: expected 10 fields, saw 11\\nSkipping line 4918: expected 10 fields, saw 11\\nSkipping line 7193: expected 10 fields, saw 11\\n'\n",
      "b'Skipping line 11823: expected 10 fields, saw 11\\nSkipping line 12791: expected 10 fields, saw 11\\nSkipping line 17202: expected 10 fields, saw 11\\nSkipping line 17564: expected 10 fields, saw 11\\nSkipping line 17567: expected 10 fields, saw 11\\nSkipping line 17835: expected 10 fields, saw 11\\nSkipping line 17848: expected 10 fields, saw 11\\nSkipping line 18418: expected 10 fields, saw 11\\nSkipping line 18430: expected 10 fields, saw 11\\nSkipping line 18509: expected 10 fields, saw 11\\nSkipping line 18599: expected 10 fields, saw 11\\nSkipping line 18880: expected 10 fields, saw 11\\nSkipping line 18920: expected 10 fields, saw 11\\nSkipping line 19707: expected 10 fields, saw 11\\n'\n",
      "b'Skipping line 4081: expected 10 fields, saw 11\\nSkipping line 10409: expected 10 fields, saw 11\\nSkipping line 14147: expected 10 fields, saw 11\\nSkipping line 16851: expected 10 fields, saw 11\\nSkipping line 17961: expected 10 fields, saw 11\\nSkipping line 18574: expected 10 fields, saw 11\\nSkipping line 18658: expected 10 fields, saw 11\\nSkipping line 21004: expected 10 fields, saw 11\\nSkipping line 21895: expected 10 fields, saw 11\\nSkipping line 23069: expected 10 fields, saw 11\\n'\n",
      "b'Skipping line 5159: expected 10 fields, saw 11\\nSkipping line 7458: expected 10 fields, saw 11\\nSkipping line 7672: expected 10 fields, saw 11\\n'\n",
      "b'Skipping line 428: expected 10 fields, saw 11\\n'\n"
     ]
    }
   ],
   "source": [
    "import pandas as pd\n",
    "import seaborn as sns\n",
    "import matplotlib.pyplot as plt\n",
    "import numpy as np\n",
    "\n",
    "# ---- Summary of the twitter accounts -----#\n",
    "# RER_A\n",
    "# RERB\n",
    "# RERC_SNCF --< Infotrafic\n",
    "# RERD_SNCF --< Infotrafic\n",
    "# RERE_SNCF --< Infotrafic\n",
    "# Ligne12_RATP --< from 1 to 14 lines\n",
    "\n",
    "line_list = ['RER_A', 'RER_B', 'RER_C', 'RER_D', 'RER_E','Ligne1_RATP', 'Ligne2_RATP', 'Ligne3_RATP', 'Ligne4_RATP',\n",
    " 'Ligne5_RATP', 'Ligne6_RATP', 'Ligne7_RATP', 'Ligne8_RATP', 'Ligne9_RATP', 'Ligne10_RATP', 'Ligne11_RATP', 'Ligne12_RATP',\n",
    " 'Ligne13_RATP', 'Ligne14_RATP' ]\n",
    "\n",
    "file_path = \"data/\"\n",
    "line_dict = dict()\n",
    "for item in line_list:\n",
    "    line_dict[item] = pd.read_csv(file_path + item +'.csv', sep=';',error_bad_lines=False)\n",
    "    \n"
   ]
  },
  {
   "cell_type": "code",
   "execution_count": 2,
   "metadata": {},
   "outputs": [
    {
     "name": "stdout",
     "output_type": "stream",
     "text": [
      "RER_A (21028, 10)\n",
      "RER_B (15540, 10)\n",
      "RER_C (23086, 10)\n",
      "RER_D (23306, 10)\n",
      "RER_E (8497, 10)\n",
      "Ligne1_RATP (7436, 10)\n",
      "Ligne2_RATP (5518, 10)\n",
      "Ligne3_RATP (5043, 10)\n",
      "Ligne4_RATP (9091, 10)\n",
      "Ligne5_RATP (5998, 10)\n",
      "Ligne6_RATP (6977, 10)\n",
      "Ligne7_RATP (5963, 10)\n",
      "Ligne8_RATP (5903, 10)\n",
      "Ligne9_RATP (5642, 10)\n",
      "Ligne10_RATP (3950, 10)\n",
      "Ligne11_RATP (3812, 10)\n",
      "Ligne12_RATP (6335, 10)\n",
      "Ligne13_RATP (6992, 10)\n",
      "Ligne14_RATP (4927, 10)\n"
     ]
    }
   ],
   "source": [
    "# Check how many items we have\n",
    "for k,v in line_dict.items():\n",
    "    print(k, v.shape)\n",
    "    #print(v.head())"
   ]
  },
  {
   "cell_type": "code",
   "execution_count": 3,
   "metadata": {},
   "outputs": [
    {
     "data": {
      "text/html": [
       "<div>\n",
       "<style>\n",
       "    .dataframe thead tr:only-child th {\n",
       "        text-align: right;\n",
       "    }\n",
       "\n",
       "    .dataframe thead th {\n",
       "        text-align: left;\n",
       "    }\n",
       "\n",
       "    .dataframe tbody tr th {\n",
       "        vertical-align: top;\n",
       "    }\n",
       "</style>\n",
       "<table border=\"1\" class=\"dataframe\">\n",
       "  <thead>\n",
       "    <tr style=\"text-align: right;\">\n",
       "      <th></th>\n",
       "      <th>username</th>\n",
       "      <th>date</th>\n",
       "      <th>retweets</th>\n",
       "      <th>favorites</th>\n",
       "      <th>text</th>\n",
       "      <th>geo</th>\n",
       "      <th>mentions</th>\n",
       "      <th>hashtags</th>\n",
       "      <th>id</th>\n",
       "      <th>permalink</th>\n",
       "    </tr>\n",
       "  </thead>\n",
       "  <tbody>\n",
       "    <tr>\n",
       "      <th>0</th>\n",
       "      <td>Ligne11_RATP</td>\n",
       "      <td>2017-10-10 12:19</td>\n",
       "      <td>0</td>\n",
       "      <td>0</td>\n",
       "      <td>Bonjour, la #Ligne11 fonctionne correctement, ...</td>\n",
       "      <td>NaN</td>\n",
       "      <td>NaN</td>\n",
       "      <td>#Ligne11</td>\n",
       "      <td>9.176961e+17</td>\n",
       "      <td>https://twitter.com/Ligne11_RATP/status/917696...</td>\n",
       "    </tr>\n",
       "    <tr>\n",
       "      <th>1</th>\n",
       "      <td>Ligne11_RATP</td>\n",
       "      <td>2017-10-09 14:22</td>\n",
       "      <td>0</td>\n",
       "      <td>1</td>\n",
       "      <td>Demain, le trafic sera normal sur votre #ligne...</td>\n",
       "      <td>NaN</td>\n",
       "      <td>NaN</td>\n",
       "      <td>#ligne11 #RATP #greve10octobre</td>\n",
       "      <td>9.173647e+17</td>\n",
       "      <td>https://twitter.com/Ligne11_RATP/status/917364...</td>\n",
       "    </tr>\n",
       "    <tr>\n",
       "      <th>2</th>\n",
       "      <td>Ligne11_RATP</td>\n",
       "      <td>2017-10-08 12:58</td>\n",
       "      <td>0</td>\n",
       "      <td>1</td>\n",
       "      <td>Retour à un trafic régulier sur l'ensemble de ...</td>\n",
       "      <td>NaN</td>\n",
       "      <td>NaN</td>\n",
       "      <td>#Ligne11 #RATP</td>\n",
       "      <td>9.169811e+17</td>\n",
       "      <td>https://twitter.com/Ligne11_RATP/status/916981...</td>\n",
       "    </tr>\n",
       "    <tr>\n",
       "      <th>3</th>\n",
       "      <td>Ligne11_RATP</td>\n",
       "      <td>2017-10-08 12:51</td>\n",
       "      <td>1</td>\n",
       "      <td>0</td>\n",
       "      <td>12:51, Retour à un trafic régulier sur l'ensem...</td>\n",
       "      <td>NaN</td>\n",
       "      <td>NaN</td>\n",
       "      <td>#Ligne11 #RATP</td>\n",
       "      <td>9.169795e+17</td>\n",
       "      <td>https://twitter.com/Ligne11_RATP/status/916979...</td>\n",
       "    </tr>\n",
       "    <tr>\n",
       "      <th>4</th>\n",
       "      <td>Ligne11_RATP</td>\n",
       "      <td>2017-10-08 12:45</td>\n",
       "      <td>1</td>\n",
       "      <td>0</td>\n",
       "      <td>12:43, le trafic reprend progressivement (coli...</td>\n",
       "      <td>NaN</td>\n",
       "      <td>NaN</td>\n",
       "      <td>#RATP #Ligne11</td>\n",
       "      <td>9.169778e+17</td>\n",
       "      <td>https://twitter.com/Ligne11_RATP/status/916977...</td>\n",
       "    </tr>\n",
       "  </tbody>\n",
       "</table>\n",
       "</div>"
      ],
      "text/plain": [
       "       username              date  retweets  favorites  \\\n",
       "0  Ligne11_RATP  2017-10-10 12:19         0          0   \n",
       "1  Ligne11_RATP  2017-10-09 14:22         0          1   \n",
       "2  Ligne11_RATP  2017-10-08 12:58         0          1   \n",
       "3  Ligne11_RATP  2017-10-08 12:51         1          0   \n",
       "4  Ligne11_RATP  2017-10-08 12:45         1          0   \n",
       "\n",
       "                                                text  geo mentions  \\\n",
       "0  Bonjour, la #Ligne11 fonctionne correctement, ...  NaN      NaN   \n",
       "1  Demain, le trafic sera normal sur votre #ligne...  NaN      NaN   \n",
       "2  Retour à un trafic régulier sur l'ensemble de ...  NaN      NaN   \n",
       "3  12:51, Retour à un trafic régulier sur l'ensem...  NaN      NaN   \n",
       "4  12:43, le trafic reprend progressivement (coli...  NaN      NaN   \n",
       "\n",
       "                         hashtags            id  \\\n",
       "0                        #Ligne11  9.176961e+17   \n",
       "1  #ligne11 #RATP #greve10octobre  9.173647e+17   \n",
       "2                  #Ligne11 #RATP  9.169811e+17   \n",
       "3                  #Ligne11 #RATP  9.169795e+17   \n",
       "4                  #RATP #Ligne11  9.169778e+17   \n",
       "\n",
       "                                           permalink  \n",
       "0  https://twitter.com/Ligne11_RATP/status/917696...  \n",
       "1  https://twitter.com/Ligne11_RATP/status/917364...  \n",
       "2  https://twitter.com/Ligne11_RATP/status/916981...  \n",
       "3  https://twitter.com/Ligne11_RATP/status/916979...  \n",
       "4  https://twitter.com/Ligne11_RATP/status/916977...  "
      ]
     },
     "execution_count": 3,
     "metadata": {},
     "output_type": "execute_result"
    }
   ],
   "source": [
    "line_dict['Ligne11_RATP'].head()"
   ]
  },
  {
   "cell_type": "code",
   "execution_count": null,
   "metadata": {
    "collapsed": true
   },
   "outputs": [],
   "source": []
  }
 ],
 "metadata": {
  "kernelspec": {
   "display_name": "Python 3",
   "language": "python",
   "name": "python3"
  },
  "language_info": {
   "codemirror_mode": {
    "name": "ipython",
    "version": 3
   },
   "file_extension": ".py",
   "mimetype": "text/x-python",
   "name": "python",
   "nbconvert_exporter": "python",
   "pygments_lexer": "ipython3",
   "version": "3.6.1"
  }
 },
 "nbformat": 4,
 "nbformat_minor": 2
}
